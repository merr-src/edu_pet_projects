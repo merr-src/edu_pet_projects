{
 "cells": [
  {
   "cell_type": "markdown",
   "metadata": {},
   "source": [
    "## Analytics in terms of B-index"
   ]
  },
  {
   "cell_type": "markdown",
   "metadata": {},
   "source": [
    "### 1. \"Solid breakfast\" McD combination set "
   ]
  },
  {
   "cell_type": "code",
   "execution_count": 13,
   "metadata": {
    "ExecuteTime": {
     "end_time": "2019-10-07T18:44:37.610433Z",
     "start_time": "2019-10-07T18:44:37.595432Z"
    }
   },
   "outputs": [],
   "source": [
    "# required imports\n",
    "import pandas as pd\n",
    "from matplotlib import pyplot as plt\n",
    "%matplotlib inline"
   ]
  },
  {
   "cell_type": "code",
   "execution_count": 14,
   "metadata": {
    "ExecuteTime": {
     "end_time": "2019-10-07T18:44:37.821445Z",
     "start_time": "2019-10-07T18:44:37.615434Z"
    }
   },
   "outputs": [],
   "source": [
    "# list with 24 combinations of 3 items, they specified in same order \n",
    "# as B_index cols in df below --> 1-st col 'SB_solid_b_0' and so on\n",
    "\n",
    "combi_list = []\n",
    "\n",
    "with open ('McD_solid_b_8.txt', 'r') as f:\n",
    "    for line in f:\n",
    "        line = line[:-1]\n",
    "        combi_list.append (line)\n",
    "    f.close()"
   ]
  },
  {
   "cell_type": "code",
   "execution_count": 15,
   "metadata": {
    "ExecuteTime": {
     "end_time": "2019-10-07T18:44:37.945452Z",
     "start_time": "2019-10-07T18:44:37.828446Z"
    }
   },
   "outputs": [
    {
     "data": {
      "text/html": [
       "<div>\n",
       "<style scoped>\n",
       "    .dataframe tbody tr th:only-of-type {\n",
       "        vertical-align: middle;\n",
       "    }\n",
       "\n",
       "    .dataframe tbody tr th {\n",
       "        vertical-align: top;\n",
       "    }\n",
       "\n",
       "    .dataframe thead th {\n",
       "        text-align: right;\n",
       "    }\n",
       "</style>\n",
       "<table border=\"1\" class=\"dataframe\">\n",
       "  <thead>\n",
       "    <tr style=\"text-align: right;\">\n",
       "      <th></th>\n",
       "      <th>('Hot Big Breakfast', 'Cold Drinks')</th>\n",
       "      <th>('Hot Big Breakfast', 'Hot Drinks')</th>\n",
       "      <th>('Hot Breakfast', 'Cold Drinks')</th>\n",
       "      <th>('Hot Breakfast', 'Hot Drinks')</th>\n",
       "      <th>('Sandwiches', 'Cold Drinks')</th>\n",
       "      <th>('Sandwiches', 'Hot Drinks')</th>\n",
       "      <th>('Burgers', 'Cold Drinks')</th>\n",
       "      <th>('Burgers', 'Hot Drinks')</th>\n",
       "    </tr>\n",
       "  </thead>\n",
       "  <tbody>\n",
       "    <tr>\n",
       "      <th>0</th>\n",
       "      <td>2.123810</td>\n",
       "      <td>2.056458</td>\n",
       "      <td>1.548942</td>\n",
       "      <td>1.546286</td>\n",
       "      <td>2.513948</td>\n",
       "      <td>2.497708</td>\n",
       "      <td>1.230943</td>\n",
       "      <td>1.231786</td>\n",
       "    </tr>\n",
       "    <tr>\n",
       "      <th>1</th>\n",
       "      <td>2.086886</td>\n",
       "      <td>2.033905</td>\n",
       "      <td>1.480922</td>\n",
       "      <td>1.501640</td>\n",
       "      <td>2.436388</td>\n",
       "      <td>2.446063</td>\n",
       "      <td>1.184330</td>\n",
       "      <td>1.202014</td>\n",
       "    </tr>\n",
       "    <tr>\n",
       "      <th>2</th>\n",
       "      <td>2.052969</td>\n",
       "      <td>2.014912</td>\n",
       "      <td>1.423276</td>\n",
       "      <td>1.466448</td>\n",
       "      <td>2.372183</td>\n",
       "      <td>2.406038</td>\n",
       "      <td>1.142048</td>\n",
       "      <td>1.177547</td>\n",
       "    </tr>\n",
       "    <tr>\n",
       "      <th>3</th>\n",
       "      <td>2.155704</td>\n",
       "      <td>2.157579</td>\n",
       "      <td>1.616220</td>\n",
       "      <td>1.622719</td>\n",
       "      <td>2.593110</td>\n",
       "      <td>2.601140</td>\n",
       "      <td>1.274022</td>\n",
       "      <td>1.278034</td>\n",
       "    </tr>\n",
       "    <tr>\n",
       "      <th>4</th>\n",
       "      <td>2.286833</td>\n",
       "      <td>1.409036</td>\n",
       "      <td>2.001169</td>\n",
       "      <td>1.370052</td>\n",
       "      <td>3.095288</td>\n",
       "      <td>1.807966</td>\n",
       "      <td>1.473595</td>\n",
       "      <td>1.120291</td>\n",
       "    </tr>\n",
       "  </tbody>\n",
       "</table>\n",
       "</div>"
      ],
      "text/plain": [
       "   ('Hot Big Breakfast', 'Cold Drinks')  ('Hot Big Breakfast', 'Hot Drinks')  \\\n",
       "0                              2.123810                             2.056458   \n",
       "1                              2.086886                             2.033905   \n",
       "2                              2.052969                             2.014912   \n",
       "3                              2.155704                             2.157579   \n",
       "4                              2.286833                             1.409036   \n",
       "\n",
       "   ('Hot Breakfast', 'Cold Drinks')  ('Hot Breakfast', 'Hot Drinks')  \\\n",
       "0                          1.548942                         1.546286   \n",
       "1                          1.480922                         1.501640   \n",
       "2                          1.423276                         1.466448   \n",
       "3                          1.616220                         1.622719   \n",
       "4                          2.001169                         1.370052   \n",
       "\n",
       "   ('Sandwiches', 'Cold Drinks')  ('Sandwiches', 'Hot Drinks')  \\\n",
       "0                       2.513948                      2.497708   \n",
       "1                       2.436388                      2.446063   \n",
       "2                       2.372183                      2.406038   \n",
       "3                       2.593110                      2.601140   \n",
       "4                       3.095288                      1.807966   \n",
       "\n",
       "   ('Burgers', 'Cold Drinks')  ('Burgers', 'Hot Drinks')  \n",
       "0                    1.230943                   1.231786  \n",
       "1                    1.184330                   1.202014  \n",
       "2                    1.142048                   1.177547  \n",
       "3                    1.274022                   1.278034  \n",
       "4                    1.473595                   1.120291  "
      ]
     },
     "execution_count": 15,
     "metadata": {},
     "output_type": "execute_result"
    }
   ],
   "source": [
    "McD_solid_b_8 = pd.read_csv ('McD_solid_b_8.csv',  skiprows=1, names=combi_list , sep=(','))\n",
    "McD_solid_b_8.head()"
   ]
  },
  {
   "cell_type": "code",
   "execution_count": 16,
   "metadata": {
    "ExecuteTime": {
     "end_time": "2019-10-07T18:44:38.119462Z",
     "start_time": "2019-10-07T18:44:37.947453Z"
    }
   },
   "outputs": [
    {
     "data": {
      "text/html": [
       "<div>\n",
       "<style scoped>\n",
       "    .dataframe tbody tr th:only-of-type {\n",
       "        vertical-align: middle;\n",
       "    }\n",
       "\n",
       "    .dataframe tbody tr th {\n",
       "        vertical-align: top;\n",
       "    }\n",
       "\n",
       "    .dataframe thead th {\n",
       "        text-align: right;\n",
       "    }\n",
       "</style>\n",
       "<table border=\"1\" class=\"dataframe\">\n",
       "  <thead>\n",
       "    <tr style=\"text-align: right;\">\n",
       "      <th></th>\n",
       "      <th>('Hot Big Breakfast', 'Cold Drinks')</th>\n",
       "      <th>('Hot Big Breakfast', 'Hot Drinks')</th>\n",
       "      <th>('Hot Breakfast', 'Cold Drinks')</th>\n",
       "      <th>('Hot Breakfast', 'Hot Drinks')</th>\n",
       "      <th>('Sandwiches', 'Cold Drinks')</th>\n",
       "      <th>('Sandwiches', 'Hot Drinks')</th>\n",
       "      <th>('Burgers', 'Cold Drinks')</th>\n",
       "      <th>('Burgers', 'Hot Drinks')</th>\n",
       "    </tr>\n",
       "  </thead>\n",
       "  <tbody>\n",
       "    <tr>\n",
       "      <th>count</th>\n",
       "      <td>172.000000</td>\n",
       "      <td>104.000000</td>\n",
       "      <td>172.000000</td>\n",
       "      <td>172.000000</td>\n",
       "      <td>172.000000</td>\n",
       "      <td>172.000000</td>\n",
       "      <td>172.000000</td>\n",
       "      <td>172.000000</td>\n",
       "    </tr>\n",
       "    <tr>\n",
       "      <th>mean</th>\n",
       "      <td>1.412596</td>\n",
       "      <td>1.214056</td>\n",
       "      <td>1.426607</td>\n",
       "      <td>1.209548</td>\n",
       "      <td>3.010991</td>\n",
       "      <td>1.607012</td>\n",
       "      <td>1.098612</td>\n",
       "      <td>1.286511</td>\n",
       "    </tr>\n",
       "    <tr>\n",
       "      <th>std</th>\n",
       "      <td>0.416559</td>\n",
       "      <td>0.277678</td>\n",
       "      <td>0.405153</td>\n",
       "      <td>0.220527</td>\n",
       "      <td>1.987928</td>\n",
       "      <td>0.708499</td>\n",
       "      <td>0.211664</td>\n",
       "      <td>0.455197</td>\n",
       "    </tr>\n",
       "    <tr>\n",
       "      <th>min</th>\n",
       "      <td>0.718745</td>\n",
       "      <td>0.825733</td>\n",
       "      <td>0.742023</td>\n",
       "      <td>0.867638</td>\n",
       "      <td>0.954345</td>\n",
       "      <td>0.896880</td>\n",
       "      <td>0.675583</td>\n",
       "      <td>0.787503</td>\n",
       "    </tr>\n",
       "    <tr>\n",
       "      <th>25%</th>\n",
       "      <td>1.069932</td>\n",
       "      <td>1.003643</td>\n",
       "      <td>1.072953</td>\n",
       "      <td>1.042556</td>\n",
       "      <td>1.628853</td>\n",
       "      <td>1.225811</td>\n",
       "      <td>0.910972</td>\n",
       "      <td>0.955772</td>\n",
       "    </tr>\n",
       "    <tr>\n",
       "      <th>50%</th>\n",
       "      <td>1.313963</td>\n",
       "      <td>1.117812</td>\n",
       "      <td>1.421159</td>\n",
       "      <td>1.176312</td>\n",
       "      <td>2.424845</td>\n",
       "      <td>1.475846</td>\n",
       "      <td>1.114189</td>\n",
       "      <td>1.080174</td>\n",
       "    </tr>\n",
       "    <tr>\n",
       "      <th>75%</th>\n",
       "      <td>1.698773</td>\n",
       "      <td>1.343218</td>\n",
       "      <td>1.677689</td>\n",
       "      <td>1.330005</td>\n",
       "      <td>3.275817</td>\n",
       "      <td>1.788624</td>\n",
       "      <td>1.243219</td>\n",
       "      <td>1.561318</td>\n",
       "    </tr>\n",
       "    <tr>\n",
       "      <th>max</th>\n",
       "      <td>2.288234</td>\n",
       "      <td>2.157579</td>\n",
       "      <td>2.288532</td>\n",
       "      <td>1.889690</td>\n",
       "      <td>8.468127</td>\n",
       "      <td>7.385556</td>\n",
       "      <td>1.474129</td>\n",
       "      <td>2.996821</td>\n",
       "    </tr>\n",
       "  </tbody>\n",
       "</table>\n",
       "</div>"
      ],
      "text/plain": [
       "       ('Hot Big Breakfast', 'Cold Drinks')  \\\n",
       "count                            172.000000   \n",
       "mean                               1.412596   \n",
       "std                                0.416559   \n",
       "min                                0.718745   \n",
       "25%                                1.069932   \n",
       "50%                                1.313963   \n",
       "75%                                1.698773   \n",
       "max                                2.288234   \n",
       "\n",
       "       ('Hot Big Breakfast', 'Hot Drinks')  ('Hot Breakfast', 'Cold Drinks')  \\\n",
       "count                           104.000000                        172.000000   \n",
       "mean                              1.214056                          1.426607   \n",
       "std                               0.277678                          0.405153   \n",
       "min                               0.825733                          0.742023   \n",
       "25%                               1.003643                          1.072953   \n",
       "50%                               1.117812                          1.421159   \n",
       "75%                               1.343218                          1.677689   \n",
       "max                               2.157579                          2.288532   \n",
       "\n",
       "       ('Hot Breakfast', 'Hot Drinks')  ('Sandwiches', 'Cold Drinks')  \\\n",
       "count                       172.000000                     172.000000   \n",
       "mean                          1.209548                       3.010991   \n",
       "std                           0.220527                       1.987928   \n",
       "min                           0.867638                       0.954345   \n",
       "25%                           1.042556                       1.628853   \n",
       "50%                           1.176312                       2.424845   \n",
       "75%                           1.330005                       3.275817   \n",
       "max                           1.889690                       8.468127   \n",
       "\n",
       "       ('Sandwiches', 'Hot Drinks')  ('Burgers', 'Cold Drinks')  \\\n",
       "count                    172.000000                  172.000000   \n",
       "mean                       1.607012                    1.098612   \n",
       "std                        0.708499                    0.211664   \n",
       "min                        0.896880                    0.675583   \n",
       "25%                        1.225811                    0.910972   \n",
       "50%                        1.475846                    1.114189   \n",
       "75%                        1.788624                    1.243219   \n",
       "max                        7.385556                    1.474129   \n",
       "\n",
       "       ('Burgers', 'Hot Drinks')  \n",
       "count                 172.000000  \n",
       "mean                    1.286511  \n",
       "std                     0.455197  \n",
       "min                     0.787503  \n",
       "25%                     0.955772  \n",
       "50%                     1.080174  \n",
       "75%                     1.561318  \n",
       "max                     2.996821  "
      ]
     },
     "execution_count": 16,
     "metadata": {},
     "output_type": "execute_result"
    }
   ],
   "source": [
    "# cols of different length!\n",
    "McD_solid_b_8.describe()"
   ]
  },
  {
   "cell_type": "code",
   "execution_count": 17,
   "metadata": {
    "ExecuteTime": {
     "end_time": "2019-10-07T18:44:38.476483Z",
     "start_time": "2019-10-07T18:44:38.121462Z"
    },
    "scrolled": true
   },
   "outputs": [
    {
     "data": {
      "text/plain": [
       "<matplotlib.axes._subplots.AxesSubplot at 0x939b358>"
      ]
     },
     "execution_count": 17,
     "metadata": {},
     "output_type": "execute_result"
    },
    {
     "data": {
      "image/png": "[encoded data removed]",
      "text/plain": [
       "<Figure size 576x288 with 1 Axes>"
      ]
     },
     "metadata": {
      "needs_background": "light"
     },
     "output_type": "display_data"
    }
   ],
   "source": [
    "# B_index mean values for all groups\n",
    "cols = pd.Index.to_list(McD_solid_b_8.columns[0:])\n",
    "McD_solid_b_8[cols].mean().plot(kind = 'bar', subplots = False, width = 0.5, figsize = (8,4), grid = True)"
   ]
  },
  {
   "cell_type": "code",
   "execution_count": 18,
   "metadata": {
    "ExecuteTime": {
     "end_time": "2019-10-07T18:44:38.520485Z",
     "start_time": "2019-10-07T18:44:38.478483Z"
    },
    "scrolled": true
   },
   "outputs": [
    {
     "data": {
      "text/html": [
       "<div>\n",
       "<style scoped>\n",
       "    .dataframe tbody tr th:only-of-type {\n",
       "        vertical-align: middle;\n",
       "    }\n",
       "\n",
       "    .dataframe tbody tr th {\n",
       "        vertical-align: top;\n",
       "    }\n",
       "\n",
       "    .dataframe thead th {\n",
       "        text-align: right;\n",
       "    }\n",
       "</style>\n",
       "<table border=\"1\" class=\"dataframe\">\n",
       "  <thead>\n",
       "    <tr style=\"text-align: right;\">\n",
       "      <th></th>\n",
       "      <th>('Hot Big Breakfast', 'Hot Drinks')</th>\n",
       "      <th>('Hot Breakfast', 'Hot Drinks')</th>\n",
       "      <th>('Burgers', 'Cold Drinks')</th>\n",
       "    </tr>\n",
       "  </thead>\n",
       "  <tbody>\n",
       "    <tr>\n",
       "      <th>count</th>\n",
       "      <td>104.000000</td>\n",
       "      <td>172.000000</td>\n",
       "      <td>172.000000</td>\n",
       "    </tr>\n",
       "    <tr>\n",
       "      <th>mean</th>\n",
       "      <td>1.214056</td>\n",
       "      <td>1.209548</td>\n",
       "      <td>1.098612</td>\n",
       "    </tr>\n",
       "    <tr>\n",
       "      <th>std</th>\n",
       "      <td>0.277678</td>\n",
       "      <td>0.220527</td>\n",
       "      <td>0.211664</td>\n",
       "    </tr>\n",
       "    <tr>\n",
       "      <th>min</th>\n",
       "      <td>0.825733</td>\n",
       "      <td>0.867638</td>\n",
       "      <td>0.675583</td>\n",
       "    </tr>\n",
       "    <tr>\n",
       "      <th>25%</th>\n",
       "      <td>1.003643</td>\n",
       "      <td>1.042556</td>\n",
       "      <td>0.910972</td>\n",
       "    </tr>\n",
       "    <tr>\n",
       "      <th>50%</th>\n",
       "      <td>1.117812</td>\n",
       "      <td>1.176312</td>\n",
       "      <td>1.114189</td>\n",
       "    </tr>\n",
       "    <tr>\n",
       "      <th>75%</th>\n",
       "      <td>1.343218</td>\n",
       "      <td>1.330005</td>\n",
       "      <td>1.243219</td>\n",
       "    </tr>\n",
       "    <tr>\n",
       "      <th>max</th>\n",
       "      <td>2.157579</td>\n",
       "      <td>1.889690</td>\n",
       "      <td>1.474129</td>\n",
       "    </tr>\n",
       "  </tbody>\n",
       "</table>\n",
       "</div>"
      ],
      "text/plain": [
       "       ('Hot Big Breakfast', 'Hot Drinks')  ('Hot Breakfast', 'Hot Drinks')  \\\n",
       "count                           104.000000                       172.000000   \n",
       "mean                              1.214056                         1.209548   \n",
       "std                               0.277678                         0.220527   \n",
       "min                               0.825733                         0.867638   \n",
       "25%                               1.003643                         1.042556   \n",
       "50%                               1.117812                         1.176312   \n",
       "75%                               1.343218                         1.330005   \n",
       "max                               2.157579                         1.889690   \n",
       "\n",
       "       ('Burgers', 'Cold Drinks')  \n",
       "count                  172.000000  \n",
       "mean                     1.098612  \n",
       "std                      0.211664  \n",
       "min                      0.675583  \n",
       "25%                      0.910972  \n",
       "50%                      1.114189  \n",
       "75%                      1.243219  \n",
       "max                      1.474129  "
      ]
     },
     "execution_count": 18,
     "metadata": {},
     "output_type": "execute_result"
    }
   ],
   "source": [
    "# above cutoff:\n",
    "above_cut = (McD_solid_b_8.mean() > 1.25)\n",
    "above_drop_list = [col for col in above_cut]\n",
    "a = above_cut.loc[above_drop_list]\n",
    "above_drop = pd.Index.to_list(a.index)\n",
    "\n",
    "# bellow cutoff:\n",
    "bellow_cut = (McD_solid_b_8.mean() < 0.75)\n",
    "bellow_drop_list = [col for col in bellow_cut]\n",
    "b = bellow_cut.loc[bellow_drop_list]\n",
    "bellow_drop = pd.Index.to_list(b.index)\n",
    "\n",
    "# deleting columns:\n",
    "McD_solid_b_8.drop (columns = above_drop, inplace=True)\n",
    "McD_solid_b_best = McD_solid_b_8\n",
    "McD_solid_b_best.describe()"
   ]
  },
  {
   "cell_type": "code",
   "execution_count": 19,
   "metadata": {
    "ExecuteTime": {
     "end_time": "2019-10-07T18:44:38.607490Z",
     "start_time": "2019-10-07T18:44:38.522485Z"
    }
   },
   "outputs": [],
   "source": [
    "McD_solid_b_best.to_csv ('McD_solid_b_best.csv')"
   ]
  }
 ],
 "metadata": {
  "hide_input": false,
  "kernelspec": {
   "display_name": "Python 3",
   "language": "python",
   "name": "python3"
  },
  "language_info": {
   "codemirror_mode": {
    "name": "ipython",
    "version": 3
   },
   "file_extension": ".py",
   "mimetype": "text/x-python",
   "name": "python",
   "nbconvert_exporter": "python",
   "pygments_lexer": "ipython3",
   "version": "3.7.1"
  }
 },
 "nbformat": 4,
 "nbformat_minor": 2
}
