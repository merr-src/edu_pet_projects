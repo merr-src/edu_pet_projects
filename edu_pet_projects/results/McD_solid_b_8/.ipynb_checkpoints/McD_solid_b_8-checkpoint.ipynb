{
 "cells": [
  {
   "cell_type": "markdown",
   "metadata": {},
   "source": [
    "## Analytics in terms of B-index"
   ]
  },
  {
   "cell_type": "markdown",
   "metadata": {},
   "source": [
    "### 1. \"Solid breakfast\" McD combination set "
   ]
  },
  {
   "cell_type": "code",
   "execution_count": 1,
   "metadata": {
    "ExecuteTime": {
     "end_time": "2019-10-06T16:46:47.488541Z",
     "start_time": "2019-10-06T16:46:46.679494Z"
    }
   },
   "outputs": [],
   "source": [
    "# required imports\n",
    "import pandas as pd\n",
    "from matplotlib import pyplot as plt\n",
    "%matplotlib inline"
   ]
  },
  {
   "cell_type": "code",
   "execution_count": 3,
   "metadata": {
    "ExecuteTime": {
     "end_time": "2019-10-06T16:47:02.915423Z",
     "start_time": "2019-10-06T16:47:02.887421Z"
    }
   },
   "outputs": [
    {
     "data": {
      "text/html": [
       "<div>\n",
       "<style scoped>\n",
       "    .dataframe tbody tr th:only-of-type {\n",
       "        vertical-align: middle;\n",
       "    }\n",
       "\n",
       "    .dataframe tbody tr th {\n",
       "        vertical-align: top;\n",
       "    }\n",
       "\n",
       "    .dataframe thead th {\n",
       "        text-align: right;\n",
       "    }\n",
       "</style>\n",
       "<table border=\"1\" class=\"dataframe\">\n",
       "  <thead>\n",
       "    <tr style=\"text-align: right;\">\n",
       "      <th></th>\n",
       "      <th>1</th>\n",
       "      <th>2</th>\n",
       "    </tr>\n",
       "  </thead>\n",
       "  <tbody>\n",
       "    <tr>\n",
       "      <th>0</th>\n",
       "      <td>('Hot Big Breakfast'</td>\n",
       "      <td>'Cold Drinks')</td>\n",
       "    </tr>\n",
       "    <tr>\n",
       "      <th>1</th>\n",
       "      <td>('Hot Big Breakfast'</td>\n",
       "      <td>'Hot Drinks')</td>\n",
       "    </tr>\n",
       "    <tr>\n",
       "      <th>2</th>\n",
       "      <td>('Hot Breakfast'</td>\n",
       "      <td>'Cold Drinks')</td>\n",
       "    </tr>\n",
       "    <tr>\n",
       "      <th>3</th>\n",
       "      <td>('Hot Breakfast'</td>\n",
       "      <td>'Hot Drinks')</td>\n",
       "    </tr>\n",
       "    <tr>\n",
       "      <th>4</th>\n",
       "      <td>('Sandwiches'</td>\n",
       "      <td>'Cold Drinks')</td>\n",
       "    </tr>\n",
       "    <tr>\n",
       "      <th>5</th>\n",
       "      <td>('Sandwiches'</td>\n",
       "      <td>'Hot Drinks')</td>\n",
       "    </tr>\n",
       "    <tr>\n",
       "      <th>6</th>\n",
       "      <td>('Burgers'</td>\n",
       "      <td>'Cold Drinks')</td>\n",
       "    </tr>\n",
       "    <tr>\n",
       "      <th>7</th>\n",
       "      <td>('Burgers'</td>\n",
       "      <td>'Hot Drinks')</td>\n",
       "    </tr>\n",
       "  </tbody>\n",
       "</table>\n",
       "</div>"
      ],
      "text/plain": [
       "                      1                2\n",
       "0  ('Hot Big Breakfast'   'Cold Drinks')\n",
       "1  ('Hot Big Breakfast'    'Hot Drinks')\n",
       "2      ('Hot Breakfast'   'Cold Drinks')\n",
       "3      ('Hot Breakfast'    'Hot Drinks')\n",
       "4         ('Sandwiches'   'Cold Drinks')\n",
       "5         ('Sandwiches'    'Hot Drinks')\n",
       "6            ('Burgers'   'Cold Drinks')\n",
       "7            ('Burgers'    'Hot Drinks')"
      ]
     },
     "execution_count": 3,
     "metadata": {},
     "output_type": "execute_result"
    }
   ],
   "source": [
    "# list with 8 combinations of 3 items, they specified in same order \n",
    "# as B_index cols in df below: 1-st line '('Soups', 'Bakery', 'Cold Drinks')' \n",
    "# --> 1-st col 'SB_solid_b_0' and so on\n",
    "combinations = pd.read_csv (\"McD_solid_b_8.txt\", names = ['1','2'])\n",
    "combinations"
   ]
  },
  {
   "cell_type": "code",
   "execution_count": 4,
   "metadata": {
    "ExecuteTime": {
     "end_time": "2019-10-06T16:47:12.223955Z",
     "start_time": "2019-10-06T16:47:12.189953Z"
    }
   },
   "outputs": [
    {
     "data": {
      "text/html": [
       "<div>\n",
       "<style scoped>\n",
       "    .dataframe tbody tr th:only-of-type {\n",
       "        vertical-align: middle;\n",
       "    }\n",
       "\n",
       "    .dataframe tbody tr th {\n",
       "        vertical-align: top;\n",
       "    }\n",
       "\n",
       "    .dataframe thead th {\n",
       "        text-align: right;\n",
       "    }\n",
       "</style>\n",
       "<table border=\"1\" class=\"dataframe\">\n",
       "  <thead>\n",
       "    <tr style=\"text-align: right;\">\n",
       "      <th></th>\n",
       "      <th>McD_solid_b_0</th>\n",
       "      <th>McD_solid_b_1</th>\n",
       "      <th>McD_solid_b_2</th>\n",
       "      <th>McD_solid_b_3</th>\n",
       "      <th>McD_solid_b_4</th>\n",
       "      <th>McD_solid_b_5</th>\n",
       "      <th>McD_solid_b_6</th>\n",
       "      <th>McD_solid_b_7</th>\n",
       "    </tr>\n",
       "  </thead>\n",
       "  <tbody>\n",
       "    <tr>\n",
       "      <th>0</th>\n",
       "      <td>2.123810</td>\n",
       "      <td>2.056458</td>\n",
       "      <td>1.548942</td>\n",
       "      <td>1.546286</td>\n",
       "      <td>2.513948</td>\n",
       "      <td>2.497708</td>\n",
       "      <td>1.230943</td>\n",
       "      <td>1.231786</td>\n",
       "    </tr>\n",
       "    <tr>\n",
       "      <th>1</th>\n",
       "      <td>2.086886</td>\n",
       "      <td>2.033905</td>\n",
       "      <td>1.480922</td>\n",
       "      <td>1.501640</td>\n",
       "      <td>2.436388</td>\n",
       "      <td>2.446063</td>\n",
       "      <td>1.184330</td>\n",
       "      <td>1.202014</td>\n",
       "    </tr>\n",
       "    <tr>\n",
       "      <th>2</th>\n",
       "      <td>2.052969</td>\n",
       "      <td>2.014912</td>\n",
       "      <td>1.423276</td>\n",
       "      <td>1.466448</td>\n",
       "      <td>2.372183</td>\n",
       "      <td>2.406038</td>\n",
       "      <td>1.142048</td>\n",
       "      <td>1.177547</td>\n",
       "    </tr>\n",
       "    <tr>\n",
       "      <th>3</th>\n",
       "      <td>2.155704</td>\n",
       "      <td>2.157579</td>\n",
       "      <td>1.616220</td>\n",
       "      <td>1.622719</td>\n",
       "      <td>2.593110</td>\n",
       "      <td>2.601140</td>\n",
       "      <td>1.274022</td>\n",
       "      <td>1.278034</td>\n",
       "    </tr>\n",
       "    <tr>\n",
       "      <th>4</th>\n",
       "      <td>2.286833</td>\n",
       "      <td>1.409036</td>\n",
       "      <td>2.001169</td>\n",
       "      <td>1.370052</td>\n",
       "      <td>3.095288</td>\n",
       "      <td>1.807966</td>\n",
       "      <td>1.473595</td>\n",
       "      <td>1.120291</td>\n",
       "    </tr>\n",
       "  </tbody>\n",
       "</table>\n",
       "</div>"
      ],
      "text/plain": [
       "   McD_solid_b_0  McD_solid_b_1  McD_solid_b_2  McD_solid_b_3  McD_solid_b_4  \\\n",
       "0       2.123810       2.056458       1.548942       1.546286       2.513948   \n",
       "1       2.086886       2.033905       1.480922       1.501640       2.436388   \n",
       "2       2.052969       2.014912       1.423276       1.466448       2.372183   \n",
       "3       2.155704       2.157579       1.616220       1.622719       2.593110   \n",
       "4       2.286833       1.409036       2.001169       1.370052       3.095288   \n",
       "\n",
       "   McD_solid_b_5  McD_solid_b_6  McD_solid_b_7  \n",
       "0       2.497708       1.230943       1.231786  \n",
       "1       2.446063       1.184330       1.202014  \n",
       "2       2.406038       1.142048       1.177547  \n",
       "3       2.601140       1.274022       1.278034  \n",
       "4       1.807966       1.473595       1.120291  "
      ]
     },
     "execution_count": 4,
     "metadata": {},
     "output_type": "execute_result"
    }
   ],
   "source": [
    "McD_solid_b_8 = pd.read_csv ('McD_solid_b_8.csv', sep=(','))\n",
    "McD_solid_b_8.head ()"
   ]
  },
  {
   "cell_type": "code",
   "execution_count": 5,
   "metadata": {
    "ExecuteTime": {
     "end_time": "2019-10-06T16:47:17.600263Z",
     "start_time": "2019-10-06T16:47:17.567261Z"
    }
   },
   "outputs": [
    {
     "name": "stdout",
     "output_type": "stream",
     "text": [
      "<class 'pandas.core.frame.DataFrame'>\n",
      "RangeIndex: 172 entries, 0 to 171\n",
      "Data columns (total 8 columns):\n",
      "McD_solid_b_0    172 non-null float64\n",
      "McD_solid_b_1    104 non-null float64\n",
      "McD_solid_b_2    172 non-null float64\n",
      "McD_solid_b_3    172 non-null float64\n",
      "McD_solid_b_4    172 non-null float64\n",
      "McD_solid_b_5    172 non-null float64\n",
      "McD_solid_b_6    172 non-null float64\n",
      "McD_solid_b_7    172 non-null float64\n",
      "dtypes: float64(8)\n",
      "memory usage: 10.8 KB\n"
     ]
    }
   ],
   "source": [
    "# different combinations of groups gave different combinations of items\n",
    "McD_solid_b_8.info()"
   ]
  },
  {
   "cell_type": "code",
   "execution_count": 6,
   "metadata": {
    "ExecuteTime": {
     "end_time": "2019-10-06T16:47:20.948454Z",
     "start_time": "2019-10-06T16:47:20.894451Z"
    }
   },
   "outputs": [
    {
     "data": {
      "text/html": [
       "<div>\n",
       "<style scoped>\n",
       "    .dataframe tbody tr th:only-of-type {\n",
       "        vertical-align: middle;\n",
       "    }\n",
       "\n",
       "    .dataframe tbody tr th {\n",
       "        vertical-align: top;\n",
       "    }\n",
       "\n",
       "    .dataframe thead th {\n",
       "        text-align: right;\n",
       "    }\n",
       "</style>\n",
       "<table border=\"1\" class=\"dataframe\">\n",
       "  <thead>\n",
       "    <tr style=\"text-align: right;\">\n",
       "      <th></th>\n",
       "      <th>McD_solid_b_0</th>\n",
       "      <th>McD_solid_b_1</th>\n",
       "      <th>McD_solid_b_2</th>\n",
       "      <th>McD_solid_b_3</th>\n",
       "      <th>McD_solid_b_4</th>\n",
       "      <th>McD_solid_b_5</th>\n",
       "      <th>McD_solid_b_6</th>\n",
       "      <th>McD_solid_b_7</th>\n",
       "    </tr>\n",
       "  </thead>\n",
       "  <tbody>\n",
       "    <tr>\n",
       "      <th>count</th>\n",
       "      <td>172.000000</td>\n",
       "      <td>104.000000</td>\n",
       "      <td>172.000000</td>\n",
       "      <td>172.000000</td>\n",
       "      <td>172.000000</td>\n",
       "      <td>172.000000</td>\n",
       "      <td>172.000000</td>\n",
       "      <td>172.000000</td>\n",
       "    </tr>\n",
       "    <tr>\n",
       "      <th>mean</th>\n",
       "      <td>1.412596</td>\n",
       "      <td>1.214056</td>\n",
       "      <td>1.426607</td>\n",
       "      <td>1.209548</td>\n",
       "      <td>3.010991</td>\n",
       "      <td>1.607012</td>\n",
       "      <td>1.098612</td>\n",
       "      <td>1.286511</td>\n",
       "    </tr>\n",
       "    <tr>\n",
       "      <th>std</th>\n",
       "      <td>0.416559</td>\n",
       "      <td>0.277678</td>\n",
       "      <td>0.405153</td>\n",
       "      <td>0.220527</td>\n",
       "      <td>1.987928</td>\n",
       "      <td>0.708499</td>\n",
       "      <td>0.211664</td>\n",
       "      <td>0.455197</td>\n",
       "    </tr>\n",
       "    <tr>\n",
       "      <th>min</th>\n",
       "      <td>0.718745</td>\n",
       "      <td>0.825733</td>\n",
       "      <td>0.742023</td>\n",
       "      <td>0.867638</td>\n",
       "      <td>0.954345</td>\n",
       "      <td>0.896880</td>\n",
       "      <td>0.675583</td>\n",
       "      <td>0.787503</td>\n",
       "    </tr>\n",
       "    <tr>\n",
       "      <th>25%</th>\n",
       "      <td>1.069932</td>\n",
       "      <td>1.003643</td>\n",
       "      <td>1.072953</td>\n",
       "      <td>1.042556</td>\n",
       "      <td>1.628853</td>\n",
       "      <td>1.225811</td>\n",
       "      <td>0.910972</td>\n",
       "      <td>0.955772</td>\n",
       "    </tr>\n",
       "    <tr>\n",
       "      <th>50%</th>\n",
       "      <td>1.313963</td>\n",
       "      <td>1.117812</td>\n",
       "      <td>1.421159</td>\n",
       "      <td>1.176312</td>\n",
       "      <td>2.424845</td>\n",
       "      <td>1.475846</td>\n",
       "      <td>1.114189</td>\n",
       "      <td>1.080174</td>\n",
       "    </tr>\n",
       "    <tr>\n",
       "      <th>75%</th>\n",
       "      <td>1.698773</td>\n",
       "      <td>1.343218</td>\n",
       "      <td>1.677689</td>\n",
       "      <td>1.330005</td>\n",
       "      <td>3.275817</td>\n",
       "      <td>1.788624</td>\n",
       "      <td>1.243219</td>\n",
       "      <td>1.561318</td>\n",
       "    </tr>\n",
       "    <tr>\n",
       "      <th>max</th>\n",
       "      <td>2.288234</td>\n",
       "      <td>2.157579</td>\n",
       "      <td>2.288532</td>\n",
       "      <td>1.889690</td>\n",
       "      <td>8.468127</td>\n",
       "      <td>7.385556</td>\n",
       "      <td>1.474129</td>\n",
       "      <td>2.996821</td>\n",
       "    </tr>\n",
       "  </tbody>\n",
       "</table>\n",
       "</div>"
      ],
      "text/plain": [
       "       McD_solid_b_0  McD_solid_b_1  McD_solid_b_2  McD_solid_b_3  \\\n",
       "count     172.000000     104.000000     172.000000     172.000000   \n",
       "mean        1.412596       1.214056       1.426607       1.209548   \n",
       "std         0.416559       0.277678       0.405153       0.220527   \n",
       "min         0.718745       0.825733       0.742023       0.867638   \n",
       "25%         1.069932       1.003643       1.072953       1.042556   \n",
       "50%         1.313963       1.117812       1.421159       1.176312   \n",
       "75%         1.698773       1.343218       1.677689       1.330005   \n",
       "max         2.288234       2.157579       2.288532       1.889690   \n",
       "\n",
       "       McD_solid_b_4  McD_solid_b_5  McD_solid_b_6  McD_solid_b_7  \n",
       "count     172.000000     172.000000     172.000000     172.000000  \n",
       "mean        3.010991       1.607012       1.098612       1.286511  \n",
       "std         1.987928       0.708499       0.211664       0.455197  \n",
       "min         0.954345       0.896880       0.675583       0.787503  \n",
       "25%         1.628853       1.225811       0.910972       0.955772  \n",
       "50%         2.424845       1.475846       1.114189       1.080174  \n",
       "75%         3.275817       1.788624       1.243219       1.561318  \n",
       "max         8.468127       7.385556       1.474129       2.996821  "
      ]
     },
     "execution_count": 6,
     "metadata": {},
     "output_type": "execute_result"
    }
   ],
   "source": [
    "# cols of different length!\n",
    "McD_solid_b_8.describe()"
   ]
  },
  {
   "cell_type": "code",
   "execution_count": 7,
   "metadata": {
    "ExecuteTime": {
     "end_time": "2019-10-06T16:47:26.962798Z",
     "start_time": "2019-10-06T16:47:26.929797Z"
    }
   },
   "outputs": [
    {
     "data": {
      "text/plain": [
       "(1.096, 1.372]    4\n",
       "(1.372, 1.645]    3\n",
       "(2.738, 3.011]    1\n",
       "(2.465, 2.738]    0\n",
       "(2.191, 2.465]    0\n",
       "(1.918, 2.191]    0\n",
       "(1.645, 1.918]    0\n",
       "dtype: int64"
      ]
     },
     "execution_count": 7,
     "metadata": {},
     "output_type": "execute_result"
    }
   ],
   "source": [
    "# mean B-index of the subset:\n",
    "McD_solid_b_8.mean().value_counts (bins=7)"
   ]
  },
  {
   "cell_type": "code",
   "execution_count": 9,
   "metadata": {
    "ExecuteTime": {
     "end_time": "2019-10-06T16:47:44.619808Z",
     "start_time": "2019-10-06T16:47:44.373794Z"
    },
    "scrolled": true
   },
   "outputs": [
    {
     "data": {
      "text/plain": [
       "<matplotlib.axes._subplots.AxesSubplot at 0x8fe7ac8>"
      ]
     },
     "execution_count": 9,
     "metadata": {},
     "output_type": "execute_result"
    },
    {
     "data": {
      "image/png": "[encoded data removed]",
      "text/plain": [
       "<Figure size 576x288 with 1 Axes>"
      ]
     },
     "metadata": {
      "needs_background": "light"
     },
     "output_type": "display_data"
    }
   ],
   "source": [
    "# B_index mean values for all groups\n",
    "cols = pd.Index.to_list(McD_solid_b_8.columns[0:])\n",
    "McD_solid_b_8[cols].mean().plot(kind = 'bar', \n",
    "                                subplots = False, \n",
    "                                width = 0.5, \n",
    "                                figsize = (8,4),\n",
    "                                grid = True)"
   ]
  },
  {
   "cell_type": "code",
   "execution_count": null,
   "metadata": {},
   "outputs": [],
   "source": []
  }
 ],
 "metadata": {
  "hide_input": false,
  "kernelspec": {
   "display_name": "Python 3",
   "language": "python",
   "name": "python3"
  },
  "language_info": {
   "codemirror_mode": {
    "name": "ipython",
    "version": 3
   },
   "file_extension": ".py",
   "mimetype": "text/x-python",
   "name": "python",
   "nbconvert_exporter": "python",
   "pygments_lexer": "ipython3",
   "version": "3.7.1"
  }
 },
 "nbformat": 4,
 "nbformat_minor": 2
}
