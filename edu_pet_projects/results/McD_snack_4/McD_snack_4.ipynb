{
 "cells": [
  {
   "cell_type": "markdown",
   "metadata": {},
   "source": [
    "## Analytics in terms of B-index"
   ]
  },
  {
   "cell_type": "markdown",
   "metadata": {},
   "source": [
    "### 1. \"Snack\" McD combination set "
   ]
  },
  {
   "cell_type": "code",
   "execution_count": 14,
   "metadata": {
    "ExecuteTime": {
     "end_time": "2019-10-07T18:49:14.727954Z",
     "start_time": "2019-10-07T18:49:14.675951Z"
    }
   },
   "outputs": [],
   "source": [
    "# required imports\n",
    "import pandas as pd\n",
    "from matplotlib import pyplot as plt\n",
    "%matplotlib inline"
   ]
  },
  {
   "cell_type": "code",
   "execution_count": 15,
   "metadata": {
    "ExecuteTime": {
     "end_time": "2019-10-07T18:49:14.900964Z",
     "start_time": "2019-10-07T18:49:14.731954Z"
    }
   },
   "outputs": [],
   "source": [
    "# list with 24 combinations of 3 items, they specified in same order \n",
    "# as B_index cols in df below --> 1-st col 'SB_solid_b_0' and so on\n",
    "\n",
    "combi_list = []\n",
    "\n",
    "with open ('McD_snack_4.txt', 'r') as f:\n",
    "    for line in f:\n",
    "        line = line[:-1]\n",
    "        combi_list.append (line)\n",
    "    f.close()"
   ]
  },
  {
   "cell_type": "code",
   "execution_count": 16,
   "metadata": {
    "ExecuteTime": {
     "end_time": "2019-10-07T18:49:15.016971Z",
     "start_time": "2019-10-07T18:49:14.904964Z"
    }
   },
   "outputs": [
    {
     "data": {
      "text/html": [
       "<div>\n",
       "<style scoped>\n",
       "    .dataframe tbody tr th:only-of-type {\n",
       "        vertical-align: middle;\n",
       "    }\n",
       "\n",
       "    .dataframe tbody tr th {\n",
       "        vertical-align: top;\n",
       "    }\n",
       "\n",
       "    .dataframe thead th {\n",
       "        text-align: right;\n",
       "    }\n",
       "</style>\n",
       "<table border=\"1\" class=\"dataframe\">\n",
       "  <thead>\n",
       "    <tr style=\"text-align: right;\">\n",
       "      <th></th>\n",
       "      <th>('Chiken Snacks', 'Cold Drinks')</th>\n",
       "      <th>('Chiken Snacks', 'Hot Drinks')</th>\n",
       "      <th>('Snacks', 'Cold Drinks')</th>\n",
       "      <th>('Snacks', 'Hot Drinks')</th>\n",
       "    </tr>\n",
       "  </thead>\n",
       "  <tbody>\n",
       "    <tr>\n",
       "      <th>0</th>\n",
       "      <td>2.421431</td>\n",
       "      <td>2.408610</td>\n",
       "      <td>2.421431</td>\n",
       "      <td>2.408610</td>\n",
       "    </tr>\n",
       "    <tr>\n",
       "      <th>1</th>\n",
       "      <td>2.362811</td>\n",
       "      <td>2.370631</td>\n",
       "      <td>2.362811</td>\n",
       "      <td>2.370631</td>\n",
       "    </tr>\n",
       "    <tr>\n",
       "      <th>2</th>\n",
       "      <td>2.311786</td>\n",
       "      <td>2.340165</td>\n",
       "      <td>2.311786</td>\n",
       "      <td>2.340165</td>\n",
       "    </tr>\n",
       "    <tr>\n",
       "      <th>3</th>\n",
       "      <td>2.477678</td>\n",
       "      <td>2.482933</td>\n",
       "      <td>2.477678</td>\n",
       "      <td>2.482933</td>\n",
       "    </tr>\n",
       "    <tr>\n",
       "      <th>4</th>\n",
       "      <td>2.770142</td>\n",
       "      <td>1.666958</td>\n",
       "      <td>2.770142</td>\n",
       "      <td>1.666958</td>\n",
       "    </tr>\n",
       "  </tbody>\n",
       "</table>\n",
       "</div>"
      ],
      "text/plain": [
       "   ('Chiken Snacks', 'Cold Drinks')  ('Chiken Snacks', 'Hot Drinks')  \\\n",
       "0                          2.421431                         2.408610   \n",
       "1                          2.362811                         2.370631   \n",
       "2                          2.311786                         2.340165   \n",
       "3                          2.477678                         2.482933   \n",
       "4                          2.770142                         1.666958   \n",
       "\n",
       "   ('Snacks', 'Cold Drinks')  ('Snacks', 'Hot Drinks')  \n",
       "0                   2.421431                  2.408610  \n",
       "1                   2.362811                  2.370631  \n",
       "2                   2.311786                  2.340165  \n",
       "3                   2.477678                  2.482933  \n",
       "4                   2.770142                  1.666958  "
      ]
     },
     "execution_count": 16,
     "metadata": {},
     "output_type": "execute_result"
    }
   ],
   "source": [
    "McD_snack_4 = pd.read_csv ('McD_snack_4.csv',  skiprows=1, names=combi_list , sep=(','))\n",
    "McD_snack_4.head()"
   ]
  },
  {
   "cell_type": "code",
   "execution_count": 17,
   "metadata": {
    "ExecuteTime": {
     "end_time": "2019-10-07T18:49:15.186980Z",
     "start_time": "2019-10-07T18:49:15.023971Z"
    }
   },
   "outputs": [
    {
     "data": {
      "text/html": [
       "<div>\n",
       "<style scoped>\n",
       "    .dataframe tbody tr th:only-of-type {\n",
       "        vertical-align: middle;\n",
       "    }\n",
       "\n",
       "    .dataframe tbody tr th {\n",
       "        vertical-align: top;\n",
       "    }\n",
       "\n",
       "    .dataframe thead th {\n",
       "        text-align: right;\n",
       "    }\n",
       "</style>\n",
       "<table border=\"1\" class=\"dataframe\">\n",
       "  <thead>\n",
       "    <tr style=\"text-align: right;\">\n",
       "      <th></th>\n",
       "      <th>('Chiken Snacks', 'Cold Drinks')</th>\n",
       "      <th>('Chiken Snacks', 'Hot Drinks')</th>\n",
       "      <th>('Snacks', 'Cold Drinks')</th>\n",
       "      <th>('Snacks', 'Hot Drinks')</th>\n",
       "    </tr>\n",
       "  </thead>\n",
       "  <tbody>\n",
       "    <tr>\n",
       "      <th>count</th>\n",
       "      <td>860.000000</td>\n",
       "      <td>520.000000</td>\n",
       "      <td>860.000000</td>\n",
       "      <td>860.000000</td>\n",
       "    </tr>\n",
       "    <tr>\n",
       "      <th>mean</th>\n",
       "      <td>2.425951</td>\n",
       "      <td>1.723874</td>\n",
       "      <td>2.425951</td>\n",
       "      <td>1.632397</td>\n",
       "    </tr>\n",
       "    <tr>\n",
       "      <th>std</th>\n",
       "      <td>1.509197</td>\n",
       "      <td>0.725353</td>\n",
       "      <td>1.509197</td>\n",
       "      <td>0.630860</td>\n",
       "    </tr>\n",
       "    <tr>\n",
       "      <th>min</th>\n",
       "      <td>0.774754</td>\n",
       "      <td>0.915096</td>\n",
       "      <td>0.774754</td>\n",
       "      <td>0.881116</td>\n",
       "    </tr>\n",
       "    <tr>\n",
       "      <th>25%</th>\n",
       "      <td>1.558163</td>\n",
       "      <td>1.359686</td>\n",
       "      <td>1.558163</td>\n",
       "      <td>1.317243</td>\n",
       "    </tr>\n",
       "    <tr>\n",
       "      <th>50%</th>\n",
       "      <td>2.167561</td>\n",
       "      <td>1.555656</td>\n",
       "      <td>2.167561</td>\n",
       "      <td>1.512239</td>\n",
       "    </tr>\n",
       "    <tr>\n",
       "      <th>75%</th>\n",
       "      <td>2.692245</td>\n",
       "      <td>1.836404</td>\n",
       "      <td>2.692245</td>\n",
       "      <td>1.764802</td>\n",
       "    </tr>\n",
       "    <tr>\n",
       "      <th>max</th>\n",
       "      <td>10.696571</td>\n",
       "      <td>9.614000</td>\n",
       "      <td>10.696571</td>\n",
       "      <td>9.614000</td>\n",
       "    </tr>\n",
       "  </tbody>\n",
       "</table>\n",
       "</div>"
      ],
      "text/plain": [
       "       ('Chiken Snacks', 'Cold Drinks')  ('Chiken Snacks', 'Hot Drinks')  \\\n",
       "count                        860.000000                       520.000000   \n",
       "mean                           2.425951                         1.723874   \n",
       "std                            1.509197                         0.725353   \n",
       "min                            0.774754                         0.915096   \n",
       "25%                            1.558163                         1.359686   \n",
       "50%                            2.167561                         1.555656   \n",
       "75%                            2.692245                         1.836404   \n",
       "max                           10.696571                         9.614000   \n",
       "\n",
       "       ('Snacks', 'Cold Drinks')  ('Snacks', 'Hot Drinks')  \n",
       "count                 860.000000                860.000000  \n",
       "mean                    2.425951                  1.632397  \n",
       "std                     1.509197                  0.630860  \n",
       "min                     0.774754                  0.881116  \n",
       "25%                     1.558163                  1.317243  \n",
       "50%                     2.167561                  1.512239  \n",
       "75%                     2.692245                  1.764802  \n",
       "max                    10.696571                  9.614000  "
      ]
     },
     "execution_count": 17,
     "metadata": {},
     "output_type": "execute_result"
    }
   ],
   "source": [
    "# cols of different length!\n",
    "McD_snack_4.describe()"
   ]
  },
  {
   "cell_type": "code",
   "execution_count": 18,
   "metadata": {
    "ExecuteTime": {
     "end_time": "2019-10-07T18:49:15.519999Z",
     "start_time": "2019-10-07T18:49:15.190981Z"
    },
    "scrolled": true
   },
   "outputs": [
    {
     "data": {
      "text/plain": [
       "<matplotlib.axes._subplots.AxesSubplot at 0x9bdc2b0>"
      ]
     },
     "execution_count": 18,
     "metadata": {},
     "output_type": "execute_result"
    },
    {
     "data": {
      "image/png": "[encoded data removed]",
      "text/plain": [
       "<Figure size 432x288 with 1 Axes>"
      ]
     },
     "metadata": {
      "needs_background": "light"
     },
     "output_type": "display_data"
    }
   ],
   "source": [
    "# B_index mean values for all groups\n",
    "cols = pd.Index.to_list(McD_snack_4.columns[0:])\n",
    "McD_snack_4[cols].mean().plot(kind = 'bar', subplots = False, width = 0.5, figsize = (6,4), grid = True)"
   ]
  },
  {
   "cell_type": "code",
   "execution_count": 19,
   "metadata": {
    "ExecuteTime": {
     "end_time": "2019-10-07T18:49:15.527000Z",
     "start_time": "2019-10-07T18:49:15.522000Z"
    },
    "scrolled": false
   },
   "outputs": [],
   "source": [
    "# Snacks can be wieved as additional meal, which is insufficient as\n",
    "# single option. It could be used for fast meal 'in field', in long bus travel, e t.c.\n",
    "# (may be cold drinks more preferable as they could be carry-out)\n",
    "# Due to this reason we do not delete any combinations from the dataset\n",
    "\n",
    "# Extremely poor items with mean > 5 (very low values in relation to norms) \n",
    "# could be combined together\n",
    "McD_snack_all = McD_snack_4"
   ]
  },
  {
   "cell_type": "code",
   "execution_count": 20,
   "metadata": {
    "ExecuteTime": {
     "end_time": "2019-10-07T18:49:15.713011Z",
     "start_time": "2019-10-07T18:49:15.529000Z"
    }
   },
   "outputs": [],
   "source": [
    "McD_snack_all.to_csv ('McD_snack_all.csv')"
   ]
  }
 ],
 "metadata": {
  "hide_input": false,
  "kernelspec": {
   "display_name": "Python 3",
   "language": "python",
   "name": "python3"
  },
  "language_info": {
   "codemirror_mode": {
    "name": "ipython",
    "version": 3
   },
   "file_extension": ".py",
   "mimetype": "text/x-python",
   "name": "python",
   "nbconvert_exporter": "python",
   "pygments_lexer": "ipython3",
   "version": "3.7.1"
  }
 },
 "nbformat": 4,
 "nbformat_minor": 2
}
