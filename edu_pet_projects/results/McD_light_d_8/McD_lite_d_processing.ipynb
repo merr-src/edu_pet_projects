{
 "cells": [
  {
   "cell_type": "markdown",
   "metadata": {},
   "source": [
    "## Analytics in terms of B-index"
   ]
  },
  {
   "cell_type": "markdown",
   "metadata": {},
   "source": [
    "### 1. \"Lite dinner\" McD combination set "
   ]
  },
  {
   "cell_type": "code",
   "execution_count": 7,
   "metadata": {
    "ExecuteTime": {
     "end_time": "2019-10-07T19:30:08.577760Z",
     "start_time": "2019-10-07T19:30:08.569759Z"
    }
   },
   "outputs": [],
   "source": [
    "# required imports\n",
    "import pandas as pd\n",
    "from matplotlib import pyplot as plt\n",
    "%matplotlib inline"
   ]
  },
  {
   "cell_type": "code",
   "execution_count": 8,
   "metadata": {
    "ExecuteTime": {
     "end_time": "2019-10-07T19:30:08.864776Z",
     "start_time": "2019-10-07T19:30:08.858776Z"
    }
   },
   "outputs": [],
   "source": [
    "# list with 24 combinations of 3 items, they specified in same order \n",
    "# as B_index cols in df below --> 1-st col 'SB_solid_b_0' and so on\n",
    "\n",
    "combi_list = []\n",
    "\n",
    "with open ('McD_lite_d_8.txt', 'r') as f:\n",
    "    for line in f:\n",
    "        line = line[:-1]\n",
    "        combi_list.append (line)\n",
    "    f.close()"
   ]
  },
  {
   "cell_type": "code",
   "execution_count": 9,
   "metadata": {
    "ExecuteTime": {
     "end_time": "2019-10-07T19:30:09.532814Z",
     "start_time": "2019-10-07T19:30:09.476811Z"
    }
   },
   "outputs": [
    {
     "data": {
      "text/html": [
       "<div>\n",
       "<style scoped>\n",
       "    .dataframe tbody tr th:only-of-type {\n",
       "        vertical-align: middle;\n",
       "    }\n",
       "\n",
       "    .dataframe tbody tr th {\n",
       "        vertical-align: top;\n",
       "    }\n",
       "\n",
       "    .dataframe thead th {\n",
       "        text-align: right;\n",
       "    }\n",
       "</style>\n",
       "<table border=\"1\" class=\"dataframe\">\n",
       "  <thead>\n",
       "    <tr style=\"text-align: right;\">\n",
       "      <th></th>\n",
       "      <th>('Salads', 'Chiken Snacks', 'Cold Drinks')</th>\n",
       "      <th>('Salads', 'Chiken Snacks', 'Hot Drinks')</th>\n",
       "      <th>('Salads', 'Snacks', 'Cold Drinks')</th>\n",
       "      <th>('Salads', 'Snacks', 'Hot Drinks')</th>\n",
       "      <th>('Chiken Snacks', 'Chiken Snacks', 'Cold Drinks')</th>\n",
       "      <th>('Chiken Snacks', 'Chiken Snacks', 'Hot Drinks')</th>\n",
       "      <th>('Chiken Snacks', 'Snacks', 'Cold Drinks')</th>\n",
       "      <th>('Chiken Snacks', 'Snacks', 'Hot Drinks')</th>\n",
       "    </tr>\n",
       "  </thead>\n",
       "  <tbody>\n",
       "    <tr>\n",
       "      <th>0</th>\n",
       "      <td>1.215384</td>\n",
       "      <td>1.211930</td>\n",
       "      <td>1.215384</td>\n",
       "      <td>1.211930</td>\n",
       "      <td>1.233555</td>\n",
       "      <td>1.230808</td>\n",
       "      <td>1.233555</td>\n",
       "      <td>1.230808</td>\n",
       "    </tr>\n",
       "    <tr>\n",
       "      <th>1</th>\n",
       "      <td>1.155998</td>\n",
       "      <td>1.176658</td>\n",
       "      <td>1.155998</td>\n",
       "      <td>1.176658</td>\n",
       "      <td>1.198223</td>\n",
       "      <td>1.210241</td>\n",
       "      <td>1.198223</td>\n",
       "      <td>1.210241</td>\n",
       "    </tr>\n",
       "    <tr>\n",
       "      <th>2</th>\n",
       "      <td>1.098318</td>\n",
       "      <td>1.143716</td>\n",
       "      <td>1.098318</td>\n",
       "      <td>1.143716</td>\n",
       "      <td>1.161647</td>\n",
       "      <td>1.190309</td>\n",
       "      <td>1.161647</td>\n",
       "      <td>1.190309</td>\n",
       "    </tr>\n",
       "    <tr>\n",
       "      <th>3</th>\n",
       "      <td>1.267412</td>\n",
       "      <td>1.266612</td>\n",
       "      <td>1.267412</td>\n",
       "      <td>1.266612</td>\n",
       "      <td>1.262713</td>\n",
       "      <td>1.262232</td>\n",
       "      <td>1.262713</td>\n",
       "      <td>1.262232</td>\n",
       "    </tr>\n",
       "    <tr>\n",
       "      <th>4</th>\n",
       "      <td>1.485993</td>\n",
       "      <td>1.124717</td>\n",
       "      <td>1.485993</td>\n",
       "      <td>1.124717</td>\n",
       "      <td>1.367797</td>\n",
       "      <td>1.032116</td>\n",
       "      <td>1.367797</td>\n",
       "      <td>1.032116</td>\n",
       "    </tr>\n",
       "  </tbody>\n",
       "</table>\n",
       "</div>"
      ],
      "text/plain": [
       "   ('Salads', 'Chiken Snacks', 'Cold Drinks')  \\\n",
       "0                                    1.215384   \n",
       "1                                    1.155998   \n",
       "2                                    1.098318   \n",
       "3                                    1.267412   \n",
       "4                                    1.485993   \n",
       "\n",
       "   ('Salads', 'Chiken Snacks', 'Hot Drinks')  \\\n",
       "0                                   1.211930   \n",
       "1                                   1.176658   \n",
       "2                                   1.143716   \n",
       "3                                   1.266612   \n",
       "4                                   1.124717   \n",
       "\n",
       "   ('Salads', 'Snacks', 'Cold Drinks')  ('Salads', 'Snacks', 'Hot Drinks')  \\\n",
       "0                             1.215384                            1.211930   \n",
       "1                             1.155998                            1.176658   \n",
       "2                             1.098318                            1.143716   \n",
       "3                             1.267412                            1.266612   \n",
       "4                             1.485993                            1.124717   \n",
       "\n",
       "   ('Chiken Snacks', 'Chiken Snacks', 'Cold Drinks')  \\\n",
       "0                                           1.233555   \n",
       "1                                           1.198223   \n",
       "2                                           1.161647   \n",
       "3                                           1.262713   \n",
       "4                                           1.367797   \n",
       "\n",
       "   ('Chiken Snacks', 'Chiken Snacks', 'Hot Drinks')  \\\n",
       "0                                          1.230808   \n",
       "1                                          1.210241   \n",
       "2                                          1.190309   \n",
       "3                                          1.262232   \n",
       "4                                          1.032116   \n",
       "\n",
       "   ('Chiken Snacks', 'Snacks', 'Cold Drinks')  \\\n",
       "0                                    1.233555   \n",
       "1                                    1.198223   \n",
       "2                                    1.161647   \n",
       "3                                    1.262713   \n",
       "4                                    1.367797   \n",
       "\n",
       "   ('Chiken Snacks', 'Snacks', 'Hot Drinks')  \n",
       "0                                   1.230808  \n",
       "1                                   1.210241  \n",
       "2                                   1.190309  \n",
       "3                                   1.262232  \n",
       "4                                   1.032116  "
      ]
     },
     "execution_count": 9,
     "metadata": {},
     "output_type": "execute_result"
    }
   ],
   "source": [
    "McD_lite_d_8 = pd.read_csv ('McD_lite_d_8.csv',  skiprows=1, names=combi_list , sep=(','))\n",
    "McD_lite_d_8.head()"
   ]
  },
  {
   "cell_type": "code",
   "execution_count": 10,
   "metadata": {
    "ExecuteTime": {
     "end_time": "2019-10-07T19:30:09.972839Z",
     "start_time": "2019-10-07T19:30:09.922837Z"
    },
    "scrolled": true
   },
   "outputs": [
    {
     "data": {
      "text/html": [
       "<div>\n",
       "<style scoped>\n",
       "    .dataframe tbody tr th:only-of-type {\n",
       "        vertical-align: middle;\n",
       "    }\n",
       "\n",
       "    .dataframe tbody tr th {\n",
       "        vertical-align: top;\n",
       "    }\n",
       "\n",
       "    .dataframe thead th {\n",
       "        text-align: right;\n",
       "    }\n",
       "</style>\n",
       "<table border=\"1\" class=\"dataframe\">\n",
       "  <thead>\n",
       "    <tr style=\"text-align: right;\">\n",
       "      <th></th>\n",
       "      <th>('Salads', 'Chiken Snacks', 'Cold Drinks')</th>\n",
       "      <th>('Salads', 'Chiken Snacks', 'Hot Drinks')</th>\n",
       "      <th>('Salads', 'Snacks', 'Cold Drinks')</th>\n",
       "      <th>('Salads', 'Snacks', 'Hot Drinks')</th>\n",
       "      <th>('Chiken Snacks', 'Chiken Snacks', 'Cold Drinks')</th>\n",
       "      <th>('Chiken Snacks', 'Chiken Snacks', 'Hot Drinks')</th>\n",
       "      <th>('Chiken Snacks', 'Snacks', 'Cold Drinks')</th>\n",
       "      <th>('Chiken Snacks', 'Snacks', 'Hot Drinks')</th>\n",
       "    </tr>\n",
       "  </thead>\n",
       "  <tbody>\n",
       "    <tr>\n",
       "      <th>count</th>\n",
       "      <td>6020.000000</td>\n",
       "      <td>3640.000000</td>\n",
       "      <td>6020.000000</td>\n",
       "      <td>6020.000000</td>\n",
       "      <td>6020.000000</td>\n",
       "      <td>5200.000000</td>\n",
       "      <td>6020.000000</td>\n",
       "      <td>6020.000000</td>\n",
       "    </tr>\n",
       "    <tr>\n",
       "      <th>mean</th>\n",
       "      <td>1.125174</td>\n",
       "      <td>1.002303</td>\n",
       "      <td>1.020339</td>\n",
       "      <td>0.893404</td>\n",
       "      <td>1.148404</td>\n",
       "      <td>1.012530</td>\n",
       "      <td>1.076812</td>\n",
       "      <td>0.954084</td>\n",
       "    </tr>\n",
       "    <tr>\n",
       "      <th>std</th>\n",
       "      <td>0.564710</td>\n",
       "      <td>0.346883</td>\n",
       "      <td>0.308033</td>\n",
       "      <td>0.264636</td>\n",
       "      <td>0.319739</td>\n",
       "      <td>0.245806</td>\n",
       "      <td>0.259878</td>\n",
       "      <td>0.175636</td>\n",
       "    </tr>\n",
       "    <tr>\n",
       "      <th>min</th>\n",
       "      <td>0.451478</td>\n",
       "      <td>0.515985</td>\n",
       "      <td>0.490010</td>\n",
       "      <td>0.454057</td>\n",
       "      <td>0.534455</td>\n",
       "      <td>0.603771</td>\n",
       "      <td>0.543448</td>\n",
       "      <td>0.585824</td>\n",
       "    </tr>\n",
       "    <tr>\n",
       "      <th>25%</th>\n",
       "      <td>0.791654</td>\n",
       "      <td>0.784748</td>\n",
       "      <td>0.797937</td>\n",
       "      <td>0.709981</td>\n",
       "      <td>0.920534</td>\n",
       "      <td>0.863520</td>\n",
       "      <td>0.874307</td>\n",
       "      <td>0.844065</td>\n",
       "    </tr>\n",
       "    <tr>\n",
       "      <th>50%</th>\n",
       "      <td>0.996362</td>\n",
       "      <td>0.928646</td>\n",
       "      <td>0.964772</td>\n",
       "      <td>0.844312</td>\n",
       "      <td>1.115592</td>\n",
       "      <td>0.977825</td>\n",
       "      <td>1.044205</td>\n",
       "      <td>0.943658</td>\n",
       "    </tr>\n",
       "    <tr>\n",
       "      <th>75%</th>\n",
       "      <td>1.269779</td>\n",
       "      <td>1.126575</td>\n",
       "      <td>1.169723</td>\n",
       "      <td>1.009499</td>\n",
       "      <td>1.320819</td>\n",
       "      <td>1.111579</td>\n",
       "      <td>1.257861</td>\n",
       "      <td>1.047711</td>\n",
       "    </tr>\n",
       "    <tr>\n",
       "      <th>max</th>\n",
       "      <td>6.909946</td>\n",
       "      <td>5.748442</td>\n",
       "      <td>2.835028</td>\n",
       "      <td>3.546815</td>\n",
       "      <td>3.397373</td>\n",
       "      <td>4.585976</td>\n",
       "      <td>2.148668</td>\n",
       "      <td>2.368760</td>\n",
       "    </tr>\n",
       "  </tbody>\n",
       "</table>\n",
       "</div>"
      ],
      "text/plain": [
       "       ('Salads', 'Chiken Snacks', 'Cold Drinks')  \\\n",
       "count                                 6020.000000   \n",
       "mean                                     1.125174   \n",
       "std                                      0.564710   \n",
       "min                                      0.451478   \n",
       "25%                                      0.791654   \n",
       "50%                                      0.996362   \n",
       "75%                                      1.269779   \n",
       "max                                      6.909946   \n",
       "\n",
       "       ('Salads', 'Chiken Snacks', 'Hot Drinks')  \\\n",
       "count                                3640.000000   \n",
       "mean                                    1.002303   \n",
       "std                                     0.346883   \n",
       "min                                     0.515985   \n",
       "25%                                     0.784748   \n",
       "50%                                     0.928646   \n",
       "75%                                     1.126575   \n",
       "max                                     5.748442   \n",
       "\n",
       "       ('Salads', 'Snacks', 'Cold Drinks')  \\\n",
       "count                          6020.000000   \n",
       "mean                              1.020339   \n",
       "std                               0.308033   \n",
       "min                               0.490010   \n",
       "25%                               0.797937   \n",
       "50%                               0.964772   \n",
       "75%                               1.169723   \n",
       "max                               2.835028   \n",
       "\n",
       "       ('Salads', 'Snacks', 'Hot Drinks')  \\\n",
       "count                         6020.000000   \n",
       "mean                             0.893404   \n",
       "std                              0.264636   \n",
       "min                              0.454057   \n",
       "25%                              0.709981   \n",
       "50%                              0.844312   \n",
       "75%                              1.009499   \n",
       "max                              3.546815   \n",
       "\n",
       "       ('Chiken Snacks', 'Chiken Snacks', 'Cold Drinks')  \\\n",
       "count                                        6020.000000   \n",
       "mean                                            1.148404   \n",
       "std                                             0.319739   \n",
       "min                                             0.534455   \n",
       "25%                                             0.920534   \n",
       "50%                                             1.115592   \n",
       "75%                                             1.320819   \n",
       "max                                             3.397373   \n",
       "\n",
       "       ('Chiken Snacks', 'Chiken Snacks', 'Hot Drinks')  \\\n",
       "count                                       5200.000000   \n",
       "mean                                           1.012530   \n",
       "std                                            0.245806   \n",
       "min                                            0.603771   \n",
       "25%                                            0.863520   \n",
       "50%                                            0.977825   \n",
       "75%                                            1.111579   \n",
       "max                                            4.585976   \n",
       "\n",
       "       ('Chiken Snacks', 'Snacks', 'Cold Drinks')  \\\n",
       "count                                 6020.000000   \n",
       "mean                                     1.076812   \n",
       "std                                      0.259878   \n",
       "min                                      0.543448   \n",
       "25%                                      0.874307   \n",
       "50%                                      1.044205   \n",
       "75%                                      1.257861   \n",
       "max                                      2.148668   \n",
       "\n",
       "       ('Chiken Snacks', 'Snacks', 'Hot Drinks')  \n",
       "count                                6020.000000  \n",
       "mean                                    0.954084  \n",
       "std                                     0.175636  \n",
       "min                                     0.585824  \n",
       "25%                                     0.844065  \n",
       "50%                                     0.943658  \n",
       "75%                                     1.047711  \n",
       "max                                     2.368760  "
      ]
     },
     "execution_count": 10,
     "metadata": {},
     "output_type": "execute_result"
    }
   ],
   "source": [
    "# cols of different length!\n",
    "McD_lite_d_8.describe()"
   ]
  },
  {
   "cell_type": "code",
   "execution_count": 11,
   "metadata": {
    "ExecuteTime": {
     "end_time": "2019-10-07T19:30:10.540872Z",
     "start_time": "2019-10-07T19:30:10.530871Z"
    }
   },
   "outputs": [],
   "source": [
    "# Good means with moderate StDevs! But we need to delete two groups \n",
    "# with doubled item 'Chiken Snacks':\n",
    "McD_lite_d_8.drop (columns = [\"('Chiken Snacks', 'Chiken Snacks', 'Cold Drinks')\", \n",
    "                               \"('Chiken Snacks', 'Chiken Snacks', 'Hot Drinks')\"], inplace=True)"
   ]
  },
  {
   "cell_type": "code",
   "execution_count": 13,
   "metadata": {
    "ExecuteTime": {
     "end_time": "2019-10-07T19:30:44.266801Z",
     "start_time": "2019-10-07T19:30:43.999786Z"
    },
    "scrolled": true
   },
   "outputs": [
    {
     "data": {
      "text/plain": [
       "<matplotlib.axes._subplots.AxesSubplot at 0x960fbe0>"
      ]
     },
     "execution_count": 13,
     "metadata": {},
     "output_type": "execute_result"
    },
    {
     "data": {
      "image/png": "[encoded data removed]",
      "text/plain": [
       "<Figure size 576x288 with 1 Axes>"
      ]
     },
     "metadata": {
      "needs_background": "light"
     },
     "output_type": "display_data"
    }
   ],
   "source": [
    "# B_index mean values for all groups\n",
    "cols = pd.Index.to_list(McD_lite_d_8.columns[0:])\n",
    "McD_lite_d_8[cols].mean().plot(kind = 'bar', subplots = False, width = 0.5, figsize = (8,4), grid = True)"
   ]
  },
  {
   "cell_type": "code",
   "execution_count": 14,
   "metadata": {
    "ExecuteTime": {
     "end_time": "2019-10-07T19:30:58.539617Z",
     "start_time": "2019-10-07T19:30:58.531617Z"
    },
    "scrolled": true
   },
   "outputs": [],
   "source": [
    "# The best group! All groups have B-index within 0.8-1.25 interval.\n",
    "McD_lite_d_best = McD_lite_d_8"
   ]
  },
  {
   "cell_type": "code",
   "execution_count": 16,
   "metadata": {
    "ExecuteTime": {
     "end_time": "2019-10-07T19:31:37.065648Z",
     "start_time": "2019-10-07T19:31:36.934041Z"
    }
   },
   "outputs": [],
   "source": [
    "McD_lite_d_best.to_csv ('McD_lite_d_best.csv')"
   ]
  }
 ],
 "metadata": {
  "hide_input": false,
  "kernelspec": {
   "display_name": "Python 3",
   "language": "python",
   "name": "python3"
  },
  "language_info": {
   "codemirror_mode": {
    "name": "ipython",
    "version": 3
   },
   "file_extension": ".py",
   "mimetype": "text/x-python",
   "name": "python",
   "nbconvert_exporter": "python",
   "pygments_lexer": "ipython3",
   "version": "3.7.1"
  }
 },
 "nbformat": 4,
 "nbformat_minor": 2
}
