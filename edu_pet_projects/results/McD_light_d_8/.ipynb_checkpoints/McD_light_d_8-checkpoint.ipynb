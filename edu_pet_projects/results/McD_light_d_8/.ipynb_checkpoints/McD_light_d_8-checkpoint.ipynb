{
 "cells": [
  {
   "cell_type": "markdown",
   "metadata": {},
   "source": [
    "## Analytics in terms of B-index"
   ]
  },
  {
   "cell_type": "markdown",
   "metadata": {},
   "source": [
    "### 1. \"Light dinner\" McD combination set "
   ]
  },
  {
   "cell_type": "code",
   "execution_count": 1,
   "metadata": {
    "ExecuteTime": {
     "end_time": "2019-10-06T16:50:39.367394Z",
     "start_time": "2019-10-06T16:50:38.545347Z"
    }
   },
   "outputs": [],
   "source": [
    "# required imports\n",
    "import pandas as pd\n",
    "from matplotlib import pyplot as plt\n",
    "%matplotlib inline"
   ]
  },
  {
   "cell_type": "code",
   "execution_count": 2,
   "metadata": {
    "ExecuteTime": {
     "end_time": "2019-10-06T16:50:45.259731Z",
     "start_time": "2019-10-06T16:50:45.212728Z"
    }
   },
   "outputs": [
    {
     "data": {
      "text/html": [
       "<div>\n",
       "<style scoped>\n",
       "    .dataframe tbody tr th:only-of-type {\n",
       "        vertical-align: middle;\n",
       "    }\n",
       "\n",
       "    .dataframe tbody tr th {\n",
       "        vertical-align: top;\n",
       "    }\n",
       "\n",
       "    .dataframe thead th {\n",
       "        text-align: right;\n",
       "    }\n",
       "</style>\n",
       "<table border=\"1\" class=\"dataframe\">\n",
       "  <thead>\n",
       "    <tr style=\"text-align: right;\">\n",
       "      <th></th>\n",
       "      <th>1</th>\n",
       "      <th>2</th>\n",
       "      <th>3</th>\n",
       "    </tr>\n",
       "  </thead>\n",
       "  <tbody>\n",
       "    <tr>\n",
       "      <th>0</th>\n",
       "      <td>('Salads'</td>\n",
       "      <td>'Chiken Snacks'</td>\n",
       "      <td>'Cold Drinks')</td>\n",
       "    </tr>\n",
       "    <tr>\n",
       "      <th>1</th>\n",
       "      <td>('Salads'</td>\n",
       "      <td>'Chiken Snacks'</td>\n",
       "      <td>'Hot Drinks')</td>\n",
       "    </tr>\n",
       "    <tr>\n",
       "      <th>2</th>\n",
       "      <td>('Salads'</td>\n",
       "      <td>'Snacks'</td>\n",
       "      <td>'Cold Drinks')</td>\n",
       "    </tr>\n",
       "    <tr>\n",
       "      <th>3</th>\n",
       "      <td>('Salads'</td>\n",
       "      <td>'Snacks'</td>\n",
       "      <td>'Hot Drinks')</td>\n",
       "    </tr>\n",
       "    <tr>\n",
       "      <th>4</th>\n",
       "      <td>('Chiken Snacks'</td>\n",
       "      <td>'Chiken Snacks'</td>\n",
       "      <td>'Cold Drinks')</td>\n",
       "    </tr>\n",
       "    <tr>\n",
       "      <th>5</th>\n",
       "      <td>('Chiken Snacks'</td>\n",
       "      <td>'Chiken Snacks'</td>\n",
       "      <td>'Hot Drinks')</td>\n",
       "    </tr>\n",
       "    <tr>\n",
       "      <th>6</th>\n",
       "      <td>('Chiken Snacks'</td>\n",
       "      <td>'Snacks'</td>\n",
       "      <td>'Cold Drinks')</td>\n",
       "    </tr>\n",
       "    <tr>\n",
       "      <th>7</th>\n",
       "      <td>('Chiken Snacks'</td>\n",
       "      <td>'Snacks'</td>\n",
       "      <td>'Hot Drinks')</td>\n",
       "    </tr>\n",
       "  </tbody>\n",
       "</table>\n",
       "</div>"
      ],
      "text/plain": [
       "                  1                 2                3\n",
       "0         ('Salads'   'Chiken Snacks'   'Cold Drinks')\n",
       "1         ('Salads'   'Chiken Snacks'    'Hot Drinks')\n",
       "2         ('Salads'          'Snacks'   'Cold Drinks')\n",
       "3         ('Salads'          'Snacks'    'Hot Drinks')\n",
       "4  ('Chiken Snacks'   'Chiken Snacks'   'Cold Drinks')\n",
       "5  ('Chiken Snacks'   'Chiken Snacks'    'Hot Drinks')\n",
       "6  ('Chiken Snacks'          'Snacks'   'Cold Drinks')\n",
       "7  ('Chiken Snacks'          'Snacks'    'Hot Drinks')"
      ]
     },
     "execution_count": 2,
     "metadata": {},
     "output_type": "execute_result"
    }
   ],
   "source": [
    "# list with 24 combinations of 3 items, they specified in same order \n",
    "# as B_index cols in df below: 1-st line '('Soups', 'Bakery', 'Cold Drinks')' \n",
    "# --> 1-st col 'SB_solid_b_0' and so on\n",
    "combinations = pd.read_csv (\"McD_light_d_8.txt\", names = ['1','2','3'])\n",
    "combinations"
   ]
  },
  {
   "cell_type": "code",
   "execution_count": 3,
   "metadata": {
    "ExecuteTime": {
     "end_time": "2019-10-06T16:50:55.067292Z",
     "start_time": "2019-10-06T16:50:55.022289Z"
    }
   },
   "outputs": [
    {
     "data": {
      "text/html": [
       "<div>\n",
       "<style scoped>\n",
       "    .dataframe tbody tr th:only-of-type {\n",
       "        vertical-align: middle;\n",
       "    }\n",
       "\n",
       "    .dataframe tbody tr th {\n",
       "        vertical-align: top;\n",
       "    }\n",
       "\n",
       "    .dataframe thead th {\n",
       "        text-align: right;\n",
       "    }\n",
       "</style>\n",
       "<table border=\"1\" class=\"dataframe\">\n",
       "  <thead>\n",
       "    <tr style=\"text-align: right;\">\n",
       "      <th></th>\n",
       "      <th>McD_light_d_0</th>\n",
       "      <th>McD_light_d_1</th>\n",
       "      <th>McD_light_d_2</th>\n",
       "      <th>McD_light_d_3</th>\n",
       "      <th>McD_light_d_4</th>\n",
       "      <th>McD_light_d_5</th>\n",
       "      <th>McD_light_d_6</th>\n",
       "      <th>McD_light_d_7</th>\n",
       "    </tr>\n",
       "  </thead>\n",
       "  <tbody>\n",
       "    <tr>\n",
       "      <th>0</th>\n",
       "      <td>1.215384</td>\n",
       "      <td>1.211930</td>\n",
       "      <td>1.215384</td>\n",
       "      <td>1.211930</td>\n",
       "      <td>1.233555</td>\n",
       "      <td>1.230808</td>\n",
       "      <td>1.233555</td>\n",
       "      <td>1.230808</td>\n",
       "    </tr>\n",
       "    <tr>\n",
       "      <th>1</th>\n",
       "      <td>1.155998</td>\n",
       "      <td>1.176658</td>\n",
       "      <td>1.155998</td>\n",
       "      <td>1.176658</td>\n",
       "      <td>1.198223</td>\n",
       "      <td>1.210241</td>\n",
       "      <td>1.198223</td>\n",
       "      <td>1.210241</td>\n",
       "    </tr>\n",
       "    <tr>\n",
       "      <th>2</th>\n",
       "      <td>1.098318</td>\n",
       "      <td>1.143716</td>\n",
       "      <td>1.098318</td>\n",
       "      <td>1.143716</td>\n",
       "      <td>1.161647</td>\n",
       "      <td>1.190309</td>\n",
       "      <td>1.161647</td>\n",
       "      <td>1.190309</td>\n",
       "    </tr>\n",
       "    <tr>\n",
       "      <th>3</th>\n",
       "      <td>1.267412</td>\n",
       "      <td>1.266612</td>\n",
       "      <td>1.267412</td>\n",
       "      <td>1.266612</td>\n",
       "      <td>1.262713</td>\n",
       "      <td>1.262232</td>\n",
       "      <td>1.262713</td>\n",
       "      <td>1.262232</td>\n",
       "    </tr>\n",
       "    <tr>\n",
       "      <th>4</th>\n",
       "      <td>1.485993</td>\n",
       "      <td>1.124717</td>\n",
       "      <td>1.485993</td>\n",
       "      <td>1.124717</td>\n",
       "      <td>1.367797</td>\n",
       "      <td>1.032116</td>\n",
       "      <td>1.367797</td>\n",
       "      <td>1.032116</td>\n",
       "    </tr>\n",
       "  </tbody>\n",
       "</table>\n",
       "</div>"
      ],
      "text/plain": [
       "   McD_light_d_0  McD_light_d_1  McD_light_d_2  McD_light_d_3  McD_light_d_4  \\\n",
       "0       1.215384       1.211930       1.215384       1.211930       1.233555   \n",
       "1       1.155998       1.176658       1.155998       1.176658       1.198223   \n",
       "2       1.098318       1.143716       1.098318       1.143716       1.161647   \n",
       "3       1.267412       1.266612       1.267412       1.266612       1.262713   \n",
       "4       1.485993       1.124717       1.485993       1.124717       1.367797   \n",
       "\n",
       "   McD_light_d_5  McD_light_d_6  McD_light_d_7  \n",
       "0       1.230808       1.233555       1.230808  \n",
       "1       1.210241       1.198223       1.210241  \n",
       "2       1.190309       1.161647       1.190309  \n",
       "3       1.262232       1.262713       1.262232  \n",
       "4       1.032116       1.367797       1.032116  "
      ]
     },
     "execution_count": 3,
     "metadata": {},
     "output_type": "execute_result"
    }
   ],
   "source": [
    "McD_light_d_8 = pd.read_csv ('McD_light_d_8.csv', sep=(','))\n",
    "McD_light_d_8.head ()"
   ]
  },
  {
   "cell_type": "code",
   "execution_count": 4,
   "metadata": {
    "ExecuteTime": {
     "end_time": "2019-10-06T16:50:59.073521Z",
     "start_time": "2019-10-06T16:50:59.042519Z"
    }
   },
   "outputs": [
    {
     "name": "stdout",
     "output_type": "stream",
     "text": [
      "<class 'pandas.core.frame.DataFrame'>\n",
      "RangeIndex: 6020 entries, 0 to 6019\n",
      "Data columns (total 8 columns):\n",
      "McD_light_d_0    6020 non-null float64\n",
      "McD_light_d_1    3640 non-null float64\n",
      "McD_light_d_2    6020 non-null float64\n",
      "McD_light_d_3    6020 non-null float64\n",
      "McD_light_d_4    6020 non-null float64\n",
      "McD_light_d_5    5200 non-null float64\n",
      "McD_light_d_6    6020 non-null float64\n",
      "McD_light_d_7    6020 non-null float64\n",
      "dtypes: float64(8)\n",
      "memory usage: 376.3 KB\n"
     ]
    }
   ],
   "source": [
    "# different combinations of groups gave different combinations of items\n",
    "McD_light_d_8.info()"
   ]
  },
  {
   "cell_type": "code",
   "execution_count": 5,
   "metadata": {
    "ExecuteTime": {
     "end_time": "2019-10-06T16:51:02.556720Z",
     "start_time": "2019-10-06T16:51:02.496717Z"
    }
   },
   "outputs": [
    {
     "data": {
      "text/html": [
       "<div>\n",
       "<style scoped>\n",
       "    .dataframe tbody tr th:only-of-type {\n",
       "        vertical-align: middle;\n",
       "    }\n",
       "\n",
       "    .dataframe tbody tr th {\n",
       "        vertical-align: top;\n",
       "    }\n",
       "\n",
       "    .dataframe thead th {\n",
       "        text-align: right;\n",
       "    }\n",
       "</style>\n",
       "<table border=\"1\" class=\"dataframe\">\n",
       "  <thead>\n",
       "    <tr style=\"text-align: right;\">\n",
       "      <th></th>\n",
       "      <th>McD_light_d_0</th>\n",
       "      <th>McD_light_d_1</th>\n",
       "      <th>McD_light_d_2</th>\n",
       "      <th>McD_light_d_3</th>\n",
       "      <th>McD_light_d_4</th>\n",
       "      <th>McD_light_d_5</th>\n",
       "      <th>McD_light_d_6</th>\n",
       "      <th>McD_light_d_7</th>\n",
       "    </tr>\n",
       "  </thead>\n",
       "  <tbody>\n",
       "    <tr>\n",
       "      <th>count</th>\n",
       "      <td>6020.000000</td>\n",
       "      <td>3640.000000</td>\n",
       "      <td>6020.000000</td>\n",
       "      <td>6020.000000</td>\n",
       "      <td>6020.000000</td>\n",
       "      <td>5200.000000</td>\n",
       "      <td>6020.000000</td>\n",
       "      <td>6020.000000</td>\n",
       "    </tr>\n",
       "    <tr>\n",
       "      <th>mean</th>\n",
       "      <td>1.125174</td>\n",
       "      <td>1.002303</td>\n",
       "      <td>1.020339</td>\n",
       "      <td>0.893404</td>\n",
       "      <td>1.148404</td>\n",
       "      <td>1.012530</td>\n",
       "      <td>1.076812</td>\n",
       "      <td>0.954084</td>\n",
       "    </tr>\n",
       "    <tr>\n",
       "      <th>std</th>\n",
       "      <td>0.564710</td>\n",
       "      <td>0.346883</td>\n",
       "      <td>0.308033</td>\n",
       "      <td>0.264636</td>\n",
       "      <td>0.319739</td>\n",
       "      <td>0.245806</td>\n",
       "      <td>0.259878</td>\n",
       "      <td>0.175636</td>\n",
       "    </tr>\n",
       "    <tr>\n",
       "      <th>min</th>\n",
       "      <td>0.451478</td>\n",
       "      <td>0.515985</td>\n",
       "      <td>0.490010</td>\n",
       "      <td>0.454057</td>\n",
       "      <td>0.534455</td>\n",
       "      <td>0.603771</td>\n",
       "      <td>0.543448</td>\n",
       "      <td>0.585824</td>\n",
       "    </tr>\n",
       "    <tr>\n",
       "      <th>25%</th>\n",
       "      <td>0.791654</td>\n",
       "      <td>0.784748</td>\n",
       "      <td>0.797937</td>\n",
       "      <td>0.709981</td>\n",
       "      <td>0.920534</td>\n",
       "      <td>0.863520</td>\n",
       "      <td>0.874307</td>\n",
       "      <td>0.844065</td>\n",
       "    </tr>\n",
       "    <tr>\n",
       "      <th>50%</th>\n",
       "      <td>0.996362</td>\n",
       "      <td>0.928646</td>\n",
       "      <td>0.964772</td>\n",
       "      <td>0.844312</td>\n",
       "      <td>1.115592</td>\n",
       "      <td>0.977825</td>\n",
       "      <td>1.044205</td>\n",
       "      <td>0.943658</td>\n",
       "    </tr>\n",
       "    <tr>\n",
       "      <th>75%</th>\n",
       "      <td>1.269779</td>\n",
       "      <td>1.126575</td>\n",
       "      <td>1.169723</td>\n",
       "      <td>1.009499</td>\n",
       "      <td>1.320819</td>\n",
       "      <td>1.111579</td>\n",
       "      <td>1.257861</td>\n",
       "      <td>1.047711</td>\n",
       "    </tr>\n",
       "    <tr>\n",
       "      <th>max</th>\n",
       "      <td>6.909946</td>\n",
       "      <td>5.748442</td>\n",
       "      <td>2.835028</td>\n",
       "      <td>3.546815</td>\n",
       "      <td>3.397373</td>\n",
       "      <td>4.585976</td>\n",
       "      <td>2.148668</td>\n",
       "      <td>2.368760</td>\n",
       "    </tr>\n",
       "  </tbody>\n",
       "</table>\n",
       "</div>"
      ],
      "text/plain": [
       "       McD_light_d_0  McD_light_d_1  McD_light_d_2  McD_light_d_3  \\\n",
       "count    6020.000000    3640.000000    6020.000000    6020.000000   \n",
       "mean        1.125174       1.002303       1.020339       0.893404   \n",
       "std         0.564710       0.346883       0.308033       0.264636   \n",
       "min         0.451478       0.515985       0.490010       0.454057   \n",
       "25%         0.791654       0.784748       0.797937       0.709981   \n",
       "50%         0.996362       0.928646       0.964772       0.844312   \n",
       "75%         1.269779       1.126575       1.169723       1.009499   \n",
       "max         6.909946       5.748442       2.835028       3.546815   \n",
       "\n",
       "       McD_light_d_4  McD_light_d_5  McD_light_d_6  McD_light_d_7  \n",
       "count    6020.000000    5200.000000    6020.000000    6020.000000  \n",
       "mean        1.148404       1.012530       1.076812       0.954084  \n",
       "std         0.319739       0.245806       0.259878       0.175636  \n",
       "min         0.534455       0.603771       0.543448       0.585824  \n",
       "25%         0.920534       0.863520       0.874307       0.844065  \n",
       "50%         1.115592       0.977825       1.044205       0.943658  \n",
       "75%         1.320819       1.111579       1.257861       1.047711  \n",
       "max         3.397373       4.585976       2.148668       2.368760  "
      ]
     },
     "execution_count": 5,
     "metadata": {},
     "output_type": "execute_result"
    }
   ],
   "source": [
    "# cols of different length!\n",
    "McD_light_d_8.describe()"
   ]
  },
  {
   "cell_type": "code",
   "execution_count": 6,
   "metadata": {
    "ExecuteTime": {
     "end_time": "2019-10-06T16:51:10.623182Z",
     "start_time": "2019-10-06T16:51:10.579179Z"
    }
   },
   "outputs": [
    {
     "data": {
      "text/plain": [
       "(1.112, 1.148]    2\n",
       "(1.003, 1.039]    2\n",
       "(1.076, 1.112]    1\n",
       "(0.966, 1.003]    1\n",
       "(0.93, 0.966]     1\n",
       "(0.892, 0.93]     1\n",
       "(1.039, 1.076]    0\n",
       "dtype: int64"
      ]
     },
     "execution_count": 6,
     "metadata": {},
     "output_type": "execute_result"
    }
   ],
   "source": [
    "# mean B-index of the subset:\n",
    "McD_light_d_8.mean().value_counts (bins=7)"
   ]
  },
  {
   "cell_type": "code",
   "execution_count": 8,
   "metadata": {
    "ExecuteTime": {
     "end_time": "2019-10-06T16:51:24.004947Z",
     "start_time": "2019-10-06T16:51:23.741932Z"
    },
    "scrolled": true
   },
   "outputs": [
    {
     "data": {
      "text/plain": [
       "<matplotlib.axes._subplots.AxesSubplot at 0x8bb3128>"
      ]
     },
     "execution_count": 8,
     "metadata": {},
     "output_type": "execute_result"
    },
    {
     "data": {
      "image/png": "[encoded data removed]",
      "text/plain": [
       "<Figure size 576x288 with 1 Axes>"
      ]
     },
     "metadata": {
      "needs_background": "light"
     },
     "output_type": "display_data"
    }
   ],
   "source": [
    "# B_index mean values for all groups\n",
    "cols = pd.Index.to_list(McD_light_d_8.columns[0:])\n",
    "McD_light_d_8[cols].mean().plot(kind = 'bar', \n",
    "                                subplots = False, \n",
    "                                width = 0.5, \n",
    "                                figsize = (8,4),\n",
    "                                grid = True)"
   ]
  },
  {
   "cell_type": "code",
   "execution_count": null,
   "metadata": {},
   "outputs": [],
   "source": []
  }
 ],
 "metadata": {
  "hide_input": false,
  "kernelspec": {
   "display_name": "Python 3",
   "language": "python",
   "name": "python3"
  },
  "language_info": {
   "codemirror_mode": {
    "name": "ipython",
    "version": 3
   },
   "file_extension": ".py",
   "mimetype": "text/x-python",
   "name": "python",
   "nbconvert_exporter": "python",
   "pygments_lexer": "ipython3",
   "version": "3.7.1"
  }
 },
 "nbformat": 4,
 "nbformat_minor": 2
}
