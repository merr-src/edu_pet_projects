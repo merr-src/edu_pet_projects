{
 "cells": [
  {
   "cell_type": "markdown",
   "metadata": {},
   "source": [
    "## Analytics in terms of B-index"
   ]
  },
  {
   "cell_type": "markdown",
   "metadata": {},
   "source": [
    "### 1. \"Solid dinner\" McD combination set "
   ]
  },
  {
   "cell_type": "code",
   "execution_count": 1,
   "metadata": {
    "ExecuteTime": {
     "end_time": "2019-10-06T16:44:44.550509Z",
     "start_time": "2019-10-06T16:44:43.608455Z"
    }
   },
   "outputs": [],
   "source": [
    "# required imports\n",
    "import pandas as pd\n",
    "from matplotlib import pyplot as plt\n",
    "%matplotlib inline"
   ]
  },
  {
   "cell_type": "code",
   "execution_count": 2,
   "metadata": {
    "ExecuteTime": {
     "end_time": "2019-10-06T16:44:57.265236Z",
     "start_time": "2019-10-06T16:44:57.226234Z"
    }
   },
   "outputs": [
    {
     "data": {
      "text/html": [
       "<div>\n",
       "<style scoped>\n",
       "    .dataframe tbody tr th:only-of-type {\n",
       "        vertical-align: middle;\n",
       "    }\n",
       "\n",
       "    .dataframe tbody tr th {\n",
       "        vertical-align: top;\n",
       "    }\n",
       "\n",
       "    .dataframe thead th {\n",
       "        text-align: right;\n",
       "    }\n",
       "</style>\n",
       "<table border=\"1\" class=\"dataframe\">\n",
       "  <thead>\n",
       "    <tr style=\"text-align: right;\">\n",
       "      <th></th>\n",
       "      <th>1</th>\n",
       "      <th>2</th>\n",
       "      <th>3</th>\n",
       "    </tr>\n",
       "  </thead>\n",
       "  <tbody>\n",
       "    <tr>\n",
       "      <th>0</th>\n",
       "      <td>('Chiken Snacks'</td>\n",
       "      <td>'Sweets/Desserts'</td>\n",
       "      <td>'Cold Drinks')</td>\n",
       "    </tr>\n",
       "    <tr>\n",
       "      <th>1</th>\n",
       "      <td>('Chiken Snacks'</td>\n",
       "      <td>'Sweets/Desserts'</td>\n",
       "      <td>'Hot Drinks')</td>\n",
       "    </tr>\n",
       "    <tr>\n",
       "      <th>2</th>\n",
       "      <td>('Chiken Snacks'</td>\n",
       "      <td>'Sweets/Snacks'</td>\n",
       "      <td>'Cold Drinks')</td>\n",
       "    </tr>\n",
       "    <tr>\n",
       "      <th>3</th>\n",
       "      <td>('Chiken Snacks'</td>\n",
       "      <td>'Sweets/Snacks'</td>\n",
       "      <td>'Hot Drinks')</td>\n",
       "    </tr>\n",
       "    <tr>\n",
       "      <th>4</th>\n",
       "      <td>('Snacks'</td>\n",
       "      <td>'Sweets/Desserts'</td>\n",
       "      <td>'Cold Drinks')</td>\n",
       "    </tr>\n",
       "    <tr>\n",
       "      <th>5</th>\n",
       "      <td>('Snacks'</td>\n",
       "      <td>'Sweets/Desserts'</td>\n",
       "      <td>'Hot Drinks')</td>\n",
       "    </tr>\n",
       "    <tr>\n",
       "      <th>6</th>\n",
       "      <td>('Snacks'</td>\n",
       "      <td>'Sweets/Snacks'</td>\n",
       "      <td>'Cold Drinks')</td>\n",
       "    </tr>\n",
       "    <tr>\n",
       "      <th>7</th>\n",
       "      <td>('Snacks'</td>\n",
       "      <td>'Sweets/Snacks'</td>\n",
       "      <td>'Hot Drinks')</td>\n",
       "    </tr>\n",
       "  </tbody>\n",
       "</table>\n",
       "</div>"
      ],
      "text/plain": [
       "                  1                   2                3\n",
       "0  ('Chiken Snacks'   'Sweets/Desserts'   'Cold Drinks')\n",
       "1  ('Chiken Snacks'   'Sweets/Desserts'    'Hot Drinks')\n",
       "2  ('Chiken Snacks'     'Sweets/Snacks'   'Cold Drinks')\n",
       "3  ('Chiken Snacks'     'Sweets/Snacks'    'Hot Drinks')\n",
       "4         ('Snacks'   'Sweets/Desserts'   'Cold Drinks')\n",
       "5         ('Snacks'   'Sweets/Desserts'    'Hot Drinks')\n",
       "6         ('Snacks'     'Sweets/Snacks'   'Cold Drinks')\n",
       "7         ('Snacks'     'Sweets/Snacks'    'Hot Drinks')"
      ]
     },
     "execution_count": 2,
     "metadata": {},
     "output_type": "execute_result"
    }
   ],
   "source": [
    "# list with 8 combinations of 3 items, they specified in same order \n",
    "# as B_index cols in df below: 1-st line '('Soups', 'Bakery', 'Cold Drinks')' \n",
    "# --> 1-st col 'SB_solid_b_0' and so on\n",
    "combinations = pd.read_csv (\"McD_solid_d_8.txt\", names = ['1','2','3'])\n",
    "combinations"
   ]
  },
  {
   "cell_type": "code",
   "execution_count": 3,
   "metadata": {
    "ExecuteTime": {
     "end_time": "2019-10-06T16:45:11.071026Z",
     "start_time": "2019-10-06T16:45:11.014023Z"
    }
   },
   "outputs": [
    {
     "data": {
      "text/html": [
       "<div>\n",
       "<style scoped>\n",
       "    .dataframe tbody tr th:only-of-type {\n",
       "        vertical-align: middle;\n",
       "    }\n",
       "\n",
       "    .dataframe tbody tr th {\n",
       "        vertical-align: top;\n",
       "    }\n",
       "\n",
       "    .dataframe thead th {\n",
       "        text-align: right;\n",
       "    }\n",
       "</style>\n",
       "<table border=\"1\" class=\"dataframe\">\n",
       "  <thead>\n",
       "    <tr style=\"text-align: right;\">\n",
       "      <th></th>\n",
       "      <th>McD_solid_d_0</th>\n",
       "      <th>McD_solid_d_1</th>\n",
       "      <th>McD_solid_d_2</th>\n",
       "      <th>McD_solid_d_3</th>\n",
       "      <th>McD_solid_d_4</th>\n",
       "      <th>McD_solid_d_5</th>\n",
       "      <th>McD_solid_d_6</th>\n",
       "      <th>McD_solid_d_7</th>\n",
       "    </tr>\n",
       "  </thead>\n",
       "  <tbody>\n",
       "    <tr>\n",
       "      <th>0</th>\n",
       "      <td>2.296940</td>\n",
       "      <td>2.279324</td>\n",
       "      <td>1.126251</td>\n",
       "      <td>1.120649</td>\n",
       "      <td>2.296940</td>\n",
       "      <td>2.279324</td>\n",
       "      <td>1.126251</td>\n",
       "      <td>1.120649</td>\n",
       "    </tr>\n",
       "    <tr>\n",
       "      <th>1</th>\n",
       "      <td>2.220737</td>\n",
       "      <td>2.234614</td>\n",
       "      <td>1.108915</td>\n",
       "      <td>1.111089</td>\n",
       "      <td>2.220737</td>\n",
       "      <td>2.234614</td>\n",
       "      <td>1.108915</td>\n",
       "      <td>1.111089</td>\n",
       "    </tr>\n",
       "    <tr>\n",
       "      <th>2</th>\n",
       "      <td>2.148466</td>\n",
       "      <td>2.192571</td>\n",
       "      <td>1.089989</td>\n",
       "      <td>1.101301</td>\n",
       "      <td>2.148466</td>\n",
       "      <td>2.192571</td>\n",
       "      <td>1.089989</td>\n",
       "      <td>1.101301</td>\n",
       "    </tr>\n",
       "    <tr>\n",
       "      <th>3</th>\n",
       "      <td>2.364639</td>\n",
       "      <td>2.361592</td>\n",
       "      <td>1.139321</td>\n",
       "      <td>1.138479</td>\n",
       "      <td>2.364639</td>\n",
       "      <td>2.361592</td>\n",
       "      <td>1.139321</td>\n",
       "      <td>1.138479</td>\n",
       "    </tr>\n",
       "    <tr>\n",
       "      <th>4</th>\n",
       "      <td>2.661398</td>\n",
       "      <td>1.636407</td>\n",
       "      <td>1.179389</td>\n",
       "      <td>0.902107</td>\n",
       "      <td>2.661398</td>\n",
       "      <td>1.636407</td>\n",
       "      <td>1.179389</td>\n",
       "      <td>0.902107</td>\n",
       "    </tr>\n",
       "  </tbody>\n",
       "</table>\n",
       "</div>"
      ],
      "text/plain": [
       "   McD_solid_d_0  McD_solid_d_1  McD_solid_d_2  McD_solid_d_3  McD_solid_d_4  \\\n",
       "0       2.296940       2.279324       1.126251       1.120649       2.296940   \n",
       "1       2.220737       2.234614       1.108915       1.111089       2.220737   \n",
       "2       2.148466       2.192571       1.089989       1.101301       2.148466   \n",
       "3       2.364639       2.361592       1.139321       1.138479       2.364639   \n",
       "4       2.661398       1.636407       1.179389       0.902107       2.661398   \n",
       "\n",
       "   McD_solid_d_5  McD_solid_d_6  McD_solid_d_7  \n",
       "0       2.279324       1.126251       1.120649  \n",
       "1       2.234614       1.108915       1.111089  \n",
       "2       2.192571       1.089989       1.101301  \n",
       "3       2.361592       1.139321       1.138479  \n",
       "4       1.636407       1.179389       0.902107  "
      ]
     },
     "execution_count": 3,
     "metadata": {},
     "output_type": "execute_result"
    }
   ],
   "source": [
    "McD_solid_d_8 = pd.read_csv ('McD_solid_d_8.csv', sep=(','))\n",
    "McD_solid_d_8.head ()"
   ]
  },
  {
   "cell_type": "code",
   "execution_count": 4,
   "metadata": {
    "ExecuteTime": {
     "end_time": "2019-10-06T16:45:16.658345Z",
     "start_time": "2019-10-06T16:45:16.634344Z"
    }
   },
   "outputs": [
    {
     "name": "stdout",
     "output_type": "stream",
     "text": [
      "<class 'pandas.core.frame.DataFrame'>\n",
      "RangeIndex: 7740 entries, 0 to 7739\n",
      "Data columns (total 8 columns):\n",
      "McD_solid_d_0    7740 non-null float64\n",
      "McD_solid_d_1    4680 non-null float64\n",
      "McD_solid_d_2    6880 non-null float64\n",
      "McD_solid_d_3    4160 non-null float64\n",
      "McD_solid_d_4    7740 non-null float64\n",
      "McD_solid_d_5    7740 non-null float64\n",
      "McD_solid_d_6    7740 non-null float64\n",
      "McD_solid_d_7    7488 non-null float64\n",
      "dtypes: float64(8)\n",
      "memory usage: 483.8 KB\n"
     ]
    }
   ],
   "source": [
    "# different combinations of groups gave different combinations of items\n",
    "McD_solid_d_8.info()"
   ]
  },
  {
   "cell_type": "code",
   "execution_count": 5,
   "metadata": {
    "ExecuteTime": {
     "end_time": "2019-10-06T16:45:22.958706Z",
     "start_time": "2019-10-06T16:45:22.885702Z"
    }
   },
   "outputs": [
    {
     "data": {
      "text/html": [
       "<div>\n",
       "<style scoped>\n",
       "    .dataframe tbody tr th:only-of-type {\n",
       "        vertical-align: middle;\n",
       "    }\n",
       "\n",
       "    .dataframe tbody tr th {\n",
       "        vertical-align: top;\n",
       "    }\n",
       "\n",
       "    .dataframe thead th {\n",
       "        text-align: right;\n",
       "    }\n",
       "</style>\n",
       "<table border=\"1\" class=\"dataframe\">\n",
       "  <thead>\n",
       "    <tr style=\"text-align: right;\">\n",
       "      <th></th>\n",
       "      <th>McD_solid_d_0</th>\n",
       "      <th>McD_solid_d_1</th>\n",
       "      <th>McD_solid_d_2</th>\n",
       "      <th>McD_solid_d_3</th>\n",
       "      <th>McD_solid_d_4</th>\n",
       "      <th>McD_solid_d_5</th>\n",
       "      <th>McD_solid_d_6</th>\n",
       "      <th>McD_solid_d_7</th>\n",
       "    </tr>\n",
       "  </thead>\n",
       "  <tbody>\n",
       "    <tr>\n",
       "      <th>count</th>\n",
       "      <td>7740.000000</td>\n",
       "      <td>4680.000000</td>\n",
       "      <td>6880.000000</td>\n",
       "      <td>4160.000000</td>\n",
       "      <td>7740.000000</td>\n",
       "      <td>7740.000000</td>\n",
       "      <td>7740.000000</td>\n",
       "      <td>7488.000000</td>\n",
       "    </tr>\n",
       "    <tr>\n",
       "      <th>mean</th>\n",
       "      <td>1.603025</td>\n",
       "      <td>1.289453</td>\n",
       "      <td>1.011781</td>\n",
       "      <td>0.893064</td>\n",
       "      <td>1.603025</td>\n",
       "      <td>1.228113</td>\n",
       "      <td>1.003789</td>\n",
       "      <td>0.872908</td>\n",
       "    </tr>\n",
       "    <tr>\n",
       "      <th>std</th>\n",
       "      <td>0.777654</td>\n",
       "      <td>0.425824</td>\n",
       "      <td>0.268130</td>\n",
       "      <td>0.187822</td>\n",
       "      <td>0.777654</td>\n",
       "      <td>0.390873</td>\n",
       "      <td>0.263504</td>\n",
       "      <td>0.180237</td>\n",
       "    </tr>\n",
       "    <tr>\n",
       "      <th>min</th>\n",
       "      <td>0.609082</td>\n",
       "      <td>0.701442</td>\n",
       "      <td>0.477143</td>\n",
       "      <td>0.531190</td>\n",
       "      <td>0.609082</td>\n",
       "      <td>0.607153</td>\n",
       "      <td>0.477143</td>\n",
       "      <td>0.520234</td>\n",
       "    </tr>\n",
       "    <tr>\n",
       "      <th>25%</th>\n",
       "      <td>1.115770</td>\n",
       "      <td>1.034642</td>\n",
       "      <td>0.819970</td>\n",
       "      <td>0.750759</td>\n",
       "      <td>1.115770</td>\n",
       "      <td>0.989529</td>\n",
       "      <td>0.815980</td>\n",
       "      <td>0.733797</td>\n",
       "    </tr>\n",
       "    <tr>\n",
       "      <th>50%</th>\n",
       "      <td>1.437576</td>\n",
       "      <td>1.199387</td>\n",
       "      <td>0.964153</td>\n",
       "      <td>0.873896</td>\n",
       "      <td>1.437576</td>\n",
       "      <td>1.156277</td>\n",
       "      <td>0.955658</td>\n",
       "      <td>0.858974</td>\n",
       "    </tr>\n",
       "    <tr>\n",
       "      <th>75%</th>\n",
       "      <td>1.866988</td>\n",
       "      <td>1.425325</td>\n",
       "      <td>1.179861</td>\n",
       "      <td>0.988375</td>\n",
       "      <td>1.866988</td>\n",
       "      <td>1.362504</td>\n",
       "      <td>1.174689</td>\n",
       "      <td>0.971586</td>\n",
       "    </tr>\n",
       "    <tr>\n",
       "      <th>max</th>\n",
       "      <td>9.778371</td>\n",
       "      <td>8.585106</td>\n",
       "      <td>2.238752</td>\n",
       "      <td>2.087479</td>\n",
       "      <td>9.778371</td>\n",
       "      <td>8.585106</td>\n",
       "      <td>2.238752</td>\n",
       "      <td>2.087479</td>\n",
       "    </tr>\n",
       "  </tbody>\n",
       "</table>\n",
       "</div>"
      ],
      "text/plain": [
       "       McD_solid_d_0  McD_solid_d_1  McD_solid_d_2  McD_solid_d_3  \\\n",
       "count    7740.000000    4680.000000    6880.000000    4160.000000   \n",
       "mean        1.603025       1.289453       1.011781       0.893064   \n",
       "std         0.777654       0.425824       0.268130       0.187822   \n",
       "min         0.609082       0.701442       0.477143       0.531190   \n",
       "25%         1.115770       1.034642       0.819970       0.750759   \n",
       "50%         1.437576       1.199387       0.964153       0.873896   \n",
       "75%         1.866988       1.425325       1.179861       0.988375   \n",
       "max         9.778371       8.585106       2.238752       2.087479   \n",
       "\n",
       "       McD_solid_d_4  McD_solid_d_5  McD_solid_d_6  McD_solid_d_7  \n",
       "count    7740.000000    7740.000000    7740.000000    7488.000000  \n",
       "mean        1.603025       1.228113       1.003789       0.872908  \n",
       "std         0.777654       0.390873       0.263504       0.180237  \n",
       "min         0.609082       0.607153       0.477143       0.520234  \n",
       "25%         1.115770       0.989529       0.815980       0.733797  \n",
       "50%         1.437576       1.156277       0.955658       0.858974  \n",
       "75%         1.866988       1.362504       1.174689       0.971586  \n",
       "max         9.778371       8.585106       2.238752       2.087479  "
      ]
     },
     "execution_count": 5,
     "metadata": {},
     "output_type": "execute_result"
    }
   ],
   "source": [
    "# cols of different length!\n",
    "McD_solid_d_8.describe()"
   ]
  },
  {
   "cell_type": "code",
   "execution_count": 6,
   "metadata": {
    "ExecuteTime": {
     "end_time": "2019-10-06T16:45:27.110943Z",
     "start_time": "2019-10-06T16:45:27.076941Z"
    }
   },
   "outputs": [
    {
     "data": {
      "text/plain": [
       "(1.499, 1.603]    2\n",
       "(1.186, 1.29]     2\n",
       "(0.977, 1.082]    2\n",
       "(0.871, 0.977]    2\n",
       "(1.394, 1.499]    0\n",
       "(1.29, 1.394]     0\n",
       "(1.082, 1.186]    0\n",
       "dtype: int64"
      ]
     },
     "execution_count": 6,
     "metadata": {},
     "output_type": "execute_result"
    }
   ],
   "source": [
    "# mean B-index of the subset:\n",
    "McD_solid_d_8.mean().value_counts (bins=7)"
   ]
  },
  {
   "cell_type": "code",
   "execution_count": 8,
   "metadata": {
    "ExecuteTime": {
     "end_time": "2019-10-06T16:45:38.751609Z",
     "start_time": "2019-10-06T16:45:38.498595Z"
    },
    "scrolled": true
   },
   "outputs": [
    {
     "data": {
      "text/plain": [
       "<matplotlib.axes._subplots.AxesSubplot at 0x8fb82b0>"
      ]
     },
     "execution_count": 8,
     "metadata": {},
     "output_type": "execute_result"
    },
    {
     "data": {
      "image/png": "[encoded data removed]",
      "text/plain": [
       "<Figure size 576x288 with 1 Axes>"
      ]
     },
     "metadata": {
      "needs_background": "light"
     },
     "output_type": "display_data"
    }
   ],
   "source": [
    "# B_index mean values for all groups\n",
    "cols = pd.Index.to_list(McD_solid_d_8.columns[0:])\n",
    "McD_solid_d_8[cols].mean().plot(kind = 'bar', \n",
    "                                subplots = False, \n",
    "                                width = 0.5, \n",
    "                                figsize = (8,4),\n",
    "                                grid = True)"
   ]
  },
  {
   "cell_type": "code",
   "execution_count": null,
   "metadata": {},
   "outputs": [],
   "source": []
  }
 ],
 "metadata": {
  "hide_input": false,
  "kernelspec": {
   "display_name": "Python 3",
   "language": "python",
   "name": "python3"
  },
  "language_info": {
   "codemirror_mode": {
    "name": "ipython",
    "version": 3
   },
   "file_extension": ".py",
   "mimetype": "text/x-python",
   "name": "python",
   "nbconvert_exporter": "python",
   "pygments_lexer": "ipython3",
   "version": "3.7.1"
  }
 },
 "nbformat": 4,
 "nbformat_minor": 2
}
