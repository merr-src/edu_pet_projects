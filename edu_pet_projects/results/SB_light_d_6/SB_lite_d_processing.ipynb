{
 "cells": [
  {
   "cell_type": "markdown",
   "metadata": {},
   "source": [
    "## Analytics in terms of B-index"
   ]
  },
  {
   "cell_type": "markdown",
   "metadata": {},
   "source": [
    "### 1. \"Lite\" SB combination set "
   ]
  },
  {
   "cell_type": "code",
   "execution_count": 43,
   "metadata": {
    "ExecuteTime": {
     "end_time": "2019-10-07T18:12:55.096660Z",
     "start_time": "2019-10-07T18:12:55.079659Z"
    }
   },
   "outputs": [],
   "source": [
    "# required imports\n",
    "import pandas as pd\n",
    "from matplotlib import pyplot as plt\n",
    "%matplotlib inline"
   ]
  },
  {
   "cell_type": "code",
   "execution_count": 44,
   "metadata": {
    "ExecuteTime": {
     "end_time": "2019-10-07T18:12:55.231668Z",
     "start_time": "2019-10-07T18:12:55.106661Z"
    }
   },
   "outputs": [],
   "source": [
    "# list with 24 combinations of 3 items, they specified in same order \n",
    "# as B_index cols in df below --> 1-st col 'SB_solid_b_0' and so on\n",
    "\n",
    "combi_list = []\n",
    "\n",
    "with open ('SB_lite_d_6.txt', 'r') as f:\n",
    "    for line in f:\n",
    "        line = line[:-1]\n",
    "        combi_list.append (line)\n",
    "    f.close()"
   ]
  },
  {
   "cell_type": "code",
   "execution_count": 45,
   "metadata": {
    "ExecuteTime": {
     "end_time": "2019-10-07T18:12:55.375676Z",
     "start_time": "2019-10-07T18:12:55.235668Z"
    }
   },
   "outputs": [
    {
     "data": {
      "text/html": [
       "<div>\n",
       "<style scoped>\n",
       "    .dataframe tbody tr th:only-of-type {\n",
       "        vertical-align: middle;\n",
       "    }\n",
       "\n",
       "    .dataframe tbody tr th {\n",
       "        vertical-align: top;\n",
       "    }\n",
       "\n",
       "    .dataframe thead th {\n",
       "        text-align: right;\n",
       "    }\n",
       "</style>\n",
       "<table border=\"1\" class=\"dataframe\">\n",
       "  <thead>\n",
       "    <tr style=\"text-align: right;\">\n",
       "      <th></th>\n",
       "      <th>('Bakery', 'Cold Drinks')</th>\n",
       "      <th>('Bakery', 'Hot Drinks')</th>\n",
       "      <th>('Cold Sandwiches', 'Cold Drinks')</th>\n",
       "      <th>('Cold Sandwiches', 'Hot Drinks')</th>\n",
       "      <th>('Warm Sandwiches', 'Cold Drinks')</th>\n",
       "      <th>('Warm Sandwiches', 'Hot Drinks')</th>\n",
       "    </tr>\n",
       "  </thead>\n",
       "  <tbody>\n",
       "    <tr>\n",
       "      <th>0</th>\n",
       "      <td>2.598284</td>\n",
       "      <td>2.655924</td>\n",
       "      <td>1.361289</td>\n",
       "      <td>1.415854</td>\n",
       "      <td>1.475750</td>\n",
       "      <td>1.695223</td>\n",
       "    </tr>\n",
       "    <tr>\n",
       "      <th>1</th>\n",
       "      <td>2.455656</td>\n",
       "      <td>2.655924</td>\n",
       "      <td>1.290202</td>\n",
       "      <td>1.415854</td>\n",
       "      <td>1.345902</td>\n",
       "      <td>1.695223</td>\n",
       "    </tr>\n",
       "    <tr>\n",
       "      <th>2</th>\n",
       "      <td>1.131269</td>\n",
       "      <td>2.655924</td>\n",
       "      <td>0.809459</td>\n",
       "      <td>1.415854</td>\n",
       "      <td>0.833167</td>\n",
       "      <td>1.695223</td>\n",
       "    </tr>\n",
       "    <tr>\n",
       "      <th>3</th>\n",
       "      <td>2.478873</td>\n",
       "      <td>2.655924</td>\n",
       "      <td>1.307255</td>\n",
       "      <td>1.415854</td>\n",
       "      <td>1.393743</td>\n",
       "      <td>1.695223</td>\n",
       "    </tr>\n",
       "    <tr>\n",
       "      <th>4</th>\n",
       "      <td>2.509762</td>\n",
       "      <td>2.655924</td>\n",
       "      <td>1.294833</td>\n",
       "      <td>1.415854</td>\n",
       "      <td>1.295776</td>\n",
       "      <td>1.695223</td>\n",
       "    </tr>\n",
       "  </tbody>\n",
       "</table>\n",
       "</div>"
      ],
      "text/plain": [
       "   ('Bakery', 'Cold Drinks')  ('Bakery', 'Hot Drinks')  \\\n",
       "0                   2.598284                  2.655924   \n",
       "1                   2.455656                  2.655924   \n",
       "2                   1.131269                  2.655924   \n",
       "3                   2.478873                  2.655924   \n",
       "4                   2.509762                  2.655924   \n",
       "\n",
       "   ('Cold Sandwiches', 'Cold Drinks')  ('Cold Sandwiches', 'Hot Drinks')  \\\n",
       "0                            1.361289                           1.415854   \n",
       "1                            1.290202                           1.415854   \n",
       "2                            0.809459                           1.415854   \n",
       "3                            1.307255                           1.415854   \n",
       "4                            1.294833                           1.415854   \n",
       "\n",
       "   ('Warm Sandwiches', 'Cold Drinks')  ('Warm Sandwiches', 'Hot Drinks')  \n",
       "0                            1.475750                           1.695223  \n",
       "1                            1.345902                           1.695223  \n",
       "2                            0.833167                           1.695223  \n",
       "3                            1.393743                           1.695223  \n",
       "4                            1.295776                           1.695223  "
      ]
     },
     "execution_count": 45,
     "metadata": {},
     "output_type": "execute_result"
    }
   ],
   "source": [
    "SB_lite_d_6 = pd.read_csv ('SB_lite_d_6.csv',  skiprows=1, names=combi_list , sep=(','))\n",
    "SB_lite_d_6.head()"
   ]
  },
  {
   "cell_type": "code",
   "execution_count": 46,
   "metadata": {
    "ExecuteTime": {
     "end_time": "2019-10-07T18:12:55.487683Z",
     "start_time": "2019-10-07T18:12:55.378676Z"
    }
   },
   "outputs": [
    {
     "data": {
      "text/html": [
       "<div>\n",
       "<style scoped>\n",
       "    .dataframe tbody tr th:only-of-type {\n",
       "        vertical-align: middle;\n",
       "    }\n",
       "\n",
       "    .dataframe tbody tr th {\n",
       "        vertical-align: top;\n",
       "    }\n",
       "\n",
       "    .dataframe thead th {\n",
       "        text-align: right;\n",
       "    }\n",
       "</style>\n",
       "<table border=\"1\" class=\"dataframe\">\n",
       "  <thead>\n",
       "    <tr style=\"text-align: right;\">\n",
       "      <th></th>\n",
       "      <th>('Bakery', 'Cold Drinks')</th>\n",
       "      <th>('Bakery', 'Hot Drinks')</th>\n",
       "      <th>('Cold Sandwiches', 'Cold Drinks')</th>\n",
       "      <th>('Cold Sandwiches', 'Hot Drinks')</th>\n",
       "      <th>('Warm Sandwiches', 'Cold Drinks')</th>\n",
       "      <th>('Warm Sandwiches', 'Hot Drinks')</th>\n",
       "    </tr>\n",
       "  </thead>\n",
       "  <tbody>\n",
       "    <tr>\n",
       "      <th>count</th>\n",
       "      <td>2142.000000</td>\n",
       "      <td>612.000000</td>\n",
       "      <td>126.000000</td>\n",
       "      <td>36.000000</td>\n",
       "      <td>252.000000</td>\n",
       "      <td>72.000000</td>\n",
       "    </tr>\n",
       "    <tr>\n",
       "      <th>mean</th>\n",
       "      <td>2.822540</td>\n",
       "      <td>2.266160</td>\n",
       "      <td>1.095780</td>\n",
       "      <td>1.056318</td>\n",
       "      <td>2.375560</td>\n",
       "      <td>2.057095</td>\n",
       "    </tr>\n",
       "    <tr>\n",
       "      <th>std</th>\n",
       "      <td>1.379455</td>\n",
       "      <td>1.119816</td>\n",
       "      <td>0.176154</td>\n",
       "      <td>0.209805</td>\n",
       "      <td>2.230170</td>\n",
       "      <td>2.046078</td>\n",
       "    </tr>\n",
       "    <tr>\n",
       "      <th>min</th>\n",
       "      <td>0.925347</td>\n",
       "      <td>0.912311</td>\n",
       "      <td>0.693084</td>\n",
       "      <td>0.705201</td>\n",
       "      <td>0.776314</td>\n",
       "      <td>0.756538</td>\n",
       "    </tr>\n",
       "    <tr>\n",
       "      <th>25%</th>\n",
       "      <td>1.917864</td>\n",
       "      <td>1.466007</td>\n",
       "      <td>0.975897</td>\n",
       "      <td>0.908408</td>\n",
       "      <td>1.269229</td>\n",
       "      <td>1.170208</td>\n",
       "    </tr>\n",
       "    <tr>\n",
       "      <th>50%</th>\n",
       "      <td>2.464136</td>\n",
       "      <td>2.012477</td>\n",
       "      <td>1.055631</td>\n",
       "      <td>1.058043</td>\n",
       "      <td>1.424257</td>\n",
       "      <td>1.441154</td>\n",
       "    </tr>\n",
       "    <tr>\n",
       "      <th>75%</th>\n",
       "      <td>3.239458</td>\n",
       "      <td>2.587031</td>\n",
       "      <td>1.267225</td>\n",
       "      <td>1.192446</td>\n",
       "      <td>1.872391</td>\n",
       "      <td>1.944862</td>\n",
       "    </tr>\n",
       "    <tr>\n",
       "      <th>max</th>\n",
       "      <td>8.582703</td>\n",
       "      <td>7.440675</td>\n",
       "      <td>1.424554</td>\n",
       "      <td>1.415854</td>\n",
       "      <td>11.754045</td>\n",
       "      <td>9.144045</td>\n",
       "    </tr>\n",
       "  </tbody>\n",
       "</table>\n",
       "</div>"
      ],
      "text/plain": [
       "       ('Bakery', 'Cold Drinks')  ('Bakery', 'Hot Drinks')  \\\n",
       "count                2142.000000                612.000000   \n",
       "mean                    2.822540                  2.266160   \n",
       "std                     1.379455                  1.119816   \n",
       "min                     0.925347                  0.912311   \n",
       "25%                     1.917864                  1.466007   \n",
       "50%                     2.464136                  2.012477   \n",
       "75%                     3.239458                  2.587031   \n",
       "max                     8.582703                  7.440675   \n",
       "\n",
       "       ('Cold Sandwiches', 'Cold Drinks')  ('Cold Sandwiches', 'Hot Drinks')  \\\n",
       "count                          126.000000                          36.000000   \n",
       "mean                             1.095780                           1.056318   \n",
       "std                              0.176154                           0.209805   \n",
       "min                              0.693084                           0.705201   \n",
       "25%                              0.975897                           0.908408   \n",
       "50%                              1.055631                           1.058043   \n",
       "75%                              1.267225                           1.192446   \n",
       "max                              1.424554                           1.415854   \n",
       "\n",
       "       ('Warm Sandwiches', 'Cold Drinks')  ('Warm Sandwiches', 'Hot Drinks')  \n",
       "count                          252.000000                          72.000000  \n",
       "mean                             2.375560                           2.057095  \n",
       "std                              2.230170                           2.046078  \n",
       "min                              0.776314                           0.756538  \n",
       "25%                              1.269229                           1.170208  \n",
       "50%                              1.424257                           1.441154  \n",
       "75%                              1.872391                           1.944862  \n",
       "max                             11.754045                           9.144045  "
      ]
     },
     "execution_count": 46,
     "metadata": {},
     "output_type": "execute_result"
    }
   ],
   "source": [
    "# cols of different length!\n",
    "SB_lite_d_6.describe()"
   ]
  },
  {
   "cell_type": "code",
   "execution_count": 47,
   "metadata": {
    "ExecuteTime": {
     "end_time": "2019-10-07T18:12:55.835702Z",
     "start_time": "2019-10-07T18:12:55.490683Z"
    },
    "scrolled": true
   },
   "outputs": [
    {
     "data": {
      "text/plain": [
       "<matplotlib.axes._subplots.AxesSubplot at 0xa67ee80>"
      ]
     },
     "execution_count": 47,
     "metadata": {},
     "output_type": "execute_result"
    },
    {
     "data": {
      "image/png": "[encoded data removed]",
      "text/plain": [
       "<Figure size 576x288 with 1 Axes>"
      ]
     },
     "metadata": {
      "needs_background": "light"
     },
     "output_type": "display_data"
    }
   ],
   "source": [
    "# B_index mean values for all groups\n",
    "cols = pd.Index.to_list(SB_lite_d_6.columns[0:])\n",
    "SB_lite_d_6[cols].mean().plot(kind = 'bar', subplots = False, width = 0.5, figsize = (8,4), grid = True)"
   ]
  },
  {
   "cell_type": "code",
   "execution_count": 48,
   "metadata": {
    "ExecuteTime": {
     "end_time": "2019-10-07T18:12:55.886705Z",
     "start_time": "2019-10-07T18:12:55.837703Z"
    },
    "scrolled": false
   },
   "outputs": [
    {
     "data": {
      "text/html": [
       "<div>\n",
       "<style scoped>\n",
       "    .dataframe tbody tr th:only-of-type {\n",
       "        vertical-align: middle;\n",
       "    }\n",
       "\n",
       "    .dataframe tbody tr th {\n",
       "        vertical-align: top;\n",
       "    }\n",
       "\n",
       "    .dataframe thead th {\n",
       "        text-align: right;\n",
       "    }\n",
       "</style>\n",
       "<table border=\"1\" class=\"dataframe\">\n",
       "  <thead>\n",
       "    <tr style=\"text-align: right;\">\n",
       "      <th></th>\n",
       "      <th>('Bakery', 'Hot Drinks')</th>\n",
       "      <th>('Cold Sandwiches', 'Cold Drinks')</th>\n",
       "      <th>('Cold Sandwiches', 'Hot Drinks')</th>\n",
       "      <th>('Warm Sandwiches', 'Cold Drinks')</th>\n",
       "      <th>('Warm Sandwiches', 'Hot Drinks')</th>\n",
       "    </tr>\n",
       "  </thead>\n",
       "  <tbody>\n",
       "    <tr>\n",
       "      <th>count</th>\n",
       "      <td>612.000000</td>\n",
       "      <td>126.000000</td>\n",
       "      <td>36.000000</td>\n",
       "      <td>252.000000</td>\n",
       "      <td>72.000000</td>\n",
       "    </tr>\n",
       "    <tr>\n",
       "      <th>mean</th>\n",
       "      <td>2.266160</td>\n",
       "      <td>1.095780</td>\n",
       "      <td>1.056318</td>\n",
       "      <td>2.375560</td>\n",
       "      <td>2.057095</td>\n",
       "    </tr>\n",
       "    <tr>\n",
       "      <th>std</th>\n",
       "      <td>1.119816</td>\n",
       "      <td>0.176154</td>\n",
       "      <td>0.209805</td>\n",
       "      <td>2.230170</td>\n",
       "      <td>2.046078</td>\n",
       "    </tr>\n",
       "    <tr>\n",
       "      <th>min</th>\n",
       "      <td>0.912311</td>\n",
       "      <td>0.693084</td>\n",
       "      <td>0.705201</td>\n",
       "      <td>0.776314</td>\n",
       "      <td>0.756538</td>\n",
       "    </tr>\n",
       "    <tr>\n",
       "      <th>25%</th>\n",
       "      <td>1.466007</td>\n",
       "      <td>0.975897</td>\n",
       "      <td>0.908408</td>\n",
       "      <td>1.269229</td>\n",
       "      <td>1.170208</td>\n",
       "    </tr>\n",
       "    <tr>\n",
       "      <th>50%</th>\n",
       "      <td>2.012477</td>\n",
       "      <td>1.055631</td>\n",
       "      <td>1.058043</td>\n",
       "      <td>1.424257</td>\n",
       "      <td>1.441154</td>\n",
       "    </tr>\n",
       "    <tr>\n",
       "      <th>75%</th>\n",
       "      <td>2.587031</td>\n",
       "      <td>1.267225</td>\n",
       "      <td>1.192446</td>\n",
       "      <td>1.872391</td>\n",
       "      <td>1.944862</td>\n",
       "    </tr>\n",
       "    <tr>\n",
       "      <th>max</th>\n",
       "      <td>7.440675</td>\n",
       "      <td>1.424554</td>\n",
       "      <td>1.415854</td>\n",
       "      <td>11.754045</td>\n",
       "      <td>9.144045</td>\n",
       "    </tr>\n",
       "  </tbody>\n",
       "</table>\n",
       "</div>"
      ],
      "text/plain": [
       "       ('Bakery', 'Hot Drinks')  ('Cold Sandwiches', 'Cold Drinks')  \\\n",
       "count                612.000000                          126.000000   \n",
       "mean                   2.266160                            1.095780   \n",
       "std                    1.119816                            0.176154   \n",
       "min                    0.912311                            0.693084   \n",
       "25%                    1.466007                            0.975897   \n",
       "50%                    2.012477                            1.055631   \n",
       "75%                    2.587031                            1.267225   \n",
       "max                    7.440675                            1.424554   \n",
       "\n",
       "       ('Cold Sandwiches', 'Hot Drinks')  ('Warm Sandwiches', 'Cold Drinks')  \\\n",
       "count                          36.000000                          252.000000   \n",
       "mean                            1.056318                            2.375560   \n",
       "std                             0.209805                            2.230170   \n",
       "min                             0.705201                            0.776314   \n",
       "25%                             0.908408                            1.269229   \n",
       "50%                             1.058043                            1.424257   \n",
       "75%                             1.192446                            1.872391   \n",
       "max                             1.415854                           11.754045   \n",
       "\n",
       "       ('Warm Sandwiches', 'Hot Drinks')  \n",
       "count                          72.000000  \n",
       "mean                            2.057095  \n",
       "std                             2.046078  \n",
       "min                             0.756538  \n",
       "25%                             1.170208  \n",
       "50%                             1.441154  \n",
       "75%                             1.944862  \n",
       "max                             9.144045  "
      ]
     },
     "execution_count": 48,
     "metadata": {},
     "output_type": "execute_result"
    }
   ],
   "source": [
    "# in this set we delete only first item with poor (for dinner) calories and nutrition: \n",
    "# mean > 2.5. Rest of items could be used as lite dinner in different cases\n",
    "# above cutoff:\n",
    "above_cut = (SB_lite_d_6.mean() > 2.5)\n",
    "above_drop_list = [col for col in above_cut]\n",
    "a = above_cut.loc[above_drop_list]\n",
    "above_drop = pd.Index.to_list(a.index)\n",
    "\n",
    "# deleting columns:\n",
    "SB_lite_d_6.drop (columns = above_drop, inplace=True)\n",
    "\n",
    "# delete residual NaNs, descriptive stats:\n",
    "SB_lite_d_best = SB_lite_d_6.iloc[0:4284,:]\n",
    "SB_lite_d_best.describe()"
   ]
  },
  {
   "cell_type": "code",
   "execution_count": 50,
   "metadata": {
    "ExecuteTime": {
     "end_time": "2019-10-07T18:12:56.211724Z",
     "start_time": "2019-10-07T18:12:56.182722Z"
    }
   },
   "outputs": [],
   "source": [
    "SB_lite_d_best.to_csv ('SB_lite_d_best.csv')"
   ]
  }
 ],
 "metadata": {
  "hide_input": false,
  "kernelspec": {
   "display_name": "Python 3",
   "language": "python",
   "name": "python3"
  },
  "language_info": {
   "codemirror_mode": {
    "name": "ipython",
    "version": 3
   },
   "file_extension": ".py",
   "mimetype": "text/x-python",
   "name": "python",
   "nbconvert_exporter": "python",
   "pygments_lexer": "ipython3",
   "version": "3.7.1"
  }
 },
 "nbformat": 4,
 "nbformat_minor": 2
}
