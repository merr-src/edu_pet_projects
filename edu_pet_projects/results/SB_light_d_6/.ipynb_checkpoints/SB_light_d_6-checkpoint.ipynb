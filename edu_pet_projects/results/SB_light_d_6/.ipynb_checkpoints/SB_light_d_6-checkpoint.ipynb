{
 "cells": [
  {
   "cell_type": "markdown",
   "metadata": {},
   "source": [
    "## Analytics in terms of B-index"
   ]
  },
  {
   "cell_type": "markdown",
   "metadata": {},
   "source": [
    "### 1. \"Light dinner\" SB combination set "
   ]
  },
  {
   "cell_type": "code",
   "execution_count": 1,
   "metadata": {
    "ExecuteTime": {
     "end_time": "2019-10-06T16:38:43.068917Z",
     "start_time": "2019-10-06T16:38:42.141864Z"
    }
   },
   "outputs": [],
   "source": [
    "# required imports\n",
    "import pandas as pd\n",
    "from matplotlib import pyplot as plt\n",
    "%matplotlib inline"
   ]
  },
  {
   "cell_type": "code",
   "execution_count": 3,
   "metadata": {
    "ExecuteTime": {
     "end_time": "2019-10-06T16:39:20.649066Z",
     "start_time": "2019-10-06T16:39:20.629065Z"
    }
   },
   "outputs": [
    {
     "data": {
      "text/html": [
       "<div>\n",
       "<style scoped>\n",
       "    .dataframe tbody tr th:only-of-type {\n",
       "        vertical-align: middle;\n",
       "    }\n",
       "\n",
       "    .dataframe tbody tr th {\n",
       "        vertical-align: top;\n",
       "    }\n",
       "\n",
       "    .dataframe thead th {\n",
       "        text-align: right;\n",
       "    }\n",
       "</style>\n",
       "<table border=\"1\" class=\"dataframe\">\n",
       "  <thead>\n",
       "    <tr style=\"text-align: right;\">\n",
       "      <th></th>\n",
       "      <th>1</th>\n",
       "      <th>2</th>\n",
       "    </tr>\n",
       "  </thead>\n",
       "  <tbody>\n",
       "    <tr>\n",
       "      <th>0</th>\n",
       "      <td>('Bakery'</td>\n",
       "      <td>'Cold Drinks')</td>\n",
       "    </tr>\n",
       "    <tr>\n",
       "      <th>1</th>\n",
       "      <td>('Bakery'</td>\n",
       "      <td>'Hot Drinks')</td>\n",
       "    </tr>\n",
       "    <tr>\n",
       "      <th>2</th>\n",
       "      <td>('Cold Sandwiches'</td>\n",
       "      <td>'Cold Drinks')</td>\n",
       "    </tr>\n",
       "    <tr>\n",
       "      <th>3</th>\n",
       "      <td>('Cold Sandwiches'</td>\n",
       "      <td>'Hot Drinks')</td>\n",
       "    </tr>\n",
       "    <tr>\n",
       "      <th>4</th>\n",
       "      <td>('Warm Sandwiches'</td>\n",
       "      <td>'Cold Drinks')</td>\n",
       "    </tr>\n",
       "    <tr>\n",
       "      <th>5</th>\n",
       "      <td>('Warm Sandwiches'</td>\n",
       "      <td>'Hot Drinks')</td>\n",
       "    </tr>\n",
       "  </tbody>\n",
       "</table>\n",
       "</div>"
      ],
      "text/plain": [
       "                    1                2\n",
       "0           ('Bakery'   'Cold Drinks')\n",
       "1           ('Bakery'    'Hot Drinks')\n",
       "2  ('Cold Sandwiches'   'Cold Drinks')\n",
       "3  ('Cold Sandwiches'    'Hot Drinks')\n",
       "4  ('Warm Sandwiches'   'Cold Drinks')\n",
       "5  ('Warm Sandwiches'    'Hot Drinks')"
      ]
     },
     "execution_count": 3,
     "metadata": {},
     "output_type": "execute_result"
    }
   ],
   "source": [
    "# list with 6 combinations of 2 items, they specified in same order \n",
    "# as B_index cols in df below: 1-st line '('Soups', 'Bakery', 'Cold Drinks')' \n",
    "# --> 1-st col 'SB_solid_b_0' and so on\n",
    "combinations = pd.read_csv (\"SB_light_d_6.txt\", names = ['1','2'])\n",
    "combinations"
   ]
  },
  {
   "cell_type": "code",
   "execution_count": 4,
   "metadata": {
    "ExecuteTime": {
     "end_time": "2019-10-06T16:39:44.907454Z",
     "start_time": "2019-10-06T16:39:44.816449Z"
    }
   },
   "outputs": [
    {
     "data": {
      "text/html": [
       "<div>\n",
       "<style scoped>\n",
       "    .dataframe tbody tr th:only-of-type {\n",
       "        vertical-align: middle;\n",
       "    }\n",
       "\n",
       "    .dataframe tbody tr th {\n",
       "        vertical-align: top;\n",
       "    }\n",
       "\n",
       "    .dataframe thead th {\n",
       "        text-align: right;\n",
       "    }\n",
       "</style>\n",
       "<table border=\"1\" class=\"dataframe\">\n",
       "  <thead>\n",
       "    <tr style=\"text-align: right;\">\n",
       "      <th></th>\n",
       "      <th>SB_light_d_0</th>\n",
       "      <th>SB_light_d_1</th>\n",
       "      <th>SB_light_d_2</th>\n",
       "      <th>SB_light_d_3</th>\n",
       "      <th>SB_light_d_4</th>\n",
       "      <th>SB_light_d_5</th>\n",
       "    </tr>\n",
       "  </thead>\n",
       "  <tbody>\n",
       "    <tr>\n",
       "      <th>0</th>\n",
       "      <td>2.598284</td>\n",
       "      <td>2.655924</td>\n",
       "      <td>1.361289</td>\n",
       "      <td>1.415854</td>\n",
       "      <td>1.475750</td>\n",
       "      <td>1.695223</td>\n",
       "    </tr>\n",
       "    <tr>\n",
       "      <th>1</th>\n",
       "      <td>2.455656</td>\n",
       "      <td>2.655924</td>\n",
       "      <td>1.290202</td>\n",
       "      <td>1.415854</td>\n",
       "      <td>1.345902</td>\n",
       "      <td>1.695223</td>\n",
       "    </tr>\n",
       "    <tr>\n",
       "      <th>2</th>\n",
       "      <td>1.131269</td>\n",
       "      <td>2.655924</td>\n",
       "      <td>0.809459</td>\n",
       "      <td>1.415854</td>\n",
       "      <td>0.833167</td>\n",
       "      <td>1.695223</td>\n",
       "    </tr>\n",
       "    <tr>\n",
       "      <th>3</th>\n",
       "      <td>2.478873</td>\n",
       "      <td>2.655924</td>\n",
       "      <td>1.307255</td>\n",
       "      <td>1.415854</td>\n",
       "      <td>1.393743</td>\n",
       "      <td>1.695223</td>\n",
       "    </tr>\n",
       "    <tr>\n",
       "      <th>4</th>\n",
       "      <td>2.509762</td>\n",
       "      <td>2.655924</td>\n",
       "      <td>1.294833</td>\n",
       "      <td>1.415854</td>\n",
       "      <td>1.295776</td>\n",
       "      <td>1.695223</td>\n",
       "    </tr>\n",
       "  </tbody>\n",
       "</table>\n",
       "</div>"
      ],
      "text/plain": [
       "   SB_light_d_0  SB_light_d_1  SB_light_d_2  SB_light_d_3  SB_light_d_4  \\\n",
       "0      2.598284      2.655924      1.361289      1.415854      1.475750   \n",
       "1      2.455656      2.655924      1.290202      1.415854      1.345902   \n",
       "2      1.131269      2.655924      0.809459      1.415854      0.833167   \n",
       "3      2.478873      2.655924      1.307255      1.415854      1.393743   \n",
       "4      2.509762      2.655924      1.294833      1.415854      1.295776   \n",
       "\n",
       "   SB_light_d_5  \n",
       "0      1.695223  \n",
       "1      1.695223  \n",
       "2      1.695223  \n",
       "3      1.695223  \n",
       "4      1.695223  "
      ]
     },
     "execution_count": 4,
     "metadata": {},
     "output_type": "execute_result"
    }
   ],
   "source": [
    "SB_light_d_6 = pd.read_csv ('SB_light_d_6.csv', sep=(','))\n",
    "SB_light_d_6.head ()"
   ]
  },
  {
   "cell_type": "code",
   "execution_count": 5,
   "metadata": {
    "ExecuteTime": {
     "end_time": "2019-10-06T16:39:52.894911Z",
     "start_time": "2019-10-06T16:39:52.872909Z"
    }
   },
   "outputs": [
    {
     "name": "stdout",
     "output_type": "stream",
     "text": [
      "<class 'pandas.core.frame.DataFrame'>\n",
      "RangeIndex: 2142 entries, 0 to 2141\n",
      "Data columns (total 6 columns):\n",
      "SB_light_d_0    2142 non-null float64\n",
      "SB_light_d_1    612 non-null float64\n",
      "SB_light_d_2    126 non-null float64\n",
      "SB_light_d_3    36 non-null float64\n",
      "SB_light_d_4    252 non-null float64\n",
      "SB_light_d_5    72 non-null float64\n",
      "dtypes: float64(6)\n",
      "memory usage: 100.5 KB\n"
     ]
    }
   ],
   "source": [
    "# different combinations of groups gave different combinations of items\n",
    "SB_light_d_6.info()"
   ]
  },
  {
   "cell_type": "code",
   "execution_count": 6,
   "metadata": {
    "ExecuteTime": {
     "end_time": "2019-10-06T16:39:58.621238Z",
     "start_time": "2019-10-06T16:39:58.570235Z"
    }
   },
   "outputs": [
    {
     "data": {
      "text/html": [
       "<div>\n",
       "<style scoped>\n",
       "    .dataframe tbody tr th:only-of-type {\n",
       "        vertical-align: middle;\n",
       "    }\n",
       "\n",
       "    .dataframe tbody tr th {\n",
       "        vertical-align: top;\n",
       "    }\n",
       "\n",
       "    .dataframe thead th {\n",
       "        text-align: right;\n",
       "    }\n",
       "</style>\n",
       "<table border=\"1\" class=\"dataframe\">\n",
       "  <thead>\n",
       "    <tr style=\"text-align: right;\">\n",
       "      <th></th>\n",
       "      <th>SB_light_d_0</th>\n",
       "      <th>SB_light_d_1</th>\n",
       "      <th>SB_light_d_2</th>\n",
       "      <th>SB_light_d_3</th>\n",
       "      <th>SB_light_d_4</th>\n",
       "      <th>SB_light_d_5</th>\n",
       "    </tr>\n",
       "  </thead>\n",
       "  <tbody>\n",
       "    <tr>\n",
       "      <th>count</th>\n",
       "      <td>2142.000000</td>\n",
       "      <td>612.000000</td>\n",
       "      <td>126.000000</td>\n",
       "      <td>36.000000</td>\n",
       "      <td>252.000000</td>\n",
       "      <td>72.000000</td>\n",
       "    </tr>\n",
       "    <tr>\n",
       "      <th>mean</th>\n",
       "      <td>2.822540</td>\n",
       "      <td>2.266160</td>\n",
       "      <td>1.095780</td>\n",
       "      <td>1.056318</td>\n",
       "      <td>2.375560</td>\n",
       "      <td>2.057095</td>\n",
       "    </tr>\n",
       "    <tr>\n",
       "      <th>std</th>\n",
       "      <td>1.379455</td>\n",
       "      <td>1.119816</td>\n",
       "      <td>0.176154</td>\n",
       "      <td>0.209805</td>\n",
       "      <td>2.230170</td>\n",
       "      <td>2.046078</td>\n",
       "    </tr>\n",
       "    <tr>\n",
       "      <th>min</th>\n",
       "      <td>0.925347</td>\n",
       "      <td>0.912311</td>\n",
       "      <td>0.693084</td>\n",
       "      <td>0.705201</td>\n",
       "      <td>0.776314</td>\n",
       "      <td>0.756538</td>\n",
       "    </tr>\n",
       "    <tr>\n",
       "      <th>25%</th>\n",
       "      <td>1.917864</td>\n",
       "      <td>1.466007</td>\n",
       "      <td>0.975897</td>\n",
       "      <td>0.908408</td>\n",
       "      <td>1.269229</td>\n",
       "      <td>1.170208</td>\n",
       "    </tr>\n",
       "    <tr>\n",
       "      <th>50%</th>\n",
       "      <td>2.464136</td>\n",
       "      <td>2.012477</td>\n",
       "      <td>1.055631</td>\n",
       "      <td>1.058043</td>\n",
       "      <td>1.424257</td>\n",
       "      <td>1.441154</td>\n",
       "    </tr>\n",
       "    <tr>\n",
       "      <th>75%</th>\n",
       "      <td>3.239458</td>\n",
       "      <td>2.587031</td>\n",
       "      <td>1.267225</td>\n",
       "      <td>1.192446</td>\n",
       "      <td>1.872391</td>\n",
       "      <td>1.944862</td>\n",
       "    </tr>\n",
       "    <tr>\n",
       "      <th>max</th>\n",
       "      <td>8.582703</td>\n",
       "      <td>7.440675</td>\n",
       "      <td>1.424554</td>\n",
       "      <td>1.415854</td>\n",
       "      <td>11.754045</td>\n",
       "      <td>9.144045</td>\n",
       "    </tr>\n",
       "  </tbody>\n",
       "</table>\n",
       "</div>"
      ],
      "text/plain": [
       "       SB_light_d_0  SB_light_d_1  SB_light_d_2  SB_light_d_3  SB_light_d_4  \\\n",
       "count   2142.000000    612.000000    126.000000     36.000000    252.000000   \n",
       "mean       2.822540      2.266160      1.095780      1.056318      2.375560   \n",
       "std        1.379455      1.119816      0.176154      0.209805      2.230170   \n",
       "min        0.925347      0.912311      0.693084      0.705201      0.776314   \n",
       "25%        1.917864      1.466007      0.975897      0.908408      1.269229   \n",
       "50%        2.464136      2.012477      1.055631      1.058043      1.424257   \n",
       "75%        3.239458      2.587031      1.267225      1.192446      1.872391   \n",
       "max        8.582703      7.440675      1.424554      1.415854     11.754045   \n",
       "\n",
       "       SB_light_d_5  \n",
       "count     72.000000  \n",
       "mean       2.057095  \n",
       "std        2.046078  \n",
       "min        0.756538  \n",
       "25%        1.170208  \n",
       "50%        1.441154  \n",
       "75%        1.944862  \n",
       "max        9.144045  "
      ]
     },
     "execution_count": 6,
     "metadata": {},
     "output_type": "execute_result"
    }
   ],
   "source": [
    "# cols of different length!\n",
    "SB_light_d_6.describe()"
   ]
  },
  {
   "cell_type": "code",
   "execution_count": 7,
   "metadata": {
    "ExecuteTime": {
     "end_time": "2019-10-06T16:40:03.886539Z",
     "start_time": "2019-10-06T16:40:03.849537Z"
    }
   },
   "outputs": [
    {
     "data": {
      "text/plain": [
       "(1.054, 1.309]    2\n",
       "(2.57, 2.823]     1\n",
       "(2.318, 2.57]     1\n",
       "(2.066, 2.318]    1\n",
       "(1.813, 2.066]    1\n",
       "(1.561, 1.813]    0\n",
       "(1.309, 1.561]    0\n",
       "dtype: int64"
      ]
     },
     "execution_count": 7,
     "metadata": {},
     "output_type": "execute_result"
    }
   ],
   "source": [
    "# mean B-index of the subset:\n",
    "SB_light_d_6.mean().value_counts (bins=7)"
   ]
  },
  {
   "cell_type": "code",
   "execution_count": 10,
   "metadata": {
    "ExecuteTime": {
     "end_time": "2019-10-06T16:40:33.069209Z",
     "start_time": "2019-10-06T16:40:32.843196Z"
    },
    "scrolled": true
   },
   "outputs": [
    {
     "data": {
      "text/plain": [
       "<matplotlib.axes._subplots.AxesSubplot at 0x91b3438>"
      ]
     },
     "execution_count": 10,
     "metadata": {},
     "output_type": "execute_result"
    },
    {
     "data": {
      "image/png": "[encoded data removed]",
      "text/plain": [
       "<Figure size 576x288 with 1 Axes>"
      ]
     },
     "metadata": {
      "needs_background": "light"
     },
     "output_type": "display_data"
    }
   ],
   "source": [
    "# B_index mean values for all groups\n",
    "cols = pd.Index.to_list(SB_light_d_6.columns[0:])\n",
    "SB_light_d_6[cols].mean().plot(kind = 'bar', \n",
    "                                subplots = False, \n",
    "                                width = 0.5, \n",
    "                                figsize = (8,4),\n",
    "                                grid = True)"
   ]
  },
  {
   "cell_type": "code",
   "execution_count": null,
   "metadata": {},
   "outputs": [],
   "source": []
  }
 ],
 "metadata": {
  "hide_input": false,
  "kernelspec": {
   "display_name": "Python 3",
   "language": "python",
   "name": "python3"
  },
  "language_info": {
   "codemirror_mode": {
    "name": "ipython",
    "version": 3
   },
   "file_extension": ".py",
   "mimetype": "text/x-python",
   "name": "python",
   "nbconvert_exporter": "python",
   "pygments_lexer": "ipython3",
   "version": "3.7.1"
  }
 },
 "nbformat": 4,
 "nbformat_minor": 2
}
