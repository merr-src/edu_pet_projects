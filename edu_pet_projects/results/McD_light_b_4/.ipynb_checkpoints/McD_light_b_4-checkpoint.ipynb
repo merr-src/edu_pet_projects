{
 "cells": [
  {
   "cell_type": "markdown",
   "metadata": {},
   "source": [
    "## Analytics in terms of B-index"
   ]
  },
  {
   "cell_type": "markdown",
   "metadata": {},
   "source": [
    "### 1. \"Light brakfast\" McD combination set "
   ]
  },
  {
   "cell_type": "code",
   "execution_count": 1,
   "metadata": {
    "ExecuteTime": {
     "end_time": "2019-10-06T16:52:47.652731Z",
     "start_time": "2019-10-06T16:52:46.801683Z"
    }
   },
   "outputs": [],
   "source": [
    "# required imports\n",
    "import pandas as pd\n",
    "from matplotlib import pyplot as plt\n",
    "%matplotlib inline"
   ]
  },
  {
   "cell_type": "code",
   "execution_count": 3,
   "metadata": {
    "ExecuteTime": {
     "end_time": "2019-10-06T16:52:55.585185Z",
     "start_time": "2019-10-06T16:52:55.557183Z"
    }
   },
   "outputs": [
    {
     "data": {
      "text/html": [
       "<div>\n",
       "<style scoped>\n",
       "    .dataframe tbody tr th:only-of-type {\n",
       "        vertical-align: middle;\n",
       "    }\n",
       "\n",
       "    .dataframe tbody tr th {\n",
       "        vertical-align: top;\n",
       "    }\n",
       "\n",
       "    .dataframe thead th {\n",
       "        text-align: right;\n",
       "    }\n",
       "</style>\n",
       "<table border=\"1\" class=\"dataframe\">\n",
       "  <thead>\n",
       "    <tr style=\"text-align: right;\">\n",
       "      <th></th>\n",
       "      <th>1</th>\n",
       "      <th>2</th>\n",
       "    </tr>\n",
       "  </thead>\n",
       "  <tbody>\n",
       "    <tr>\n",
       "      <th>0</th>\n",
       "      <td>('Salads'</td>\n",
       "      <td>'Cold Drinks')</td>\n",
       "    </tr>\n",
       "    <tr>\n",
       "      <th>1</th>\n",
       "      <td>('Salads'</td>\n",
       "      <td>'Hot Drinks')</td>\n",
       "    </tr>\n",
       "    <tr>\n",
       "      <th>2</th>\n",
       "      <td>('Chiken Snacks'</td>\n",
       "      <td>'Cold Drinks')</td>\n",
       "    </tr>\n",
       "    <tr>\n",
       "      <th>3</th>\n",
       "      <td>('Chiken Snacks'</td>\n",
       "      <td>'Hot Drinks')</td>\n",
       "    </tr>\n",
       "  </tbody>\n",
       "</table>\n",
       "</div>"
      ],
      "text/plain": [
       "                  1                2\n",
       "0         ('Salads'   'Cold Drinks')\n",
       "1         ('Salads'    'Hot Drinks')\n",
       "2  ('Chiken Snacks'   'Cold Drinks')\n",
       "3  ('Chiken Snacks'    'Hot Drinks')"
      ]
     },
     "execution_count": 3,
     "metadata": {},
     "output_type": "execute_result"
    }
   ],
   "source": [
    "# list with 24 combinations of 3 items, they specified in same order \n",
    "# as B_index cols in df below: 1-st line '('Soups', 'Bakery', 'Cold Drinks')' \n",
    "# --> 1-st col 'SB_solid_b_0' and so on\n",
    "combinations = pd.read_csv (\"McD_light_b_4.txt\", names = ['1','2'])\n",
    "combinations"
   ]
  },
  {
   "cell_type": "code",
   "execution_count": 8,
   "metadata": {
    "ExecuteTime": {
     "end_time": "2019-10-06T16:53:37.080558Z",
     "start_time": "2019-10-06T16:53:37.042556Z"
    }
   },
   "outputs": [
    {
     "data": {
      "text/html": [
       "<div>\n",
       "<style scoped>\n",
       "    .dataframe tbody tr th:only-of-type {\n",
       "        vertical-align: middle;\n",
       "    }\n",
       "\n",
       "    .dataframe tbody tr th {\n",
       "        vertical-align: top;\n",
       "    }\n",
       "\n",
       "    .dataframe thead th {\n",
       "        text-align: right;\n",
       "    }\n",
       "</style>\n",
       "<table border=\"1\" class=\"dataframe\">\n",
       "  <thead>\n",
       "    <tr style=\"text-align: right;\">\n",
       "      <th></th>\n",
       "      <th>McD_light_b_0</th>\n",
       "      <th>McD_light_b_1</th>\n",
       "      <th>McD_light_b_2</th>\n",
       "      <th>McD_light_b_3</th>\n",
       "    </tr>\n",
       "  </thead>\n",
       "  <tbody>\n",
       "    <tr>\n",
       "      <th>0</th>\n",
       "      <td>2.660272</td>\n",
       "      <td>2.625140</td>\n",
       "      <td>2.421431</td>\n",
       "      <td>2.408610</td>\n",
       "    </tr>\n",
       "    <tr>\n",
       "      <th>1</th>\n",
       "      <td>2.527913</td>\n",
       "      <td>2.535282</td>\n",
       "      <td>2.362811</td>\n",
       "      <td>2.370631</td>\n",
       "    </tr>\n",
       "    <tr>\n",
       "      <th>2</th>\n",
       "      <td>2.433018</td>\n",
       "      <td>2.470697</td>\n",
       "      <td>2.311786</td>\n",
       "      <td>2.340165</td>\n",
       "    </tr>\n",
       "    <tr>\n",
       "      <th>3</th>\n",
       "      <td>2.809499</td>\n",
       "      <td>2.822000</td>\n",
       "      <td>2.477678</td>\n",
       "      <td>2.482933</td>\n",
       "    </tr>\n",
       "    <tr>\n",
       "      <th>4</th>\n",
       "      <td>4.660009</td>\n",
       "      <td>2.205114</td>\n",
       "      <td>2.770142</td>\n",
       "      <td>1.666958</td>\n",
       "    </tr>\n",
       "  </tbody>\n",
       "</table>\n",
       "</div>"
      ],
      "text/plain": [
       "   McD_light_b_0  McD_light_b_1  McD_light_b_2  McD_light_b_3\n",
       "0       2.660272       2.625140       2.421431       2.408610\n",
       "1       2.527913       2.535282       2.362811       2.370631\n",
       "2       2.433018       2.470697       2.311786       2.340165\n",
       "3       2.809499       2.822000       2.477678       2.482933\n",
       "4       4.660009       2.205114       2.770142       1.666958"
      ]
     },
     "execution_count": 8,
     "metadata": {},
     "output_type": "execute_result"
    }
   ],
   "source": [
    "McD_light_b_4 = pd.read_csv ('McD_light_b_4.csv', sep=(','))\n",
    "McD_light_b_4.head ()"
   ]
  },
  {
   "cell_type": "code",
   "execution_count": 9,
   "metadata": {
    "ExecuteTime": {
     "end_time": "2019-10-06T16:53:37.610589Z",
     "start_time": "2019-10-06T16:53:37.589588Z"
    }
   },
   "outputs": [
    {
     "name": "stdout",
     "output_type": "stream",
     "text": [
      "<class 'pandas.core.frame.DataFrame'>\n",
      "RangeIndex: 602 entries, 0 to 601\n",
      "Data columns (total 4 columns):\n",
      "McD_light_b_0    602 non-null float64\n",
      "McD_light_b_1    364 non-null float64\n",
      "McD_light_b_2    602 non-null float64\n",
      "McD_light_b_3    520 non-null float64\n",
      "dtypes: float64(4)\n",
      "memory usage: 18.9 KB\n"
     ]
    }
   ],
   "source": [
    "# different combinations of groups gave different combinations of items\n",
    "McD_light_b_4.info()"
   ]
  },
  {
   "cell_type": "code",
   "execution_count": 10,
   "metadata": {
    "ExecuteTime": {
     "end_time": "2019-10-06T16:53:38.245625Z",
     "start_time": "2019-10-06T16:53:38.209623Z"
    }
   },
   "outputs": [
    {
     "data": {
      "text/html": [
       "<div>\n",
       "<style scoped>\n",
       "    .dataframe tbody tr th:only-of-type {\n",
       "        vertical-align: middle;\n",
       "    }\n",
       "\n",
       "    .dataframe tbody tr th {\n",
       "        vertical-align: top;\n",
       "    }\n",
       "\n",
       "    .dataframe thead th {\n",
       "        text-align: right;\n",
       "    }\n",
       "</style>\n",
       "<table border=\"1\" class=\"dataframe\">\n",
       "  <thead>\n",
       "    <tr style=\"text-align: right;\">\n",
       "      <th></th>\n",
       "      <th>McD_light_b_0</th>\n",
       "      <th>McD_light_b_1</th>\n",
       "      <th>McD_light_b_2</th>\n",
       "      <th>McD_light_b_3</th>\n",
       "    </tr>\n",
       "  </thead>\n",
       "  <tbody>\n",
       "    <tr>\n",
       "      <th>count</th>\n",
       "      <td>602.000000</td>\n",
       "      <td>364.000000</td>\n",
       "      <td>602.000000</td>\n",
       "      <td>520.000000</td>\n",
       "    </tr>\n",
       "    <tr>\n",
       "      <th>mean</th>\n",
       "      <td>2.624236</td>\n",
       "      <td>1.889945</td>\n",
       "      <td>2.234115</td>\n",
       "      <td>1.723874</td>\n",
       "    </tr>\n",
       "    <tr>\n",
       "      <th>std</th>\n",
       "      <td>2.945770</td>\n",
       "      <td>1.794394</td>\n",
       "      <td>0.821072</td>\n",
       "      <td>0.725353</td>\n",
       "    </tr>\n",
       "    <tr>\n",
       "      <th>min</th>\n",
       "      <td>0.606286</td>\n",
       "      <td>0.727219</td>\n",
       "      <td>0.918923</td>\n",
       "      <td>0.915096</td>\n",
       "    </tr>\n",
       "    <tr>\n",
       "      <th>25%</th>\n",
       "      <td>1.174745</td>\n",
       "      <td>1.144620</td>\n",
       "      <td>1.585897</td>\n",
       "      <td>1.359686</td>\n",
       "    </tr>\n",
       "    <tr>\n",
       "      <th>50%</th>\n",
       "      <td>1.628782</td>\n",
       "      <td>1.501126</td>\n",
       "      <td>2.250071</td>\n",
       "      <td>1.555656</td>\n",
       "    </tr>\n",
       "    <tr>\n",
       "      <th>75%</th>\n",
       "      <td>2.539175</td>\n",
       "      <td>2.038959</td>\n",
       "      <td>2.654191</td>\n",
       "      <td>1.836404</td>\n",
       "    </tr>\n",
       "    <tr>\n",
       "      <th>max</th>\n",
       "      <td>19.401667</td>\n",
       "      <td>13.944409</td>\n",
       "      <td>5.321832</td>\n",
       "      <td>9.614000</td>\n",
       "    </tr>\n",
       "  </tbody>\n",
       "</table>\n",
       "</div>"
      ],
      "text/plain": [
       "       McD_light_b_0  McD_light_b_1  McD_light_b_2  McD_light_b_3\n",
       "count     602.000000     364.000000     602.000000     520.000000\n",
       "mean        2.624236       1.889945       2.234115       1.723874\n",
       "std         2.945770       1.794394       0.821072       0.725353\n",
       "min         0.606286       0.727219       0.918923       0.915096\n",
       "25%         1.174745       1.144620       1.585897       1.359686\n",
       "50%         1.628782       1.501126       2.250071       1.555656\n",
       "75%         2.539175       2.038959       2.654191       1.836404\n",
       "max        19.401667      13.944409       5.321832       9.614000"
      ]
     },
     "execution_count": 10,
     "metadata": {},
     "output_type": "execute_result"
    }
   ],
   "source": [
    "# cols of different length!\n",
    "McD_light_b_4.describe()"
   ]
  },
  {
   "cell_type": "code",
   "execution_count": 11,
   "metadata": {
    "ExecuteTime": {
     "end_time": "2019-10-06T16:53:44.712995Z",
     "start_time": "2019-10-06T16:53:44.675993Z"
    }
   },
   "outputs": [
    {
     "data": {
      "text/plain": [
       "(2.496, 2.624]                 1\n",
       "(2.11, 2.238]                  1\n",
       "(1.852, 1.981]                 1\n",
       "(1.7220000000000002, 1.852]    1\n",
       "(2.367, 2.496]                 0\n",
       "(2.238, 2.367]                 0\n",
       "(1.981, 2.11]                  0\n",
       "dtype: int64"
      ]
     },
     "execution_count": 11,
     "metadata": {},
     "output_type": "execute_result"
    }
   ],
   "source": [
    "# mean B-index of the subset:\n",
    "McD_light_b_4.mean().value_counts (bins=7)"
   ]
  },
  {
   "cell_type": "code",
   "execution_count": 12,
   "metadata": {
    "ExecuteTime": {
     "end_time": "2019-10-06T16:53:58.210767Z",
     "start_time": "2019-10-06T16:53:57.949752Z"
    },
    "scrolled": true
   },
   "outputs": [
    {
     "data": {
      "text/plain": [
       "<matplotlib.axes._subplots.AxesSubplot at 0x95ee320>"
      ]
     },
     "execution_count": 12,
     "metadata": {},
     "output_type": "execute_result"
    },
    {
     "data": {
      "image/png": "[encoded data removed]",
      "text/plain": [
       "<Figure size 288x288 with 1 Axes>"
      ]
     },
     "metadata": {
      "needs_background": "light"
     },
     "output_type": "display_data"
    }
   ],
   "source": [
    "# B_index mean values for all groups\n",
    "cols = pd.Index.to_list(McD_light_b_4.columns[0:])\n",
    "McD_light_b_4[cols].mean().plot(kind = 'bar', \n",
    "                                subplots = False, \n",
    "                                width = 0.5, \n",
    "                                figsize = (4,4),\n",
    "                                grid = True)"
   ]
  },
  {
   "cell_type": "code",
   "execution_count": null,
   "metadata": {},
   "outputs": [],
   "source": []
  }
 ],
 "metadata": {
  "hide_input": false,
  "kernelspec": {
   "display_name": "Python 3",
   "language": "python",
   "name": "python3"
  },
  "language_info": {
   "codemirror_mode": {
    "name": "ipython",
    "version": 3
   },
   "file_extension": ".py",
   "mimetype": "text/x-python",
   "name": "python",
   "nbconvert_exporter": "python",
   "pygments_lexer": "ipython3",
   "version": "3.7.1"
  }
 },
 "nbformat": 4,
 "nbformat_minor": 2
}
