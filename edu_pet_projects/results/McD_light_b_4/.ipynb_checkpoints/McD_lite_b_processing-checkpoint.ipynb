{
 "cells": [
  {
   "cell_type": "markdown",
   "metadata": {},
   "source": [
    "## Analytics in terms of B-index"
   ]
  },
  {
   "cell_type": "markdown",
   "metadata": {},
   "source": [
    "### 1. \"Lite breakfast\" McD combination set "
   ]
  },
  {
   "cell_type": "code",
   "execution_count": 17,
   "metadata": {
    "ExecuteTime": {
     "end_time": "2019-10-07T19:10:28.584711Z",
     "start_time": "2019-10-07T19:10:28.567710Z"
    }
   },
   "outputs": [],
   "source": [
    "# required imports\n",
    "import pandas as pd\n",
    "from matplotlib import pyplot as plt\n",
    "%matplotlib inline"
   ]
  },
  {
   "cell_type": "code",
   "execution_count": 18,
   "metadata": {
    "ExecuteTime": {
     "end_time": "2019-10-07T19:10:28.765721Z",
     "start_time": "2019-10-07T19:10:28.588711Z"
    }
   },
   "outputs": [],
   "source": [
    "# list with 24 combinations of 3 items, they specified in same order \n",
    "# as B_index cols in df below --> 1-st col 'SB_solid_b_0' and so on\n",
    "\n",
    "combi_list = []\n",
    "\n",
    "with open ('McD_lite_b_4.txt', 'r') as f:\n",
    "    for line in f:\n",
    "        line = line[:-1]\n",
    "        combi_list.append (line)\n",
    "    f.close()"
   ]
  },
  {
   "cell_type": "code",
   "execution_count": 19,
   "metadata": {
    "ExecuteTime": {
     "end_time": "2019-10-07T19:10:28.915730Z",
     "start_time": "2019-10-07T19:10:28.770722Z"
    }
   },
   "outputs": [
    {
     "data": {
      "text/html": [
       "<div>\n",
       "<style scoped>\n",
       "    .dataframe tbody tr th:only-of-type {\n",
       "        vertical-align: middle;\n",
       "    }\n",
       "\n",
       "    .dataframe tbody tr th {\n",
       "        vertical-align: top;\n",
       "    }\n",
       "\n",
       "    .dataframe thead th {\n",
       "        text-align: right;\n",
       "    }\n",
       "</style>\n",
       "<table border=\"1\" class=\"dataframe\">\n",
       "  <thead>\n",
       "    <tr style=\"text-align: right;\">\n",
       "      <th></th>\n",
       "      <th>('Salads', 'Cold Drinks')</th>\n",
       "      <th>('Salads', 'Hot Drinks')</th>\n",
       "      <th>('Chiken Snacks', 'Cold Drinks')</th>\n",
       "      <th>('Chiken Snacks', 'Hot Drinks')</th>\n",
       "    </tr>\n",
       "  </thead>\n",
       "  <tbody>\n",
       "    <tr>\n",
       "      <th>0</th>\n",
       "      <td>2.660272</td>\n",
       "      <td>2.625140</td>\n",
       "      <td>2.421431</td>\n",
       "      <td>2.408610</td>\n",
       "    </tr>\n",
       "    <tr>\n",
       "      <th>1</th>\n",
       "      <td>2.527913</td>\n",
       "      <td>2.535282</td>\n",
       "      <td>2.362811</td>\n",
       "      <td>2.370631</td>\n",
       "    </tr>\n",
       "    <tr>\n",
       "      <th>2</th>\n",
       "      <td>2.433018</td>\n",
       "      <td>2.470697</td>\n",
       "      <td>2.311786</td>\n",
       "      <td>2.340165</td>\n",
       "    </tr>\n",
       "    <tr>\n",
       "      <th>3</th>\n",
       "      <td>2.809499</td>\n",
       "      <td>2.822000</td>\n",
       "      <td>2.477678</td>\n",
       "      <td>2.482933</td>\n",
       "    </tr>\n",
       "    <tr>\n",
       "      <th>4</th>\n",
       "      <td>4.660009</td>\n",
       "      <td>2.205114</td>\n",
       "      <td>2.770142</td>\n",
       "      <td>1.666958</td>\n",
       "    </tr>\n",
       "  </tbody>\n",
       "</table>\n",
       "</div>"
      ],
      "text/plain": [
       "   ('Salads', 'Cold Drinks')  ('Salads', 'Hot Drinks')  \\\n",
       "0                   2.660272                  2.625140   \n",
       "1                   2.527913                  2.535282   \n",
       "2                   2.433018                  2.470697   \n",
       "3                   2.809499                  2.822000   \n",
       "4                   4.660009                  2.205114   \n",
       "\n",
       "   ('Chiken Snacks', 'Cold Drinks')  ('Chiken Snacks', 'Hot Drinks')  \n",
       "0                          2.421431                         2.408610  \n",
       "1                          2.362811                         2.370631  \n",
       "2                          2.311786                         2.340165  \n",
       "3                          2.477678                         2.482933  \n",
       "4                          2.770142                         1.666958  "
      ]
     },
     "execution_count": 19,
     "metadata": {},
     "output_type": "execute_result"
    }
   ],
   "source": [
    "McD_lite_b_4 = pd.read_csv ('McD_lite_b_4.csv',  skiprows=1, names=combi_list , sep=(','))\n",
    "McD_lite_b_4.head()"
   ]
  },
  {
   "cell_type": "code",
   "execution_count": 20,
   "metadata": {
    "ExecuteTime": {
     "end_time": "2019-10-07T19:10:29.049738Z",
     "start_time": "2019-10-07T19:10:28.925730Z"
    }
   },
   "outputs": [
    {
     "data": {
      "text/html": [
       "<div>\n",
       "<style scoped>\n",
       "    .dataframe tbody tr th:only-of-type {\n",
       "        vertical-align: middle;\n",
       "    }\n",
       "\n",
       "    .dataframe tbody tr th {\n",
       "        vertical-align: top;\n",
       "    }\n",
       "\n",
       "    .dataframe thead th {\n",
       "        text-align: right;\n",
       "    }\n",
       "</style>\n",
       "<table border=\"1\" class=\"dataframe\">\n",
       "  <thead>\n",
       "    <tr style=\"text-align: right;\">\n",
       "      <th></th>\n",
       "      <th>('Salads', 'Cold Drinks')</th>\n",
       "      <th>('Salads', 'Hot Drinks')</th>\n",
       "      <th>('Chiken Snacks', 'Cold Drinks')</th>\n",
       "      <th>('Chiken Snacks', 'Hot Drinks')</th>\n",
       "    </tr>\n",
       "  </thead>\n",
       "  <tbody>\n",
       "    <tr>\n",
       "      <th>count</th>\n",
       "      <td>602.000000</td>\n",
       "      <td>364.000000</td>\n",
       "      <td>602.000000</td>\n",
       "      <td>520.000000</td>\n",
       "    </tr>\n",
       "    <tr>\n",
       "      <th>mean</th>\n",
       "      <td>2.624236</td>\n",
       "      <td>1.889945</td>\n",
       "      <td>2.234115</td>\n",
       "      <td>1.723874</td>\n",
       "    </tr>\n",
       "    <tr>\n",
       "      <th>std</th>\n",
       "      <td>2.945770</td>\n",
       "      <td>1.794394</td>\n",
       "      <td>0.821072</td>\n",
       "      <td>0.725353</td>\n",
       "    </tr>\n",
       "    <tr>\n",
       "      <th>min</th>\n",
       "      <td>0.606286</td>\n",
       "      <td>0.727219</td>\n",
       "      <td>0.918923</td>\n",
       "      <td>0.915096</td>\n",
       "    </tr>\n",
       "    <tr>\n",
       "      <th>25%</th>\n",
       "      <td>1.174745</td>\n",
       "      <td>1.144620</td>\n",
       "      <td>1.585897</td>\n",
       "      <td>1.359686</td>\n",
       "    </tr>\n",
       "    <tr>\n",
       "      <th>50%</th>\n",
       "      <td>1.628782</td>\n",
       "      <td>1.501126</td>\n",
       "      <td>2.250071</td>\n",
       "      <td>1.555656</td>\n",
       "    </tr>\n",
       "    <tr>\n",
       "      <th>75%</th>\n",
       "      <td>2.539175</td>\n",
       "      <td>2.038959</td>\n",
       "      <td>2.654191</td>\n",
       "      <td>1.836404</td>\n",
       "    </tr>\n",
       "    <tr>\n",
       "      <th>max</th>\n",
       "      <td>19.401667</td>\n",
       "      <td>13.944409</td>\n",
       "      <td>5.321832</td>\n",
       "      <td>9.614000</td>\n",
       "    </tr>\n",
       "  </tbody>\n",
       "</table>\n",
       "</div>"
      ],
      "text/plain": [
       "       ('Salads', 'Cold Drinks')  ('Salads', 'Hot Drinks')  \\\n",
       "count                 602.000000                364.000000   \n",
       "mean                    2.624236                  1.889945   \n",
       "std                     2.945770                  1.794394   \n",
       "min                     0.606286                  0.727219   \n",
       "25%                     1.174745                  1.144620   \n",
       "50%                     1.628782                  1.501126   \n",
       "75%                     2.539175                  2.038959   \n",
       "max                    19.401667                 13.944409   \n",
       "\n",
       "       ('Chiken Snacks', 'Cold Drinks')  ('Chiken Snacks', 'Hot Drinks')  \n",
       "count                        602.000000                       520.000000  \n",
       "mean                           2.234115                         1.723874  \n",
       "std                            0.821072                         0.725353  \n",
       "min                            0.918923                         0.915096  \n",
       "25%                            1.585897                         1.359686  \n",
       "50%                            2.250071                         1.555656  \n",
       "75%                            2.654191                         1.836404  \n",
       "max                            5.321832                         9.614000  "
      ]
     },
     "execution_count": 20,
     "metadata": {},
     "output_type": "execute_result"
    }
   ],
   "source": [
    "# cols of different length!\n",
    "McD_lite_b_4.describe()"
   ]
  },
  {
   "cell_type": "code",
   "execution_count": 21,
   "metadata": {
    "ExecuteTime": {
     "end_time": "2019-10-07T19:10:29.349755Z",
     "start_time": "2019-10-07T19:10:29.053738Z"
    },
    "scrolled": true
   },
   "outputs": [
    {
     "data": {
      "text/plain": [
       "<matplotlib.axes._subplots.AxesSubplot at 0x54015f8>"
      ]
     },
     "execution_count": 21,
     "metadata": {},
     "output_type": "execute_result"
    },
    {
     "data": {
      "image/png": "[encoded data removed]",
      "text/plain": [
       "<Figure size 432x288 with 1 Axes>"
      ]
     },
     "metadata": {
      "needs_background": "light"
     },
     "output_type": "display_data"
    }
   ],
   "source": [
    "# B_index mean values for all groups\n",
    "cols = pd.Index.to_list(McD_lite_b_4.columns[0:])\n",
    "McD_lite_b_4[cols].mean().plot(kind = 'bar', subplots = False, width = 0.5, figsize = (6,4), grid = True)"
   ]
  },
  {
   "cell_type": "code",
   "execution_count": 22,
   "metadata": {
    "ExecuteTime": {
     "end_time": "2019-10-07T19:10:29.388757Z",
     "start_time": "2019-10-07T19:10:29.353755Z"
    }
   },
   "outputs": [
    {
     "data": {
      "text/html": [
       "<div>\n",
       "<style scoped>\n",
       "    .dataframe tbody tr th:only-of-type {\n",
       "        vertical-align: middle;\n",
       "    }\n",
       "\n",
       "    .dataframe tbody tr th {\n",
       "        vertical-align: top;\n",
       "    }\n",
       "\n",
       "    .dataframe thead th {\n",
       "        text-align: right;\n",
       "    }\n",
       "</style>\n",
       "<table border=\"1\" class=\"dataframe\">\n",
       "  <thead>\n",
       "    <tr style=\"text-align: right;\">\n",
       "      <th></th>\n",
       "      <th>('Salads', 'Hot Drinks')</th>\n",
       "      <th>('Chiken Snacks', 'Cold Drinks')</th>\n",
       "      <th>('Chiken Snacks', 'Hot Drinks')</th>\n",
       "    </tr>\n",
       "  </thead>\n",
       "  <tbody>\n",
       "    <tr>\n",
       "      <th>count</th>\n",
       "      <td>364.000000</td>\n",
       "      <td>602.000000</td>\n",
       "      <td>520.000000</td>\n",
       "    </tr>\n",
       "    <tr>\n",
       "      <th>mean</th>\n",
       "      <td>1.889945</td>\n",
       "      <td>2.234115</td>\n",
       "      <td>1.723874</td>\n",
       "    </tr>\n",
       "    <tr>\n",
       "      <th>std</th>\n",
       "      <td>1.794394</td>\n",
       "      <td>0.821072</td>\n",
       "      <td>0.725353</td>\n",
       "    </tr>\n",
       "    <tr>\n",
       "      <th>min</th>\n",
       "      <td>0.727219</td>\n",
       "      <td>0.918923</td>\n",
       "      <td>0.915096</td>\n",
       "    </tr>\n",
       "    <tr>\n",
       "      <th>25%</th>\n",
       "      <td>1.144620</td>\n",
       "      <td>1.585897</td>\n",
       "      <td>1.359686</td>\n",
       "    </tr>\n",
       "    <tr>\n",
       "      <th>50%</th>\n",
       "      <td>1.501126</td>\n",
       "      <td>2.250071</td>\n",
       "      <td>1.555656</td>\n",
       "    </tr>\n",
       "    <tr>\n",
       "      <th>75%</th>\n",
       "      <td>2.038959</td>\n",
       "      <td>2.654191</td>\n",
       "      <td>1.836404</td>\n",
       "    </tr>\n",
       "    <tr>\n",
       "      <th>max</th>\n",
       "      <td>13.944409</td>\n",
       "      <td>5.321832</td>\n",
       "      <td>9.614000</td>\n",
       "    </tr>\n",
       "  </tbody>\n",
       "</table>\n",
       "</div>"
      ],
      "text/plain": [
       "       ('Salads', 'Hot Drinks')  ('Chiken Snacks', 'Cold Drinks')  \\\n",
       "count                364.000000                        602.000000   \n",
       "mean                   1.889945                          2.234115   \n",
       "std                    1.794394                          0.821072   \n",
       "min                    0.727219                          0.918923   \n",
       "25%                    1.144620                          1.585897   \n",
       "50%                    1.501126                          2.250071   \n",
       "75%                    2.038959                          2.654191   \n",
       "max                   13.944409                          5.321832   \n",
       "\n",
       "       ('Chiken Snacks', 'Hot Drinks')  \n",
       "count                       520.000000  \n",
       "mean                          1.723874  \n",
       "std                           0.725353  \n",
       "min                           0.915096  \n",
       "25%                           1.359686  \n",
       "50%                           1.555656  \n",
       "75%                           1.836404  \n",
       "max                           9.614000  "
      ]
     },
     "execution_count": 22,
     "metadata": {},
     "output_type": "execute_result"
    }
   ],
   "source": [
    "# in this set we delete only first item with poor (for dinner) calories and nutrition: \n",
    "# mean > 2.5. Rest of items could be used as lite dinner in different cases\n",
    "\n",
    "# above cutoff:\n",
    "above_cut = (McD_lite_b_4.mean() > 2.5)\n",
    "above_drop_list = [col for col in above_cut]\n",
    "a = above_cut.loc[above_drop_list]\n",
    "above_drop = pd.Index.to_list(a.index)\n",
    "\n",
    "# deleting columns:\n",
    "McD_lite_b_4.drop (columns = above_drop, inplace=True)\n",
    "McD_lite_b_best = McD_lite_b_4\n",
    "McD_lite_b_best.describe()"
   ]
  },
  {
   "cell_type": "code",
   "execution_count": 23,
   "metadata": {
    "ExecuteTime": {
     "end_time": "2019-10-07T19:10:29.532765Z",
     "start_time": "2019-10-07T19:10:29.390757Z"
    }
   },
   "outputs": [],
   "source": [
    "McD_lite_b_best.to_csv ('McD_lite_b_best.csv')"
   ]
  }
 ],
 "metadata": {
  "hide_input": false,
  "kernelspec": {
   "display_name": "Python 3",
   "language": "python",
   "name": "python3"
  },
  "language_info": {
   "codemirror_mode": {
    "name": "ipython",
    "version": 3
   },
   "file_extension": ".py",
   "mimetype": "text/x-python",
   "name": "python",
   "nbconvert_exporter": "python",
   "pygments_lexer": "ipython3",
   "version": "3.7.1"
  }
 },
 "nbformat": 4,
 "nbformat_minor": 2
}
