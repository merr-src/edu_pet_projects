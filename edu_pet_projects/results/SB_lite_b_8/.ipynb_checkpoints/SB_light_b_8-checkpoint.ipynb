{
 "cells": [
  {
   "cell_type": "markdown",
   "metadata": {},
   "source": [
    "## Analytics in terms of B-index"
   ]
  },
  {
   "cell_type": "markdown",
   "metadata": {},
   "source": [
    "### 1. \"Light breakfast\" SB combination set "
   ]
  },
  {
   "cell_type": "code",
   "execution_count": 1,
   "metadata": {
    "ExecuteTime": {
     "end_time": "2019-10-06T16:41:43.480236Z",
     "start_time": "2019-10-06T16:41:42.681190Z"
    }
   },
   "outputs": [],
   "source": [
    "# required imports\n",
    "import pandas as pd\n",
    "from matplotlib import pyplot as plt\n",
    "%matplotlib inline"
   ]
  },
  {
   "cell_type": "code",
   "execution_count": 3,
   "metadata": {
    "ExecuteTime": {
     "end_time": "2019-10-06T16:42:06.818571Z",
     "start_time": "2019-10-06T16:42:06.800570Z"
    }
   },
   "outputs": [
    {
     "data": {
      "text/html": [
       "<div>\n",
       "<style scoped>\n",
       "    .dataframe tbody tr th:only-of-type {\n",
       "        vertical-align: middle;\n",
       "    }\n",
       "\n",
       "    .dataframe tbody tr th {\n",
       "        vertical-align: top;\n",
       "    }\n",
       "\n",
       "    .dataframe thead th {\n",
       "        text-align: right;\n",
       "    }\n",
       "</style>\n",
       "<table border=\"1\" class=\"dataframe\">\n",
       "  <thead>\n",
       "    <tr style=\"text-align: right;\">\n",
       "      <th></th>\n",
       "      <th>1</th>\n",
       "      <th>2</th>\n",
       "    </tr>\n",
       "  </thead>\n",
       "  <tbody>\n",
       "    <tr>\n",
       "      <th>0</th>\n",
       "      <td>('Soups'</td>\n",
       "      <td>'Cold Drinks')</td>\n",
       "    </tr>\n",
       "    <tr>\n",
       "      <th>1</th>\n",
       "      <td>('Soups'</td>\n",
       "      <td>'Hot Drinks')</td>\n",
       "    </tr>\n",
       "    <tr>\n",
       "      <th>2</th>\n",
       "      <td>('Salads'</td>\n",
       "      <td>'Cold Drinks')</td>\n",
       "    </tr>\n",
       "    <tr>\n",
       "      <th>3</th>\n",
       "      <td>('Salads'</td>\n",
       "      <td>'Hot Drinks')</td>\n",
       "    </tr>\n",
       "    <tr>\n",
       "      <th>4</th>\n",
       "      <td>('Protein Boxes &amp; Bowls'</td>\n",
       "      <td>'Cold Drinks')</td>\n",
       "    </tr>\n",
       "    <tr>\n",
       "      <th>5</th>\n",
       "      <td>('Protein Boxes &amp; Bowls'</td>\n",
       "      <td>'Hot Drinks')</td>\n",
       "    </tr>\n",
       "    <tr>\n",
       "      <th>6</th>\n",
       "      <td>('Hot Breakfast'</td>\n",
       "      <td>'Cold Drinks')</td>\n",
       "    </tr>\n",
       "    <tr>\n",
       "      <th>7</th>\n",
       "      <td>('Hot Breakfast'</td>\n",
       "      <td>'Hot Drinks')</td>\n",
       "    </tr>\n",
       "  </tbody>\n",
       "</table>\n",
       "</div>"
      ],
      "text/plain": [
       "                          1                2\n",
       "0                  ('Soups'   'Cold Drinks')\n",
       "1                  ('Soups'    'Hot Drinks')\n",
       "2                 ('Salads'   'Cold Drinks')\n",
       "3                 ('Salads'    'Hot Drinks')\n",
       "4  ('Protein Boxes & Bowls'   'Cold Drinks')\n",
       "5  ('Protein Boxes & Bowls'    'Hot Drinks')\n",
       "6          ('Hot Breakfast'   'Cold Drinks')\n",
       "7          ('Hot Breakfast'    'Hot Drinks')"
      ]
     },
     "execution_count": 3,
     "metadata": {},
     "output_type": "execute_result"
    }
   ],
   "source": [
    "# list with 8 combinations of 3 items, they specified in same order \n",
    "# as B_index cols in df below: 1-st line '('Soups', 'Bakery', 'Cold Drinks')' \n",
    "# --> 1-st col 'SB_solid_b_0' and so on\n",
    "combinations = pd.read_csv (\"SB_light_b_8.txt\", names = ['1','2'])\n",
    "combinations"
   ]
  },
  {
   "cell_type": "code",
   "execution_count": 4,
   "metadata": {
    "ExecuteTime": {
     "end_time": "2019-10-06T16:42:17.347173Z",
     "start_time": "2019-10-06T16:42:17.293170Z"
    }
   },
   "outputs": [
    {
     "data": {
      "text/html": [
       "<div>\n",
       "<style scoped>\n",
       "    .dataframe tbody tr th:only-of-type {\n",
       "        vertical-align: middle;\n",
       "    }\n",
       "\n",
       "    .dataframe tbody tr th {\n",
       "        vertical-align: top;\n",
       "    }\n",
       "\n",
       "    .dataframe thead th {\n",
       "        text-align: right;\n",
       "    }\n",
       "</style>\n",
       "<table border=\"1\" class=\"dataframe\">\n",
       "  <thead>\n",
       "    <tr style=\"text-align: right;\">\n",
       "      <th></th>\n",
       "      <th>SB_light_b_0</th>\n",
       "      <th>SB_light_b_1</th>\n",
       "      <th>SB_light_b_2</th>\n",
       "      <th>SB_light_b_3</th>\n",
       "      <th>SB_light_b_4</th>\n",
       "      <th>SB_light_b_5</th>\n",
       "      <th>SB_light_b_6</th>\n",
       "      <th>SB_light_b_7</th>\n",
       "    </tr>\n",
       "  </thead>\n",
       "  <tbody>\n",
       "    <tr>\n",
       "      <th>0</th>\n",
       "      <td>14.467253</td>\n",
       "      <td>15.761714</td>\n",
       "      <td>1.817249</td>\n",
       "      <td>1.991554</td>\n",
       "      <td>1.493121</td>\n",
       "      <td>1.721356</td>\n",
       "      <td>2.510340</td>\n",
       "      <td>2.69701</td>\n",
       "    </tr>\n",
       "    <tr>\n",
       "      <th>1</th>\n",
       "      <td>13.566538</td>\n",
       "      <td>15.761714</td>\n",
       "      <td>1.638452</td>\n",
       "      <td>1.991554</td>\n",
       "      <td>1.339067</td>\n",
       "      <td>1.721356</td>\n",
       "      <td>1.828098</td>\n",
       "      <td>2.69701</td>\n",
       "    </tr>\n",
       "    <tr>\n",
       "      <th>2</th>\n",
       "      <td>1.886455</td>\n",
       "      <td>15.761714</td>\n",
       "      <td>0.983760</td>\n",
       "      <td>1.991554</td>\n",
       "      <td>0.834038</td>\n",
       "      <td>1.721356</td>\n",
       "      <td>0.937616</td>\n",
       "      <td>2.69701</td>\n",
       "    </tr>\n",
       "    <tr>\n",
       "      <th>3</th>\n",
       "      <td>13.716896</td>\n",
       "      <td>15.761714</td>\n",
       "      <td>1.680605</td>\n",
       "      <td>1.991554</td>\n",
       "      <td>1.389062</td>\n",
       "      <td>1.721356</td>\n",
       "      <td>1.872029</td>\n",
       "      <td>2.69701</td>\n",
       "    </tr>\n",
       "    <tr>\n",
       "      <th>4</th>\n",
       "      <td>23.929132</td>\n",
       "      <td>15.761714</td>\n",
       "      <td>1.659544</td>\n",
       "      <td>1.991554</td>\n",
       "      <td>1.305413</td>\n",
       "      <td>1.721356</td>\n",
       "      <td>2.344704</td>\n",
       "      <td>2.69701</td>\n",
       "    </tr>\n",
       "  </tbody>\n",
       "</table>\n",
       "</div>"
      ],
      "text/plain": [
       "   SB_light_b_0  SB_light_b_1  SB_light_b_2  SB_light_b_3  SB_light_b_4  \\\n",
       "0     14.467253     15.761714      1.817249      1.991554      1.493121   \n",
       "1     13.566538     15.761714      1.638452      1.991554      1.339067   \n",
       "2      1.886455     15.761714      0.983760      1.991554      0.834038   \n",
       "3     13.716896     15.761714      1.680605      1.991554      1.389062   \n",
       "4     23.929132     15.761714      1.659544      1.991554      1.305413   \n",
       "\n",
       "   SB_light_b_5  SB_light_b_6  SB_light_b_7  \n",
       "0      1.721356      2.510340       2.69701  \n",
       "1      1.721356      1.828098       2.69701  \n",
       "2      1.721356      0.937616       2.69701  \n",
       "3      1.721356      1.872029       2.69701  \n",
       "4      1.721356      2.344704       2.69701  "
      ]
     },
     "execution_count": 4,
     "metadata": {},
     "output_type": "execute_result"
    }
   ],
   "source": [
    "SB_light_b_8 = pd.read_csv ('SB_light_b_8.csv', sep=(','))\n",
    "SB_light_b_8.head ()"
   ]
  },
  {
   "cell_type": "code",
   "execution_count": 5,
   "metadata": {
    "ExecuteTime": {
     "end_time": "2019-10-06T16:42:22.466466Z",
     "start_time": "2019-10-06T16:42:22.440464Z"
    }
   },
   "outputs": [
    {
     "name": "stdout",
     "output_type": "stream",
     "text": [
      "<class 'pandas.core.frame.DataFrame'>\n",
      "RangeIndex: 126 entries, 0 to 125\n",
      "Data columns (total 8 columns):\n",
      "SB_light_b_0    126 non-null float64\n",
      "SB_light_b_1    36 non-null float64\n",
      "SB_light_b_2    126 non-null float64\n",
      "SB_light_b_3    90 non-null float64\n",
      "SB_light_b_4    126 non-null float64\n",
      "SB_light_b_5    90 non-null float64\n",
      "SB_light_b_6    126 non-null float64\n",
      "SB_light_b_7    126 non-null float64\n",
      "dtypes: float64(8)\n",
      "memory usage: 8.0 KB\n"
     ]
    }
   ],
   "source": [
    "# different combinations of groups gave different combinations of items\n",
    "SB_light_b_8.info()"
   ]
  },
  {
   "cell_type": "code",
   "execution_count": 6,
   "metadata": {
    "ExecuteTime": {
     "end_time": "2019-10-06T16:42:28.993839Z",
     "start_time": "2019-10-06T16:42:28.935836Z"
    }
   },
   "outputs": [
    {
     "data": {
      "text/html": [
       "<div>\n",
       "<style scoped>\n",
       "    .dataframe tbody tr th:only-of-type {\n",
       "        vertical-align: middle;\n",
       "    }\n",
       "\n",
       "    .dataframe tbody tr th {\n",
       "        vertical-align: top;\n",
       "    }\n",
       "\n",
       "    .dataframe thead th {\n",
       "        text-align: right;\n",
       "    }\n",
       "</style>\n",
       "<table border=\"1\" class=\"dataframe\">\n",
       "  <thead>\n",
       "    <tr style=\"text-align: right;\">\n",
       "      <th></th>\n",
       "      <th>SB_light_b_0</th>\n",
       "      <th>SB_light_b_1</th>\n",
       "      <th>SB_light_b_2</th>\n",
       "      <th>SB_light_b_3</th>\n",
       "      <th>SB_light_b_4</th>\n",
       "      <th>SB_light_b_5</th>\n",
       "      <th>SB_light_b_6</th>\n",
       "      <th>SB_light_b_7</th>\n",
       "    </tr>\n",
       "  </thead>\n",
       "  <tbody>\n",
       "    <tr>\n",
       "      <th>count</th>\n",
       "      <td>126.000000</td>\n",
       "      <td>36.000000</td>\n",
       "      <td>126.000000</td>\n",
       "      <td>90.000000</td>\n",
       "      <td>126.000000</td>\n",
       "      <td>90.000000</td>\n",
       "      <td>126.000000</td>\n",
       "      <td>126.000000</td>\n",
       "    </tr>\n",
       "    <tr>\n",
       "      <th>mean</th>\n",
       "      <td>8.041135</td>\n",
       "      <td>6.216398</td>\n",
       "      <td>2.589125</td>\n",
       "      <td>1.941029</td>\n",
       "      <td>1.296113</td>\n",
       "      <td>1.299669</td>\n",
       "      <td>3.007376</td>\n",
       "      <td>2.179563</td>\n",
       "    </tr>\n",
       "    <tr>\n",
       "      <th>std</th>\n",
       "      <td>6.455090</td>\n",
       "      <td>5.497816</td>\n",
       "      <td>1.446653</td>\n",
       "      <td>1.440988</td>\n",
       "      <td>0.192329</td>\n",
       "      <td>0.582993</td>\n",
       "      <td>1.260691</td>\n",
       "      <td>1.057278</td>\n",
       "    </tr>\n",
       "    <tr>\n",
       "      <th>min</th>\n",
       "      <td>1.358477</td>\n",
       "      <td>1.742856</td>\n",
       "      <td>0.955667</td>\n",
       "      <td>0.653660</td>\n",
       "      <td>0.801780</td>\n",
       "      <td>0.798789</td>\n",
       "      <td>0.915641</td>\n",
       "      <td>0.669651</td>\n",
       "    </tr>\n",
       "    <tr>\n",
       "      <th>25%</th>\n",
       "      <td>3.038797</td>\n",
       "      <td>2.324340</td>\n",
       "      <td>1.597964</td>\n",
       "      <td>1.037937</td>\n",
       "      <td>1.204404</td>\n",
       "      <td>1.014058</td>\n",
       "      <td>2.271869</td>\n",
       "      <td>1.426209</td>\n",
       "    </tr>\n",
       "    <tr>\n",
       "      <th>50%</th>\n",
       "      <td>4.384307</td>\n",
       "      <td>3.311783</td>\n",
       "      <td>1.816681</td>\n",
       "      <td>1.459860</td>\n",
       "      <td>1.301373</td>\n",
       "      <td>1.195244</td>\n",
       "      <td>2.450188</td>\n",
       "      <td>2.075111</td>\n",
       "    </tr>\n",
       "    <tr>\n",
       "      <th>75%</th>\n",
       "      <td>13.241568</td>\n",
       "      <td>13.768750</td>\n",
       "      <td>4.209507</td>\n",
       "      <td>2.032132</td>\n",
       "      <td>1.411993</td>\n",
       "      <td>1.480945</td>\n",
       "      <td>4.761907</td>\n",
       "      <td>2.530727</td>\n",
       "    </tr>\n",
       "    <tr>\n",
       "      <th>max</th>\n",
       "      <td>24.667729</td>\n",
       "      <td>15.761714</td>\n",
       "      <td>7.292251</td>\n",
       "      <td>6.422251</td>\n",
       "      <td>1.732655</td>\n",
       "      <td>5.796912</td>\n",
       "      <td>5.314884</td>\n",
       "      <td>5.140884</td>\n",
       "    </tr>\n",
       "  </tbody>\n",
       "</table>\n",
       "</div>"
      ],
      "text/plain": [
       "       SB_light_b_0  SB_light_b_1  SB_light_b_2  SB_light_b_3  SB_light_b_4  \\\n",
       "count    126.000000     36.000000    126.000000     90.000000    126.000000   \n",
       "mean       8.041135      6.216398      2.589125      1.941029      1.296113   \n",
       "std        6.455090      5.497816      1.446653      1.440988      0.192329   \n",
       "min        1.358477      1.742856      0.955667      0.653660      0.801780   \n",
       "25%        3.038797      2.324340      1.597964      1.037937      1.204404   \n",
       "50%        4.384307      3.311783      1.816681      1.459860      1.301373   \n",
       "75%       13.241568     13.768750      4.209507      2.032132      1.411993   \n",
       "max       24.667729     15.761714      7.292251      6.422251      1.732655   \n",
       "\n",
       "       SB_light_b_5  SB_light_b_6  SB_light_b_7  \n",
       "count     90.000000    126.000000    126.000000  \n",
       "mean       1.299669      3.007376      2.179563  \n",
       "std        0.582993      1.260691      1.057278  \n",
       "min        0.798789      0.915641      0.669651  \n",
       "25%        1.014058      2.271869      1.426209  \n",
       "50%        1.195244      2.450188      2.075111  \n",
       "75%        1.480945      4.761907      2.530727  \n",
       "max        5.796912      5.314884      5.140884  "
      ]
     },
     "execution_count": 6,
     "metadata": {},
     "output_type": "execute_result"
    }
   ],
   "source": [
    "# cols of different length!\n",
    "SB_light_b_8.describe()"
   ]
  },
  {
   "cell_type": "code",
   "execution_count": 7,
   "metadata": {
    "ExecuteTime": {
     "end_time": "2019-10-06T16:42:34.454151Z",
     "start_time": "2019-10-06T16:42:34.413149Z"
    }
   },
   "outputs": [
    {
     "data": {
      "text/plain": [
       "(1.288, 2.26]     4\n",
       "(2.26, 3.223]     2\n",
       "(7.078, 8.041]    1\n",
       "(6.114, 7.078]    1\n",
       "(5.15, 6.114]     0\n",
       "(4.187, 5.15]     0\n",
       "(3.223, 4.187]    0\n",
       "dtype: int64"
      ]
     },
     "execution_count": 7,
     "metadata": {},
     "output_type": "execute_result"
    }
   ],
   "source": [
    "# mean B-index of the subset:\n",
    "SB_light_b_8.mean().value_counts (bins=7)"
   ]
  },
  {
   "cell_type": "code",
   "execution_count": 9,
   "metadata": {
    "ExecuteTime": {
     "end_time": "2019-10-06T16:42:48.855975Z",
     "start_time": "2019-10-06T16:42:48.612961Z"
    },
    "scrolled": true
   },
   "outputs": [
    {
     "data": {
      "text/plain": [
       "<matplotlib.axes._subplots.AxesSubplot at 0x8e302e8>"
      ]
     },
     "execution_count": 9,
     "metadata": {},
     "output_type": "execute_result"
    },
    {
     "data": {
      "image/png": "[encoded data removed]",
      "text/plain": [
       "<Figure size 576x288 with 1 Axes>"
      ]
     },
     "metadata": {
      "needs_background": "light"
     },
     "output_type": "display_data"
    }
   ],
   "source": [
    "# B_index mean values for all groups\n",
    "cols = pd.Index.to_list(SB_light_b_8.columns[0:])\n",
    "SB_light_b_8[cols].mean().plot(kind = 'bar', \n",
    "                                subplots = False, \n",
    "                                width = 0.5, \n",
    "                                figsize = (8,4),\n",
    "                                grid = True)"
   ]
  },
  {
   "cell_type": "code",
   "execution_count": null,
   "metadata": {},
   "outputs": [],
   "source": []
  }
 ],
 "metadata": {
  "hide_input": false,
  "kernelspec": {
   "display_name": "Python 3",
   "language": "python",
   "name": "python3"
  },
  "language_info": {
   "codemirror_mode": {
    "name": "ipython",
    "version": 3
   },
   "file_extension": ".py",
   "mimetype": "text/x-python",
   "name": "python",
   "nbconvert_exporter": "python",
   "pygments_lexer": "ipython3",
   "version": "3.7.1"
  }
 },
 "nbformat": 4,
 "nbformat_minor": 2
}
