{
 "cells": [
  {
   "cell_type": "markdown",
   "metadata": {},
   "source": [
    "## Analytics in terms of B-index"
   ]
  },
  {
   "cell_type": "markdown",
   "metadata": {},
   "source": [
    "### 1. \"Lite breakfast\" SB combination set "
   ]
  },
  {
   "cell_type": "code",
   "execution_count": 18,
   "metadata": {
    "ExecuteTime": {
     "end_time": "2019-10-07T18:29:09.202515Z",
     "start_time": "2019-10-07T18:29:09.182513Z"
    }
   },
   "outputs": [],
   "source": [
    "# required imports\n",
    "import pandas as pd\n",
    "from matplotlib import pyplot as plt\n",
    "%matplotlib inline"
   ]
  },
  {
   "cell_type": "code",
   "execution_count": 19,
   "metadata": {
    "ExecuteTime": {
     "end_time": "2019-10-07T18:29:09.214515Z",
     "start_time": "2019-10-07T18:29:09.206515Z"
    }
   },
   "outputs": [],
   "source": [
    "# list with 24 combinations of 3 items, they specified in same order \n",
    "# as B_index cols in df below --> 1-st col 'SB_solid_b_0' and so on\n",
    "\n",
    "combi_list = []\n",
    "\n",
    "with open ('SB_lite_b_8.txt', 'r') as f:\n",
    "    for line in f:\n",
    "        line = line[:-1]\n",
    "        combi_list.append (line)\n",
    "    f.close()"
   ]
  },
  {
   "cell_type": "code",
   "execution_count": 20,
   "metadata": {
    "ExecuteTime": {
     "end_time": "2019-10-07T18:29:09.427527Z",
     "start_time": "2019-10-07T18:29:09.219516Z"
    }
   },
   "outputs": [
    {
     "data": {
      "text/html": [
       "<div>\n",
       "<style scoped>\n",
       "    .dataframe tbody tr th:only-of-type {\n",
       "        vertical-align: middle;\n",
       "    }\n",
       "\n",
       "    .dataframe tbody tr th {\n",
       "        vertical-align: top;\n",
       "    }\n",
       "\n",
       "    .dataframe thead th {\n",
       "        text-align: right;\n",
       "    }\n",
       "</style>\n",
       "<table border=\"1\" class=\"dataframe\">\n",
       "  <thead>\n",
       "    <tr style=\"text-align: right;\">\n",
       "      <th></th>\n",
       "      <th>('Soups', 'Cold Drinks')</th>\n",
       "      <th>('Soups', 'Hot Drinks')</th>\n",
       "      <th>('Salads', 'Cold Drinks')</th>\n",
       "      <th>('Salads', 'Hot Drinks')</th>\n",
       "      <th>('Protein Boxes &amp; Bowls', 'Cold Drinks')</th>\n",
       "      <th>('Protein Boxes &amp; Bowls', 'Hot Drinks')</th>\n",
       "      <th>('Hot Breakfast', 'Cold Drinks')</th>\n",
       "      <th>('Hot Breakfast', 'Hot Drinks')</th>\n",
       "    </tr>\n",
       "  </thead>\n",
       "  <tbody>\n",
       "    <tr>\n",
       "      <th>0</th>\n",
       "      <td>14.467253</td>\n",
       "      <td>15.761714</td>\n",
       "      <td>1.817249</td>\n",
       "      <td>1.991554</td>\n",
       "      <td>1.493121</td>\n",
       "      <td>1.721356</td>\n",
       "      <td>2.510340</td>\n",
       "      <td>2.69701</td>\n",
       "    </tr>\n",
       "    <tr>\n",
       "      <th>1</th>\n",
       "      <td>13.566538</td>\n",
       "      <td>15.761714</td>\n",
       "      <td>1.638452</td>\n",
       "      <td>1.991554</td>\n",
       "      <td>1.339067</td>\n",
       "      <td>1.721356</td>\n",
       "      <td>1.828098</td>\n",
       "      <td>2.69701</td>\n",
       "    </tr>\n",
       "    <tr>\n",
       "      <th>2</th>\n",
       "      <td>1.886455</td>\n",
       "      <td>15.761714</td>\n",
       "      <td>0.983760</td>\n",
       "      <td>1.991554</td>\n",
       "      <td>0.834038</td>\n",
       "      <td>1.721356</td>\n",
       "      <td>0.937616</td>\n",
       "      <td>2.69701</td>\n",
       "    </tr>\n",
       "    <tr>\n",
       "      <th>3</th>\n",
       "      <td>13.716896</td>\n",
       "      <td>15.761714</td>\n",
       "      <td>1.680605</td>\n",
       "      <td>1.991554</td>\n",
       "      <td>1.389062</td>\n",
       "      <td>1.721356</td>\n",
       "      <td>1.872029</td>\n",
       "      <td>2.69701</td>\n",
       "    </tr>\n",
       "    <tr>\n",
       "      <th>4</th>\n",
       "      <td>23.929132</td>\n",
       "      <td>15.761714</td>\n",
       "      <td>1.659544</td>\n",
       "      <td>1.991554</td>\n",
       "      <td>1.305413</td>\n",
       "      <td>1.721356</td>\n",
       "      <td>2.344704</td>\n",
       "      <td>2.69701</td>\n",
       "    </tr>\n",
       "  </tbody>\n",
       "</table>\n",
       "</div>"
      ],
      "text/plain": [
       "   ('Soups', 'Cold Drinks')  ('Soups', 'Hot Drinks')  \\\n",
       "0                 14.467253                15.761714   \n",
       "1                 13.566538                15.761714   \n",
       "2                  1.886455                15.761714   \n",
       "3                 13.716896                15.761714   \n",
       "4                 23.929132                15.761714   \n",
       "\n",
       "   ('Salads', 'Cold Drinks')  ('Salads', 'Hot Drinks')  \\\n",
       "0                   1.817249                  1.991554   \n",
       "1                   1.638452                  1.991554   \n",
       "2                   0.983760                  1.991554   \n",
       "3                   1.680605                  1.991554   \n",
       "4                   1.659544                  1.991554   \n",
       "\n",
       "   ('Protein Boxes & Bowls', 'Cold Drinks')  \\\n",
       "0                                  1.493121   \n",
       "1                                  1.339067   \n",
       "2                                  0.834038   \n",
       "3                                  1.389062   \n",
       "4                                  1.305413   \n",
       "\n",
       "   ('Protein Boxes & Bowls', 'Hot Drinks')  ('Hot Breakfast', 'Cold Drinks')  \\\n",
       "0                                 1.721356                          2.510340   \n",
       "1                                 1.721356                          1.828098   \n",
       "2                                 1.721356                          0.937616   \n",
       "3                                 1.721356                          1.872029   \n",
       "4                                 1.721356                          2.344704   \n",
       "\n",
       "   ('Hot Breakfast', 'Hot Drinks')  \n",
       "0                          2.69701  \n",
       "1                          2.69701  \n",
       "2                          2.69701  \n",
       "3                          2.69701  \n",
       "4                          2.69701  "
      ]
     },
     "execution_count": 20,
     "metadata": {},
     "output_type": "execute_result"
    }
   ],
   "source": [
    "SB_lite_b_8 = pd.read_csv ('SB_lite_b_8.csv',  skiprows=1, names=combi_list , sep=(','))\n",
    "SB_lite_b_8.head()"
   ]
  },
  {
   "cell_type": "code",
   "execution_count": 21,
   "metadata": {
    "ExecuteTime": {
     "end_time": "2019-10-07T18:29:09.607538Z",
     "start_time": "2019-10-07T18:29:09.433528Z"
    }
   },
   "outputs": [
    {
     "data": {
      "text/html": [
       "<div>\n",
       "<style scoped>\n",
       "    .dataframe tbody tr th:only-of-type {\n",
       "        vertical-align: middle;\n",
       "    }\n",
       "\n",
       "    .dataframe tbody tr th {\n",
       "        vertical-align: top;\n",
       "    }\n",
       "\n",
       "    .dataframe thead th {\n",
       "        text-align: right;\n",
       "    }\n",
       "</style>\n",
       "<table border=\"1\" class=\"dataframe\">\n",
       "  <thead>\n",
       "    <tr style=\"text-align: right;\">\n",
       "      <th></th>\n",
       "      <th>('Soups', 'Cold Drinks')</th>\n",
       "      <th>('Soups', 'Hot Drinks')</th>\n",
       "      <th>('Salads', 'Cold Drinks')</th>\n",
       "      <th>('Salads', 'Hot Drinks')</th>\n",
       "      <th>('Protein Boxes &amp; Bowls', 'Cold Drinks')</th>\n",
       "      <th>('Protein Boxes &amp; Bowls', 'Hot Drinks')</th>\n",
       "      <th>('Hot Breakfast', 'Cold Drinks')</th>\n",
       "      <th>('Hot Breakfast', 'Hot Drinks')</th>\n",
       "    </tr>\n",
       "  </thead>\n",
       "  <tbody>\n",
       "    <tr>\n",
       "      <th>count</th>\n",
       "      <td>126.000000</td>\n",
       "      <td>36.000000</td>\n",
       "      <td>126.000000</td>\n",
       "      <td>90.000000</td>\n",
       "      <td>126.000000</td>\n",
       "      <td>90.000000</td>\n",
       "      <td>126.000000</td>\n",
       "      <td>126.000000</td>\n",
       "    </tr>\n",
       "    <tr>\n",
       "      <th>mean</th>\n",
       "      <td>8.041135</td>\n",
       "      <td>6.216398</td>\n",
       "      <td>2.589125</td>\n",
       "      <td>1.941029</td>\n",
       "      <td>1.296113</td>\n",
       "      <td>1.299669</td>\n",
       "      <td>3.007376</td>\n",
       "      <td>2.179563</td>\n",
       "    </tr>\n",
       "    <tr>\n",
       "      <th>std</th>\n",
       "      <td>6.455090</td>\n",
       "      <td>5.497816</td>\n",
       "      <td>1.446653</td>\n",
       "      <td>1.440988</td>\n",
       "      <td>0.192329</td>\n",
       "      <td>0.582993</td>\n",
       "      <td>1.260691</td>\n",
       "      <td>1.057278</td>\n",
       "    </tr>\n",
       "    <tr>\n",
       "      <th>min</th>\n",
       "      <td>1.358477</td>\n",
       "      <td>1.742856</td>\n",
       "      <td>0.955667</td>\n",
       "      <td>0.653660</td>\n",
       "      <td>0.801780</td>\n",
       "      <td>0.798789</td>\n",
       "      <td>0.915641</td>\n",
       "      <td>0.669651</td>\n",
       "    </tr>\n",
       "    <tr>\n",
       "      <th>25%</th>\n",
       "      <td>3.038797</td>\n",
       "      <td>2.324340</td>\n",
       "      <td>1.597964</td>\n",
       "      <td>1.037937</td>\n",
       "      <td>1.204404</td>\n",
       "      <td>1.014058</td>\n",
       "      <td>2.271869</td>\n",
       "      <td>1.426209</td>\n",
       "    </tr>\n",
       "    <tr>\n",
       "      <th>50%</th>\n",
       "      <td>4.384307</td>\n",
       "      <td>3.311783</td>\n",
       "      <td>1.816681</td>\n",
       "      <td>1.459860</td>\n",
       "      <td>1.301373</td>\n",
       "      <td>1.195244</td>\n",
       "      <td>2.450188</td>\n",
       "      <td>2.075111</td>\n",
       "    </tr>\n",
       "    <tr>\n",
       "      <th>75%</th>\n",
       "      <td>13.241568</td>\n",
       "      <td>13.768750</td>\n",
       "      <td>4.209507</td>\n",
       "      <td>2.032132</td>\n",
       "      <td>1.411993</td>\n",
       "      <td>1.480945</td>\n",
       "      <td>4.761907</td>\n",
       "      <td>2.530727</td>\n",
       "    </tr>\n",
       "    <tr>\n",
       "      <th>max</th>\n",
       "      <td>24.667729</td>\n",
       "      <td>15.761714</td>\n",
       "      <td>7.292251</td>\n",
       "      <td>6.422251</td>\n",
       "      <td>1.732655</td>\n",
       "      <td>5.796912</td>\n",
       "      <td>5.314884</td>\n",
       "      <td>5.140884</td>\n",
       "    </tr>\n",
       "  </tbody>\n",
       "</table>\n",
       "</div>"
      ],
      "text/plain": [
       "       ('Soups', 'Cold Drinks')  ('Soups', 'Hot Drinks')  \\\n",
       "count                126.000000                36.000000   \n",
       "mean                   8.041135                 6.216398   \n",
       "std                    6.455090                 5.497816   \n",
       "min                    1.358477                 1.742856   \n",
       "25%                    3.038797                 2.324340   \n",
       "50%                    4.384307                 3.311783   \n",
       "75%                   13.241568                13.768750   \n",
       "max                   24.667729                15.761714   \n",
       "\n",
       "       ('Salads', 'Cold Drinks')  ('Salads', 'Hot Drinks')  \\\n",
       "count                 126.000000                 90.000000   \n",
       "mean                    2.589125                  1.941029   \n",
       "std                     1.446653                  1.440988   \n",
       "min                     0.955667                  0.653660   \n",
       "25%                     1.597964                  1.037937   \n",
       "50%                     1.816681                  1.459860   \n",
       "75%                     4.209507                  2.032132   \n",
       "max                     7.292251                  6.422251   \n",
       "\n",
       "       ('Protein Boxes & Bowls', 'Cold Drinks')  \\\n",
       "count                                126.000000   \n",
       "mean                                   1.296113   \n",
       "std                                    0.192329   \n",
       "min                                    0.801780   \n",
       "25%                                    1.204404   \n",
       "50%                                    1.301373   \n",
       "75%                                    1.411993   \n",
       "max                                    1.732655   \n",
       "\n",
       "       ('Protein Boxes & Bowls', 'Hot Drinks')  \\\n",
       "count                                90.000000   \n",
       "mean                                  1.299669   \n",
       "std                                   0.582993   \n",
       "min                                   0.798789   \n",
       "25%                                   1.014058   \n",
       "50%                                   1.195244   \n",
       "75%                                   1.480945   \n",
       "max                                   5.796912   \n",
       "\n",
       "       ('Hot Breakfast', 'Cold Drinks')  ('Hot Breakfast', 'Hot Drinks')  \n",
       "count                        126.000000                       126.000000  \n",
       "mean                           3.007376                         2.179563  \n",
       "std                            1.260691                         1.057278  \n",
       "min                            0.915641                         0.669651  \n",
       "25%                            2.271869                         1.426209  \n",
       "50%                            2.450188                         2.075111  \n",
       "75%                            4.761907                         2.530727  \n",
       "max                            5.314884                         5.140884  "
      ]
     },
     "execution_count": 21,
     "metadata": {},
     "output_type": "execute_result"
    }
   ],
   "source": [
    "# cols of different length!\n",
    "SB_lite_b_8.describe()"
   ]
  },
  {
   "cell_type": "code",
   "execution_count": 22,
   "metadata": {
    "ExecuteTime": {
     "end_time": "2019-10-07T18:29:09.956558Z",
     "start_time": "2019-10-07T18:29:09.611538Z"
    },
    "scrolled": true
   },
   "outputs": [
    {
     "data": {
      "text/plain": [
       "<matplotlib.axes._subplots.AxesSubplot at 0x9a38a58>"
      ]
     },
     "execution_count": 22,
     "metadata": {},
     "output_type": "execute_result"
    },
    {
     "data": {
      "image/png": "[encoded data removed]",
      "text/plain": [
       "<Figure size 576x288 with 1 Axes>"
      ]
     },
     "metadata": {
      "needs_background": "light"
     },
     "output_type": "display_data"
    }
   ],
   "source": [
    "# B_index mean values for all groups\n",
    "cols = pd.Index.to_list(SB_lite_b_8.columns[0:])\n",
    "SB_lite_b_8[cols].mean().plot(kind = 'bar', subplots = False, width = 0.5, figsize = (8,4), grid = True)"
   ]
  },
  {
   "cell_type": "code",
   "execution_count": 24,
   "metadata": {
    "ExecuteTime": {
     "end_time": "2019-10-07T18:29:38.512191Z",
     "start_time": "2019-10-07T18:29:38.464188Z"
    },
    "scrolled": true
   },
   "outputs": [
    {
     "data": {
      "text/html": [
       "<div>\n",
       "<style scoped>\n",
       "    .dataframe tbody tr th:only-of-type {\n",
       "        vertical-align: middle;\n",
       "    }\n",
       "\n",
       "    .dataframe tbody tr th {\n",
       "        vertical-align: top;\n",
       "    }\n",
       "\n",
       "    .dataframe thead th {\n",
       "        text-align: right;\n",
       "    }\n",
       "</style>\n",
       "<table border=\"1\" class=\"dataframe\">\n",
       "  <thead>\n",
       "    <tr style=\"text-align: right;\">\n",
       "      <th></th>\n",
       "      <th>('Salads', 'Hot Drinks')</th>\n",
       "      <th>('Protein Boxes &amp; Bowls', 'Cold Drinks')</th>\n",
       "      <th>('Protein Boxes &amp; Bowls', 'Hot Drinks')</th>\n",
       "      <th>('Hot Breakfast', 'Hot Drinks')</th>\n",
       "    </tr>\n",
       "  </thead>\n",
       "  <tbody>\n",
       "    <tr>\n",
       "      <th>count</th>\n",
       "      <td>90.000000</td>\n",
       "      <td>126.000000</td>\n",
       "      <td>90.000000</td>\n",
       "      <td>126.000000</td>\n",
       "    </tr>\n",
       "    <tr>\n",
       "      <th>mean</th>\n",
       "      <td>1.941029</td>\n",
       "      <td>1.296113</td>\n",
       "      <td>1.299669</td>\n",
       "      <td>2.179563</td>\n",
       "    </tr>\n",
       "    <tr>\n",
       "      <th>std</th>\n",
       "      <td>1.440988</td>\n",
       "      <td>0.192329</td>\n",
       "      <td>0.582993</td>\n",
       "      <td>1.057278</td>\n",
       "    </tr>\n",
       "    <tr>\n",
       "      <th>min</th>\n",
       "      <td>0.653660</td>\n",
       "      <td>0.801780</td>\n",
       "      <td>0.798789</td>\n",
       "      <td>0.669651</td>\n",
       "    </tr>\n",
       "    <tr>\n",
       "      <th>25%</th>\n",
       "      <td>1.037937</td>\n",
       "      <td>1.204404</td>\n",
       "      <td>1.014058</td>\n",
       "      <td>1.426209</td>\n",
       "    </tr>\n",
       "    <tr>\n",
       "      <th>50%</th>\n",
       "      <td>1.459860</td>\n",
       "      <td>1.301373</td>\n",
       "      <td>1.195244</td>\n",
       "      <td>2.075111</td>\n",
       "    </tr>\n",
       "    <tr>\n",
       "      <th>75%</th>\n",
       "      <td>2.032132</td>\n",
       "      <td>1.411993</td>\n",
       "      <td>1.480945</td>\n",
       "      <td>2.530727</td>\n",
       "    </tr>\n",
       "    <tr>\n",
       "      <th>max</th>\n",
       "      <td>6.422251</td>\n",
       "      <td>1.732655</td>\n",
       "      <td>5.796912</td>\n",
       "      <td>5.140884</td>\n",
       "    </tr>\n",
       "  </tbody>\n",
       "</table>\n",
       "</div>"
      ],
      "text/plain": [
       "       ('Salads', 'Hot Drinks')  ('Protein Boxes & Bowls', 'Cold Drinks')  \\\n",
       "count                 90.000000                                126.000000   \n",
       "mean                   1.941029                                  1.296113   \n",
       "std                    1.440988                                  0.192329   \n",
       "min                    0.653660                                  0.801780   \n",
       "25%                    1.037937                                  1.204404   \n",
       "50%                    1.459860                                  1.301373   \n",
       "75%                    2.032132                                  1.411993   \n",
       "max                    6.422251                                  1.732655   \n",
       "\n",
       "       ('Protein Boxes & Bowls', 'Hot Drinks')  \\\n",
       "count                                90.000000   \n",
       "mean                                  1.299669   \n",
       "std                                   0.582993   \n",
       "min                                   0.798789   \n",
       "25%                                   1.014058   \n",
       "50%                                   1.195244   \n",
       "75%                                   1.480945   \n",
       "max                                   5.796912   \n",
       "\n",
       "       ('Hot Breakfast', 'Hot Drinks')  \n",
       "count                       126.000000  \n",
       "mean                          2.179563  \n",
       "std                           1.057278  \n",
       "min                           0.669651  \n",
       "25%                           1.426209  \n",
       "50%                           2.075111  \n",
       "75%                           2.530727  \n",
       "max                           5.140884  "
      ]
     },
     "execution_count": 24,
     "metadata": {},
     "output_type": "execute_result"
    }
   ],
   "source": [
    "# in this set we delete only first item with poor (for dinner) calories and nutrition: \n",
    "# mean > 2.5. Rest of items could be used as lite dinner in different cases\n",
    "\n",
    "# above cutoff:\n",
    "above_cut = (SB_lite_b_8.mean() > 2.5)\n",
    "above_drop_list = [col for col in above_cut]\n",
    "a = above_cut.loc[above_drop_list]\n",
    "above_drop = pd.Index.to_list(a.index)\n",
    "\n",
    "# deleting columns:\n",
    "SB_lite_b_8.drop (columns = above_drop, inplace=True)\n",
    "SB_lite_b_best = SB_lite_b_8\n",
    "SB_lite_b_best.describe()"
   ]
  },
  {
   "cell_type": "code",
   "execution_count": 25,
   "metadata": {
    "ExecuteTime": {
     "end_time": "2019-10-07T18:29:42.854439Z",
     "start_time": "2019-10-07T18:29:42.572423Z"
    }
   },
   "outputs": [
    {
     "data": {
      "text/plain": [
       "<matplotlib.axes._subplots.AxesSubplot at 0xa1164a8>"
      ]
     },
     "execution_count": 25,
     "metadata": {},
     "output_type": "execute_result"
    },
    {
     "data": {
      "image/png": "[encoded data removed]",
      "text/plain": [
       "<Figure size 432x288 with 1 Axes>"
      ]
     },
     "metadata": {
      "needs_background": "light"
     },
     "output_type": "display_data"
    }
   ],
   "source": [
    "# vizualizing filtered df:\n",
    "cols = pd.Index.to_list(SB_lite_b_best.columns[0:])\n",
    "SB_lite_b_best[cols].mean().plot(kind = 'bar', subplots = False, width = 0.5, figsize = (6,4), grid = True)"
   ]
  },
  {
   "cell_type": "code",
   "execution_count": 26,
   "metadata": {
    "ExecuteTime": {
     "end_time": "2019-10-07T18:29:46.679658Z",
     "start_time": "2019-10-07T18:29:46.664657Z"
    }
   },
   "outputs": [],
   "source": [
    "SB_lite_b_best.to_csv ('SB_lite_b_best.csv')"
   ]
  }
 ],
 "metadata": {
  "hide_input": false,
  "kernelspec": {
   "display_name": "Python 3",
   "language": "python",
   "name": "python3"
  },
  "language_info": {
   "codemirror_mode": {
    "name": "ipython",
    "version": 3
   },
   "file_extension": ".py",
   "mimetype": "text/x-python",
   "name": "python",
   "nbconvert_exporter": "python",
   "pygments_lexer": "ipython3",
   "version": "3.7.1"
  }
 },
 "nbformat": 4,
 "nbformat_minor": 2
}
