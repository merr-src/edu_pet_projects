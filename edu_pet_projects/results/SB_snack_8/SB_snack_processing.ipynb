{
 "cells": [
  {
   "cell_type": "markdown",
   "metadata": {},
   "source": [
    "## Analytics in terms of B-index"
   ]
  },
  {
   "cell_type": "markdown",
   "metadata": {},
   "source": [
    "### 1. \"Snack\" SB combination set "
   ]
  },
  {
   "cell_type": "code",
   "execution_count": 8,
   "metadata": {
    "ExecuteTime": {
     "end_time": "2019-10-07T17:09:09.793799Z",
     "start_time": "2019-10-07T17:09:09.776798Z"
    }
   },
   "outputs": [],
   "source": [
    "# required imports\n",
    "import pandas as pd\n",
    "from matplotlib import pyplot as plt\n",
    "%matplotlib inline"
   ]
  },
  {
   "cell_type": "code",
   "execution_count": 9,
   "metadata": {
    "ExecuteTime": {
     "end_time": "2019-10-07T17:09:10.251825Z",
     "start_time": "2019-10-07T17:09:10.238825Z"
    }
   },
   "outputs": [],
   "source": [
    "# list with 24 combinations of 3 items, they specified in same order \n",
    "# as B_index cols in df below --> 1-st col 'SB_solid_b_0' and so on\n",
    "\n",
    "combi_list = []\n",
    "\n",
    "with open ('SB_snack_8.txt', 'r') as f:\n",
    "    for line in f:\n",
    "        line = line[:-1]\n",
    "        combi_list.append (line)\n",
    "    f.close()"
   ]
  },
  {
   "cell_type": "code",
   "execution_count": 10,
   "metadata": {
    "ExecuteTime": {
     "end_time": "2019-10-07T17:09:10.909863Z",
     "start_time": "2019-10-07T17:09:10.871861Z"
    }
   },
   "outputs": [
    {
     "data": {
      "text/html": [
       "<div>\n",
       "<style scoped>\n",
       "    .dataframe tbody tr th:only-of-type {\n",
       "        vertical-align: middle;\n",
       "    }\n",
       "\n",
       "    .dataframe tbody tr th {\n",
       "        vertical-align: top;\n",
       "    }\n",
       "\n",
       "    .dataframe thead th {\n",
       "        text-align: right;\n",
       "    }\n",
       "</style>\n",
       "<table border=\"1\" class=\"dataframe\">\n",
       "  <thead>\n",
       "    <tr style=\"text-align: right;\">\n",
       "      <th></th>\n",
       "      <th>('Meat &amp; Cheese', 'Cold Drinks')</th>\n",
       "      <th>('Meat &amp; Cheese', 'Hot Drinks')</th>\n",
       "      <th>('Snack Bars', 'Cold Drinks')</th>\n",
       "      <th>('Snack Bars', 'Hot Drinks')</th>\n",
       "      <th>('Fruit &amp; Nuts', 'Cold Drinks')</th>\n",
       "      <th>('Fruit &amp; Nuts', 'Hot Drinks')</th>\n",
       "      <th>('Popcorn &amp; Chips', 'Cold Drinks')</th>\n",
       "      <th>('Popcorn &amp; Chips', 'Hot Drinks')</th>\n",
       "    </tr>\n",
       "  </thead>\n",
       "  <tbody>\n",
       "    <tr>\n",
       "      <th>0</th>\n",
       "      <td>3.123703</td>\n",
       "      <td>0.805589</td>\n",
       "      <td>2.589316</td>\n",
       "      <td>2.876299</td>\n",
       "      <td>16.284737</td>\n",
       "      <td>13.945556</td>\n",
       "      <td>3.336788</td>\n",
       "      <td>3.103721</td>\n",
       "    </tr>\n",
       "    <tr>\n",
       "      <th>1</th>\n",
       "      <td>3.430673</td>\n",
       "      <td>0.805589</td>\n",
       "      <td>2.375091</td>\n",
       "      <td>2.876299</td>\n",
       "      <td>16.081333</td>\n",
       "      <td>13.945556</td>\n",
       "      <td>3.154546</td>\n",
       "      <td>3.103721</td>\n",
       "    </tr>\n",
       "    <tr>\n",
       "      <th>2</th>\n",
       "      <td>1.174813</td>\n",
       "      <td>0.805589</td>\n",
       "      <td>1.261154</td>\n",
       "      <td>2.876299</td>\n",
       "      <td>2.362140</td>\n",
       "      <td>13.945556</td>\n",
       "      <td>1.384569</td>\n",
       "      <td>3.103721</td>\n",
       "    </tr>\n",
       "    <tr>\n",
       "      <th>3</th>\n",
       "      <td>3.831625</td>\n",
       "      <td>0.805589</td>\n",
       "      <td>2.435341</td>\n",
       "      <td>2.876299</td>\n",
       "      <td>16.136098</td>\n",
       "      <td>13.945556</td>\n",
       "      <td>3.198477</td>\n",
       "      <td>3.103721</td>\n",
       "    </tr>\n",
       "    <tr>\n",
       "      <th>4</th>\n",
       "      <td>1.730427</td>\n",
       "      <td>0.805589</td>\n",
       "      <td>2.400485</td>\n",
       "      <td>2.876299</td>\n",
       "      <td>26.079273</td>\n",
       "      <td>13.945556</td>\n",
       "      <td>3.175008</td>\n",
       "      <td>3.103721</td>\n",
       "    </tr>\n",
       "  </tbody>\n",
       "</table>\n",
       "</div>"
      ],
      "text/plain": [
       "   ('Meat & Cheese', 'Cold Drinks')  ('Meat & Cheese', 'Hot Drinks')  \\\n",
       "0                          3.123703                         0.805589   \n",
       "1                          3.430673                         0.805589   \n",
       "2                          1.174813                         0.805589   \n",
       "3                          3.831625                         0.805589   \n",
       "4                          1.730427                         0.805589   \n",
       "\n",
       "   ('Snack Bars', 'Cold Drinks')  ('Snack Bars', 'Hot Drinks')  \\\n",
       "0                       2.589316                      2.876299   \n",
       "1                       2.375091                      2.876299   \n",
       "2                       1.261154                      2.876299   \n",
       "3                       2.435341                      2.876299   \n",
       "4                       2.400485                      2.876299   \n",
       "\n",
       "   ('Fruit & Nuts', 'Cold Drinks')  ('Fruit & Nuts', 'Hot Drinks')  \\\n",
       "0                        16.284737                       13.945556   \n",
       "1                        16.081333                       13.945556   \n",
       "2                         2.362140                       13.945556   \n",
       "3                        16.136098                       13.945556   \n",
       "4                        26.079273                       13.945556   \n",
       "\n",
       "   ('Popcorn & Chips', 'Cold Drinks')  ('Popcorn & Chips', 'Hot Drinks')  \n",
       "0                            3.336788                           3.103721  \n",
       "1                            3.154546                           3.103721  \n",
       "2                            1.384569                           3.103721  \n",
       "3                            3.198477                           3.103721  \n",
       "4                            3.175008                           3.103721  "
      ]
     },
     "execution_count": 10,
     "metadata": {},
     "output_type": "execute_result"
    }
   ],
   "source": [
    "SB_snack_8 = pd.read_csv ('SB_snack_8.csv',  skiprows=1, names=combi_list , sep=(','))\n",
    "SB_snack_8.head()"
   ]
  },
  {
   "cell_type": "code",
   "execution_count": 11,
   "metadata": {
    "ExecuteTime": {
     "end_time": "2019-10-07T17:09:11.706909Z",
     "start_time": "2019-10-07T17:09:11.657906Z"
    }
   },
   "outputs": [
    {
     "data": {
      "text/html": [
       "<div>\n",
       "<style scoped>\n",
       "    .dataframe tbody tr th:only-of-type {\n",
       "        vertical-align: middle;\n",
       "    }\n",
       "\n",
       "    .dataframe tbody tr th {\n",
       "        vertical-align: top;\n",
       "    }\n",
       "\n",
       "    .dataframe thead th {\n",
       "        text-align: right;\n",
       "    }\n",
       "</style>\n",
       "<table border=\"1\" class=\"dataframe\">\n",
       "  <thead>\n",
       "    <tr style=\"text-align: right;\">\n",
       "      <th></th>\n",
       "      <th>('Meat &amp; Cheese', 'Cold Drinks')</th>\n",
       "      <th>('Meat &amp; Cheese', 'Hot Drinks')</th>\n",
       "      <th>('Snack Bars', 'Cold Drinks')</th>\n",
       "      <th>('Snack Bars', 'Hot Drinks')</th>\n",
       "      <th>('Fruit &amp; Nuts', 'Cold Drinks')</th>\n",
       "      <th>('Fruit &amp; Nuts', 'Hot Drinks')</th>\n",
       "      <th>('Popcorn &amp; Chips', 'Cold Drinks')</th>\n",
       "      <th>('Popcorn &amp; Chips', 'Hot Drinks')</th>\n",
       "    </tr>\n",
       "  </thead>\n",
       "  <tbody>\n",
       "    <tr>\n",
       "      <th>count</th>\n",
       "      <td>378.000000</td>\n",
       "      <td>108.000000</td>\n",
       "      <td>378.000000</td>\n",
       "      <td>234.000000</td>\n",
       "      <td>378.000000</td>\n",
       "      <td>180.000000</td>\n",
       "      <td>378.000000</td>\n",
       "      <td>216.000000</td>\n",
       "    </tr>\n",
       "    <tr>\n",
       "      <th>mean</th>\n",
       "      <td>4.978806</td>\n",
       "      <td>5.927889</td>\n",
       "      <td>4.629799</td>\n",
       "      <td>3.341391</td>\n",
       "      <td>5.725456</td>\n",
       "      <td>4.892880</td>\n",
       "      <td>3.587614</td>\n",
       "      <td>2.681264</td>\n",
       "    </tr>\n",
       "    <tr>\n",
       "      <th>std</th>\n",
       "      <td>4.747167</td>\n",
       "      <td>9.100628</td>\n",
       "      <td>3.741808</td>\n",
       "      <td>2.486029</td>\n",
       "      <td>5.679860</td>\n",
       "      <td>4.650731</td>\n",
       "      <td>1.562597</td>\n",
       "      <td>1.477885</td>\n",
       "    </tr>\n",
       "    <tr>\n",
       "      <th>min</th>\n",
       "      <td>0.826407</td>\n",
       "      <td>0.805589</td>\n",
       "      <td>1.181723</td>\n",
       "      <td>1.277968</td>\n",
       "      <td>0.785769</td>\n",
       "      <td>1.296134</td>\n",
       "      <td>1.079806</td>\n",
       "      <td>1.094285</td>\n",
       "    </tr>\n",
       "    <tr>\n",
       "      <th>25%</th>\n",
       "      <td>2.200463</td>\n",
       "      <td>1.787176</td>\n",
       "      <td>2.308649</td>\n",
       "      <td>1.834076</td>\n",
       "      <td>2.366745</td>\n",
       "      <td>2.062470</td>\n",
       "      <td>2.277743</td>\n",
       "      <td>1.675119</td>\n",
       "    </tr>\n",
       "    <tr>\n",
       "      <th>50%</th>\n",
       "      <td>3.235560</td>\n",
       "      <td>2.204145</td>\n",
       "      <td>3.133614</td>\n",
       "      <td>2.328956</td>\n",
       "      <td>3.365088</td>\n",
       "      <td>2.990200</td>\n",
       "      <td>3.126361</td>\n",
       "      <td>2.128542</td>\n",
       "    </tr>\n",
       "    <tr>\n",
       "      <th>75%</th>\n",
       "      <td>7.220163</td>\n",
       "      <td>3.602686</td>\n",
       "      <td>5.650270</td>\n",
       "      <td>3.813801</td>\n",
       "      <td>6.077396</td>\n",
       "      <td>4.476233</td>\n",
       "      <td>4.949951</td>\n",
       "      <td>3.103721</td>\n",
       "    </tr>\n",
       "    <tr>\n",
       "      <th>max</th>\n",
       "      <td>37.468000</td>\n",
       "      <td>37.294000</td>\n",
       "      <td>23.834689</td>\n",
       "      <td>14.159429</td>\n",
       "      <td>26.341714</td>\n",
       "      <td>17.763077</td>\n",
       "      <td>8.632348</td>\n",
       "      <td>7.762348</td>\n",
       "    </tr>\n",
       "  </tbody>\n",
       "</table>\n",
       "</div>"
      ],
      "text/plain": [
       "       ('Meat & Cheese', 'Cold Drinks')  ('Meat & Cheese', 'Hot Drinks')  \\\n",
       "count                        378.000000                       108.000000   \n",
       "mean                           4.978806                         5.927889   \n",
       "std                            4.747167                         9.100628   \n",
       "min                            0.826407                         0.805589   \n",
       "25%                            2.200463                         1.787176   \n",
       "50%                            3.235560                         2.204145   \n",
       "75%                            7.220163                         3.602686   \n",
       "max                           37.468000                        37.294000   \n",
       "\n",
       "       ('Snack Bars', 'Cold Drinks')  ('Snack Bars', 'Hot Drinks')  \\\n",
       "count                     378.000000                    234.000000   \n",
       "mean                        4.629799                      3.341391   \n",
       "std                         3.741808                      2.486029   \n",
       "min                         1.181723                      1.277968   \n",
       "25%                         2.308649                      1.834076   \n",
       "50%                         3.133614                      2.328956   \n",
       "75%                         5.650270                      3.813801   \n",
       "max                        23.834689                     14.159429   \n",
       "\n",
       "       ('Fruit & Nuts', 'Cold Drinks')  ('Fruit & Nuts', 'Hot Drinks')  \\\n",
       "count                       378.000000                      180.000000   \n",
       "mean                          5.725456                        4.892880   \n",
       "std                           5.679860                        4.650731   \n",
       "min                           0.785769                        1.296134   \n",
       "25%                           2.366745                        2.062470   \n",
       "50%                           3.365088                        2.990200   \n",
       "75%                           6.077396                        4.476233   \n",
       "max                          26.341714                       17.763077   \n",
       "\n",
       "       ('Popcorn & Chips', 'Cold Drinks')  ('Popcorn & Chips', 'Hot Drinks')  \n",
       "count                          378.000000                         216.000000  \n",
       "mean                             3.587614                           2.681264  \n",
       "std                              1.562597                           1.477885  \n",
       "min                              1.079806                           1.094285  \n",
       "25%                              2.277743                           1.675119  \n",
       "50%                              3.126361                           2.128542  \n",
       "75%                              4.949951                           3.103721  \n",
       "max                              8.632348                           7.762348  "
      ]
     },
     "execution_count": 11,
     "metadata": {},
     "output_type": "execute_result"
    }
   ],
   "source": [
    "# cols of different length!\n",
    "SB_snack_8.describe()"
   ]
  },
  {
   "cell_type": "code",
   "execution_count": 15,
   "metadata": {
    "ExecuteTime": {
     "end_time": "2019-10-07T17:09:45.186824Z",
     "start_time": "2019-10-07T17:09:44.936809Z"
    },
    "scrolled": true
   },
   "outputs": [
    {
     "data": {
      "text/plain": [
       "<matplotlib.axes._subplots.AxesSubplot at 0x8d3e0b8>"
      ]
     },
     "execution_count": 15,
     "metadata": {},
     "output_type": "execute_result"
    },
    {
     "data": {
      "image/png": "[encoded data removed]",
      "text/plain": [
       "<Figure size 576x288 with 1 Axes>"
      ]
     },
     "metadata": {
      "needs_background": "light"
     },
     "output_type": "display_data"
    }
   ],
   "source": [
    "# B_index mean values for all groups\n",
    "cols = pd.Index.to_list(SB_snack_8.columns[0:])\n",
    "SB_snack_8[cols].mean().plot(kind = 'bar', subplots = False, width = 0.5, figsize = (8,4), grid = True)"
   ]
  },
  {
   "cell_type": "code",
   "execution_count": 19,
   "metadata": {
    "ExecuteTime": {
     "end_time": "2019-10-07T17:30:39.925261Z",
     "start_time": "2019-10-07T17:30:39.919261Z"
    }
   },
   "outputs": [],
   "source": [
    "# Snacks can be wieved as additional meal, which is insufficient as\n",
    "# single option. It could be used for fast meal 'in field', in long bus travel, e t.c.\n",
    "# (may be cold drinks more preferable as they could be carry-out)\n",
    "# Due to this reason we do not delete any combinations from the dataset\n",
    "\n",
    "# Extremely poor items with mean > 5 (very low values in relation to norms) \n",
    "# could be combined together within single meal\n",
    "SB_snack_all = SB_snack_8"
   ]
  },
  {
   "cell_type": "code",
   "execution_count": 20,
   "metadata": {
    "ExecuteTime": {
     "end_time": "2019-10-07T17:30:40.373287Z",
     "start_time": "2019-10-07T17:30:40.357286Z"
    }
   },
   "outputs": [],
   "source": [
    "SB_snack_all.to_csv ('SB_snack_all.csv')"
   ]
  }
 ],
 "metadata": {
  "hide_input": false,
  "kernelspec": {
   "display_name": "Python 3",
   "language": "python",
   "name": "python3"
  },
  "language_info": {
   "codemirror_mode": {
    "name": "ipython",
    "version": 3
   },
   "file_extension": ".py",
   "mimetype": "text/x-python",
   "name": "python",
   "nbconvert_exporter": "python",
   "pygments_lexer": "ipython3",
   "version": "3.7.1"
  }
 },
 "nbformat": 4,
 "nbformat_minor": 2
}
