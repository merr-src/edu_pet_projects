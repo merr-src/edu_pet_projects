{
 "cells": [
  {
   "cell_type": "markdown",
   "metadata": {},
   "source": [
    "## Analytics in terms of B-index"
   ]
  },
  {
   "cell_type": "markdown",
   "metadata": {},
   "source": [
    "### 1. \"Snack\" SB combination set "
   ]
  },
  {
   "cell_type": "code",
   "execution_count": 1,
   "metadata": {
    "ExecuteTime": {
     "end_time": "2019-10-06T16:34:05.738460Z",
     "start_time": "2019-10-06T16:34:04.846409Z"
    }
   },
   "outputs": [],
   "source": [
    "# required imports\n",
    "import pandas as pd\n",
    "from matplotlib import pyplot as plt\n",
    "%matplotlib inline"
   ]
  },
  {
   "cell_type": "code",
   "execution_count": 3,
   "metadata": {
    "ExecuteTime": {
     "end_time": "2019-10-06T16:35:03.240749Z",
     "start_time": "2019-10-06T16:35:03.202746Z"
    }
   },
   "outputs": [
    {
     "data": {
      "text/html": [
       "<div>\n",
       "<style scoped>\n",
       "    .dataframe tbody tr th:only-of-type {\n",
       "        vertical-align: middle;\n",
       "    }\n",
       "\n",
       "    .dataframe tbody tr th {\n",
       "        vertical-align: top;\n",
       "    }\n",
       "\n",
       "    .dataframe thead th {\n",
       "        text-align: right;\n",
       "    }\n",
       "</style>\n",
       "<table border=\"1\" class=\"dataframe\">\n",
       "  <thead>\n",
       "    <tr style=\"text-align: right;\">\n",
       "      <th></th>\n",
       "      <th>1</th>\n",
       "      <th>2</th>\n",
       "    </tr>\n",
       "  </thead>\n",
       "  <tbody>\n",
       "    <tr>\n",
       "      <th>0</th>\n",
       "      <td>('Meat &amp; Cheese'</td>\n",
       "      <td>'Cold Drinks')</td>\n",
       "    </tr>\n",
       "    <tr>\n",
       "      <th>1</th>\n",
       "      <td>('Meat &amp; Cheese'</td>\n",
       "      <td>'Hot Drinks')</td>\n",
       "    </tr>\n",
       "    <tr>\n",
       "      <th>2</th>\n",
       "      <td>('Snack Bars'</td>\n",
       "      <td>'Cold Drinks')</td>\n",
       "    </tr>\n",
       "    <tr>\n",
       "      <th>3</th>\n",
       "      <td>('Snack Bars'</td>\n",
       "      <td>'Hot Drinks')</td>\n",
       "    </tr>\n",
       "    <tr>\n",
       "      <th>4</th>\n",
       "      <td>('Fruit &amp; Nuts'</td>\n",
       "      <td>'Cold Drinks')</td>\n",
       "    </tr>\n",
       "    <tr>\n",
       "      <th>5</th>\n",
       "      <td>('Fruit &amp; Nuts'</td>\n",
       "      <td>'Hot Drinks')</td>\n",
       "    </tr>\n",
       "    <tr>\n",
       "      <th>6</th>\n",
       "      <td>('Popcorn &amp; Chips'</td>\n",
       "      <td>'Cold Drinks')</td>\n",
       "    </tr>\n",
       "    <tr>\n",
       "      <th>7</th>\n",
       "      <td>('Popcorn &amp; Chips'</td>\n",
       "      <td>'Hot Drinks')</td>\n",
       "    </tr>\n",
       "  </tbody>\n",
       "</table>\n",
       "</div>"
      ],
      "text/plain": [
       "                    1                2\n",
       "0    ('Meat & Cheese'   'Cold Drinks')\n",
       "1    ('Meat & Cheese'    'Hot Drinks')\n",
       "2       ('Snack Bars'   'Cold Drinks')\n",
       "3       ('Snack Bars'    'Hot Drinks')\n",
       "4     ('Fruit & Nuts'   'Cold Drinks')\n",
       "5     ('Fruit & Nuts'    'Hot Drinks')\n",
       "6  ('Popcorn & Chips'   'Cold Drinks')\n",
       "7  ('Popcorn & Chips'    'Hot Drinks')"
      ]
     },
     "execution_count": 3,
     "metadata": {},
     "output_type": "execute_result"
    }
   ],
   "source": [
    "# list with 8 combinations of 2 items, they specified in same order \n",
    "# as B_index cols in df below: 1-st line '('Soups', 'Bakery', 'Cold Drinks')' \n",
    "# --> 1-st col 'SB_solid_b_0' and so on\n",
    "combinations = pd.read_csv (\"SB_snack_8.txt\", names = ['1','2'])\n",
    "combinations"
   ]
  },
  {
   "cell_type": "code",
   "execution_count": 4,
   "metadata": {
    "ExecuteTime": {
     "end_time": "2019-10-06T16:35:15.990478Z",
     "start_time": "2019-10-06T16:35:15.926474Z"
    }
   },
   "outputs": [
    {
     "data": {
      "text/html": [
       "<div>\n",
       "<style scoped>\n",
       "    .dataframe tbody tr th:only-of-type {\n",
       "        vertical-align: middle;\n",
       "    }\n",
       "\n",
       "    .dataframe tbody tr th {\n",
       "        vertical-align: top;\n",
       "    }\n",
       "\n",
       "    .dataframe thead th {\n",
       "        text-align: right;\n",
       "    }\n",
       "</style>\n",
       "<table border=\"1\" class=\"dataframe\">\n",
       "  <thead>\n",
       "    <tr style=\"text-align: right;\">\n",
       "      <th></th>\n",
       "      <th>SB_snack_0</th>\n",
       "      <th>SB_snack_1</th>\n",
       "      <th>SB_snack_2</th>\n",
       "      <th>SB_snack_3</th>\n",
       "      <th>SB_snack_4</th>\n",
       "      <th>SB_snack_5</th>\n",
       "      <th>SB_snack_6</th>\n",
       "      <th>SB_snack_7</th>\n",
       "    </tr>\n",
       "  </thead>\n",
       "  <tbody>\n",
       "    <tr>\n",
       "      <th>0</th>\n",
       "      <td>3.123703</td>\n",
       "      <td>0.805589</td>\n",
       "      <td>2.589316</td>\n",
       "      <td>2.876299</td>\n",
       "      <td>16.284737</td>\n",
       "      <td>13.945556</td>\n",
       "      <td>3.336788</td>\n",
       "      <td>3.103721</td>\n",
       "    </tr>\n",
       "    <tr>\n",
       "      <th>1</th>\n",
       "      <td>3.430673</td>\n",
       "      <td>0.805589</td>\n",
       "      <td>2.375091</td>\n",
       "      <td>2.876299</td>\n",
       "      <td>16.081333</td>\n",
       "      <td>13.945556</td>\n",
       "      <td>3.154546</td>\n",
       "      <td>3.103721</td>\n",
       "    </tr>\n",
       "    <tr>\n",
       "      <th>2</th>\n",
       "      <td>1.174813</td>\n",
       "      <td>0.805589</td>\n",
       "      <td>1.261154</td>\n",
       "      <td>2.876299</td>\n",
       "      <td>2.362140</td>\n",
       "      <td>13.945556</td>\n",
       "      <td>1.384569</td>\n",
       "      <td>3.103721</td>\n",
       "    </tr>\n",
       "    <tr>\n",
       "      <th>3</th>\n",
       "      <td>3.831625</td>\n",
       "      <td>0.805589</td>\n",
       "      <td>2.435341</td>\n",
       "      <td>2.876299</td>\n",
       "      <td>16.136098</td>\n",
       "      <td>13.945556</td>\n",
       "      <td>3.198477</td>\n",
       "      <td>3.103721</td>\n",
       "    </tr>\n",
       "    <tr>\n",
       "      <th>4</th>\n",
       "      <td>1.730427</td>\n",
       "      <td>0.805589</td>\n",
       "      <td>2.400485</td>\n",
       "      <td>2.876299</td>\n",
       "      <td>26.079273</td>\n",
       "      <td>13.945556</td>\n",
       "      <td>3.175008</td>\n",
       "      <td>3.103721</td>\n",
       "    </tr>\n",
       "  </tbody>\n",
       "</table>\n",
       "</div>"
      ],
      "text/plain": [
       "   SB_snack_0  SB_snack_1  SB_snack_2  SB_snack_3  SB_snack_4  SB_snack_5  \\\n",
       "0    3.123703    0.805589    2.589316    2.876299   16.284737   13.945556   \n",
       "1    3.430673    0.805589    2.375091    2.876299   16.081333   13.945556   \n",
       "2    1.174813    0.805589    1.261154    2.876299    2.362140   13.945556   \n",
       "3    3.831625    0.805589    2.435341    2.876299   16.136098   13.945556   \n",
       "4    1.730427    0.805589    2.400485    2.876299   26.079273   13.945556   \n",
       "\n",
       "   SB_snack_6  SB_snack_7  \n",
       "0    3.336788    3.103721  \n",
       "1    3.154546    3.103721  \n",
       "2    1.384569    3.103721  \n",
       "3    3.198477    3.103721  \n",
       "4    3.175008    3.103721  "
      ]
     },
     "execution_count": 4,
     "metadata": {},
     "output_type": "execute_result"
    }
   ],
   "source": [
    "SB_snack_8 = pd.read_csv ('SB_snack_8.csv', sep=(','))\n",
    "SB_snack_8.head ()"
   ]
  },
  {
   "cell_type": "code",
   "execution_count": 5,
   "metadata": {
    "ExecuteTime": {
     "end_time": "2019-10-06T16:35:23.399902Z",
     "start_time": "2019-10-06T16:35:23.368900Z"
    }
   },
   "outputs": [
    {
     "name": "stdout",
     "output_type": "stream",
     "text": [
      "<class 'pandas.core.frame.DataFrame'>\n",
      "RangeIndex: 378 entries, 0 to 377\n",
      "Data columns (total 8 columns):\n",
      "SB_snack_0    378 non-null float64\n",
      "SB_snack_1    108 non-null float64\n",
      "SB_snack_2    378 non-null float64\n",
      "SB_snack_3    234 non-null float64\n",
      "SB_snack_4    378 non-null float64\n",
      "SB_snack_5    180 non-null float64\n",
      "SB_snack_6    378 non-null float64\n",
      "SB_snack_7    216 non-null float64\n",
      "dtypes: float64(8)\n",
      "memory usage: 23.7 KB\n"
     ]
    }
   ],
   "source": [
    "# different combinations of groups gave different combinations of items\n",
    "SB_snack_8.info()"
   ]
  },
  {
   "cell_type": "code",
   "execution_count": 6,
   "metadata": {
    "ExecuteTime": {
     "end_time": "2019-10-06T16:35:32.833441Z",
     "start_time": "2019-10-06T16:35:32.779438Z"
    }
   },
   "outputs": [
    {
     "data": {
      "text/html": [
       "<div>\n",
       "<style scoped>\n",
       "    .dataframe tbody tr th:only-of-type {\n",
       "        vertical-align: middle;\n",
       "    }\n",
       "\n",
       "    .dataframe tbody tr th {\n",
       "        vertical-align: top;\n",
       "    }\n",
       "\n",
       "    .dataframe thead th {\n",
       "        text-align: right;\n",
       "    }\n",
       "</style>\n",
       "<table border=\"1\" class=\"dataframe\">\n",
       "  <thead>\n",
       "    <tr style=\"text-align: right;\">\n",
       "      <th></th>\n",
       "      <th>SB_snack_0</th>\n",
       "      <th>SB_snack_1</th>\n",
       "      <th>SB_snack_2</th>\n",
       "      <th>SB_snack_3</th>\n",
       "      <th>SB_snack_4</th>\n",
       "      <th>SB_snack_5</th>\n",
       "      <th>SB_snack_6</th>\n",
       "      <th>SB_snack_7</th>\n",
       "    </tr>\n",
       "  </thead>\n",
       "  <tbody>\n",
       "    <tr>\n",
       "      <th>count</th>\n",
       "      <td>378.000000</td>\n",
       "      <td>108.000000</td>\n",
       "      <td>378.000000</td>\n",
       "      <td>234.000000</td>\n",
       "      <td>378.000000</td>\n",
       "      <td>180.000000</td>\n",
       "      <td>378.000000</td>\n",
       "      <td>216.000000</td>\n",
       "    </tr>\n",
       "    <tr>\n",
       "      <th>mean</th>\n",
       "      <td>4.978806</td>\n",
       "      <td>5.927889</td>\n",
       "      <td>4.629799</td>\n",
       "      <td>3.341391</td>\n",
       "      <td>5.725456</td>\n",
       "      <td>4.892880</td>\n",
       "      <td>3.587614</td>\n",
       "      <td>2.681264</td>\n",
       "    </tr>\n",
       "    <tr>\n",
       "      <th>std</th>\n",
       "      <td>4.747167</td>\n",
       "      <td>9.100628</td>\n",
       "      <td>3.741808</td>\n",
       "      <td>2.486029</td>\n",
       "      <td>5.679860</td>\n",
       "      <td>4.650731</td>\n",
       "      <td>1.562597</td>\n",
       "      <td>1.477885</td>\n",
       "    </tr>\n",
       "    <tr>\n",
       "      <th>min</th>\n",
       "      <td>0.826407</td>\n",
       "      <td>0.805589</td>\n",
       "      <td>1.181723</td>\n",
       "      <td>1.277968</td>\n",
       "      <td>0.785769</td>\n",
       "      <td>1.296134</td>\n",
       "      <td>1.079806</td>\n",
       "      <td>1.094285</td>\n",
       "    </tr>\n",
       "    <tr>\n",
       "      <th>25%</th>\n",
       "      <td>2.200463</td>\n",
       "      <td>1.787176</td>\n",
       "      <td>2.308649</td>\n",
       "      <td>1.834076</td>\n",
       "      <td>2.366745</td>\n",
       "      <td>2.062470</td>\n",
       "      <td>2.277743</td>\n",
       "      <td>1.675119</td>\n",
       "    </tr>\n",
       "    <tr>\n",
       "      <th>50%</th>\n",
       "      <td>3.235560</td>\n",
       "      <td>2.204145</td>\n",
       "      <td>3.133614</td>\n",
       "      <td>2.328956</td>\n",
       "      <td>3.365088</td>\n",
       "      <td>2.990200</td>\n",
       "      <td>3.126361</td>\n",
       "      <td>2.128542</td>\n",
       "    </tr>\n",
       "    <tr>\n",
       "      <th>75%</th>\n",
       "      <td>7.220163</td>\n",
       "      <td>3.602686</td>\n",
       "      <td>5.650270</td>\n",
       "      <td>3.813801</td>\n",
       "      <td>6.077396</td>\n",
       "      <td>4.476233</td>\n",
       "      <td>4.949951</td>\n",
       "      <td>3.103721</td>\n",
       "    </tr>\n",
       "    <tr>\n",
       "      <th>max</th>\n",
       "      <td>37.468000</td>\n",
       "      <td>37.294000</td>\n",
       "      <td>23.834689</td>\n",
       "      <td>14.159429</td>\n",
       "      <td>26.341714</td>\n",
       "      <td>17.763077</td>\n",
       "      <td>8.632348</td>\n",
       "      <td>7.762348</td>\n",
       "    </tr>\n",
       "  </tbody>\n",
       "</table>\n",
       "</div>"
      ],
      "text/plain": [
       "       SB_snack_0  SB_snack_1  SB_snack_2  SB_snack_3  SB_snack_4  SB_snack_5  \\\n",
       "count  378.000000  108.000000  378.000000  234.000000  378.000000  180.000000   \n",
       "mean     4.978806    5.927889    4.629799    3.341391    5.725456    4.892880   \n",
       "std      4.747167    9.100628    3.741808    2.486029    5.679860    4.650731   \n",
       "min      0.826407    0.805589    1.181723    1.277968    0.785769    1.296134   \n",
       "25%      2.200463    1.787176    2.308649    1.834076    2.366745    2.062470   \n",
       "50%      3.235560    2.204145    3.133614    2.328956    3.365088    2.990200   \n",
       "75%      7.220163    3.602686    5.650270    3.813801    6.077396    4.476233   \n",
       "max     37.468000   37.294000   23.834689   14.159429   26.341714   17.763077   \n",
       "\n",
       "       SB_snack_6  SB_snack_7  \n",
       "count  378.000000  216.000000  \n",
       "mean     3.587614    2.681264  \n",
       "std      1.562597    1.477885  \n",
       "min      1.079806    1.094285  \n",
       "25%      2.277743    1.675119  \n",
       "50%      3.126361    2.128542  \n",
       "75%      4.949951    3.103721  \n",
       "max      8.632348    7.762348  "
      ]
     },
     "execution_count": 6,
     "metadata": {},
     "output_type": "execute_result"
    }
   ],
   "source": [
    "# cols of different length!\n",
    "SB_snack_8.describe()"
   ]
  },
  {
   "cell_type": "code",
   "execution_count": 7,
   "metadata": {
    "ExecuteTime": {
     "end_time": "2019-10-06T16:35:41.437933Z",
     "start_time": "2019-10-06T16:35:41.393931Z"
    }
   },
   "outputs": [
    {
     "data": {
      "text/plain": [
       "(4.536, 5.0]      3\n",
       "(5.464, 5.928]    2\n",
       "(3.145, 3.609]    2\n",
       "(2.677, 3.145]    1\n",
       "(5.0, 5.464]      0\n",
       "(4.073, 4.536]    0\n",
       "(3.609, 4.073]    0\n",
       "dtype: int64"
      ]
     },
     "execution_count": 7,
     "metadata": {},
     "output_type": "execute_result"
    }
   ],
   "source": [
    "# mean B-index of the subset:\n",
    "SB_snack_8.mean().value_counts (bins=7)"
   ]
  },
  {
   "cell_type": "code",
   "execution_count": 13,
   "metadata": {
    "ExecuteTime": {
     "end_time": "2019-10-06T16:36:28.407620Z",
     "start_time": "2019-10-06T16:36:28.158606Z"
    },
    "scrolled": true
   },
   "outputs": [
    {
     "data": {
      "text/plain": [
       "<matplotlib.axes._subplots.AxesSubplot at 0x8f81eb8>"
      ]
     },
     "execution_count": 13,
     "metadata": {},
     "output_type": "execute_result"
    },
    {
     "data": {
      "image/png": "[encoded data removed]",
      "text/plain": [
       "<Figure size 576x288 with 1 Axes>"
      ]
     },
     "metadata": {
      "needs_background": "light"
     },
     "output_type": "display_data"
    }
   ],
   "source": [
    "# B_index mean values for all groups\n",
    "cols = pd.Index.to_list(SB_snack_8.columns[0:])\n",
    "SB_snack_8[cols].mean().plot(kind = 'bar', \n",
    "                                subplots = False, \n",
    "                                width = 0.5, \n",
    "                                figsize = (8,4),\n",
    "                                grid = True)"
   ]
  },
  {
   "cell_type": "code",
   "execution_count": null,
   "metadata": {},
   "outputs": [],
   "source": []
  }
 ],
 "metadata": {
  "hide_input": false,
  "kernelspec": {
   "display_name": "Python 3",
   "language": "python",
   "name": "python3"
  },
  "language_info": {
   "codemirror_mode": {
    "name": "ipython",
    "version": 3
   },
   "file_extension": ".py",
   "mimetype": "text/x-python",
   "name": "python",
   "nbconvert_exporter": "python",
   "pygments_lexer": "ipython3",
   "version": "3.7.1"
  }
 },
 "nbformat": 4,
 "nbformat_minor": 2
}
